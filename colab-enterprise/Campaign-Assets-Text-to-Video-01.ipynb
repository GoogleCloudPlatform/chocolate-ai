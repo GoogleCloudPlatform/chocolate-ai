{
  "cells": [
    {
      "cell_type": "markdown",
      "metadata": {
        "id": "HMsUvoF4BP7Y"
      },
      "source": [
        "### To Do / License"
      ]
    },
    {
      "cell_type": "markdown",
      "metadata": {
        "id": "l85J9wppHuh3"
      },
      "source": [
        "- Create a Marketing campaign Video idea\n",
        "- Need to make sure the idea checks off 75% of the ABCD detector tests\n",
        "- The video will be used for running through the ABCD detector\n",
        "- Generate many 6 second Veo videos\n",
        "- Combine them into a single video\n",
        "- Pass the video to Gemini and ask it to write a script\n",
        "- Pass the script to text to speech\n",
        "- Combine the speech with the video (can we do in Python?  Camtasia)\n"
      ]
    },
    {
      "cell_type": "markdown",
      "metadata": {
        "id": "jQgQkbOvj55d"
      },
      "source": [
        "```\n",
        "# Copyright 2024 Google LLC\n",
        "#\n",
        "# Licensed under the Apache License, Version 2.0 (the \"License\");\n",
        "# you may not use this file except in compliance with the License.\n",
        "# You may obtain a copy of the License at\n",
        "#\n",
        "#     https://www.apache.org/licenses/LICENSE-2.0\n",
        "#\n",
        "# Unless required by applicable law or agreed to in writing, software\n",
        "# distributed under the License is distributed on an \"AS IS\" BASIS,\n",
        "# WITHOUT WARRANTIES OR CONDITIONS OF ANY KIND, either express or implied.\n",
        "# See the License for the specific language governing permissions and\n",
        "# limitations under the License.\n",
        "```\n",
        "\n",
        "Author: Adam Paternostro"
      ]
    },
    {
      "cell_type": "markdown",
      "metadata": {
        "id": "m65vp54BUFRi"
      },
      "source": [
        "### Pip installs"
      ]
    },
    {
      "cell_type": "code",
      "execution_count": null,
      "metadata": {
        "id": "5MaWM6H5i6rX"
      },
      "outputs": [],
      "source": [
        "# To read/write to/from Kafka\n",
        "import sys\n",
        "\n",
        "# https://pypi.org/project/moviepy/\n",
        "!{sys.executable} -m pip install moviepy"
      ]
    },
    {
      "cell_type": "markdown",
      "metadata": {
        "id": "UmyL-Rg4Dr_f"
      },
      "source": [
        "### Initialize"
      ]
    },
    {
      "cell_type": "code",
      "execution_count": null,
      "metadata": {
        "id": "xOYsEVSXp6IP"
      },
      "outputs": [],
      "source": [
        "from PIL import Image\n",
        "from IPython.display import HTML\n",
        "from IPython.display import Audio\n",
        "from functools import reduce\n",
        "import IPython.display\n",
        "import google.auth\n",
        "import requests\n",
        "import json\n",
        "import uuid\n",
        "import base64\n",
        "import os\n",
        "import cv2\n",
        "import random\n",
        "import time\n",
        "import datetime\n",
        "import base64\n",
        "import random\n",
        "import datetime"
      ]
    },
    {
      "cell_type": "code",
      "execution_count": null,
      "metadata": {
        "id": "wMlHl3bnkFPZ"
      },
      "outputs": [],
      "source": [
        "# Set these (run this cell to verify the output)\n",
        "\n",
        "bigquery_location = \"us\"\n",
        "region = \"us-central1\"\n",
        "location = \"us-central1\"\n",
        "storage_account = \"data-analytics-preview\"\n",
        "dataset_name = \"chocolate_ai\"\n",
        "public_storage_storage_account = \"data-analytics-golden-demo\"\n",
        "\n",
        "# Get the current date and time\n",
        "now = datetime.datetime.now()\n",
        "\n",
        "# Format the date and time as desired\n",
        "formatted_date = now.strftime(\"%Y-%m-%d-%H-%M\")\n",
        "\n",
        "# Get some values using gcloud\n",
        "project_id = !(gcloud config get-value project)\n",
        "user = !(gcloud auth list --filter=status:ACTIVE --format=\"value(account)\")\n",
        "\n",
        "if len(project_id) != 1:\n",
        "  raise RuntimeError(f\"project_id is not set: {project_id}\")\n",
        "project_id = project_id[0]\n",
        "\n",
        "if len(user) != 1:\n",
        "  raise RuntimeError(f\"user is not set: {user}\")\n",
        "user = user[0]\n",
        "\n",
        "print(f\"project_id = {project_id}\")\n",
        "print(f\"user = {user}\")"
      ]
    },
    {
      "cell_type": "markdown",
      "metadata": {
        "id": "sZ6m_wGrK0YG"
      },
      "source": [
        "### Helper Methods"
      ]
    },
    {
      "cell_type": "markdown",
      "metadata": {
        "id": "JbOjdSP1kN9T"
      },
      "source": [
        "#### restAPIHelper\n",
        "Calls the Google Cloud REST API using the current users credentials."
      ]
    },
    {
      "cell_type": "code",
      "execution_count": null,
      "metadata": {
        "id": "40wlwnY4kM11"
      },
      "outputs": [],
      "source": [
        "def restAPIHelper(url: str, http_verb: str, request_body: str) -> str:\n",
        "  \"\"\"Calls the Google Cloud REST API passing in the current users credentials\"\"\"\n",
        "\n",
        "  import requests\n",
        "  import google.auth\n",
        "  import json\n",
        "\n",
        "  # Get an access token based upon the current user\n",
        "  creds, project = google.auth.default()\n",
        "  auth_req = google.auth.transport.requests.Request()\n",
        "  creds.refresh(auth_req)\n",
        "  access_token=creds.token\n",
        "\n",
        "  headers = {\n",
        "    \"Content-Type\" : \"application/json\",\n",
        "    \"Authorization\" : \"Bearer \" + access_token\n",
        "  }\n",
        "\n",
        "  if http_verb == \"GET\":\n",
        "    response = requests.get(url, headers=headers)\n",
        "  elif http_verb == \"POST\":\n",
        "    response = requests.post(url, json=request_body, headers=headers)\n",
        "  elif http_verb == \"PUT\":\n",
        "    response = requests.put(url, json=request_body, headers=headers)\n",
        "  elif http_verb == \"PATCH\":\n",
        "    response = requests.patch(url, json=request_body, headers=headers)\n",
        "  elif http_verb == \"DELETE\":\n",
        "    response = requests.delete(url, headers=headers)\n",
        "  else:\n",
        "    raise RuntimeError(f\"Unknown HTTP verb: {http_verb}\")\n",
        "\n",
        "  if response.status_code == 200:\n",
        "    return json.loads(response.content)\n",
        "    #image_data = json.loads(response.content)[\"predictions\"][0][\"bytesBase64Encoded\"]\n",
        "  else:\n",
        "    error = f\"Error restAPIHelper -> ' Status: '{response.status_code}' Text: '{response.text}'\"\n",
        "    raise RuntimeError(error)"
      ]
    },
    {
      "cell_type": "markdown",
      "source": [
        "#### Gemini LLM (Pro 1.0 , Pro 1.5)"
      ],
      "metadata": {
        "id": "Hh6lubX6VTHv"
      }
    },
    {
      "cell_type": "code",
      "source": [
        "def GeminiLLM(prompt, model = \"gemini-1.5-pro-001\", response_schema = None,\n",
        "                 temperature = 1, topP = 1, topK = 32):\n",
        "\n",
        "  # https://cloud.google.com/vertex-ai/generative-ai/docs/model-reference/inference#supported_models\n",
        "  # model = \"gemini-1.5-pro-001\"\n",
        "  # model = \"gemini-pro\" # This does support topK (but the function is more generic)\n",
        "  # model = \"gemini-1.0-pro\" # This does not support response_schema\n",
        "\n",
        "  llm_response = None\n",
        "  if temperature < 0:\n",
        "    temperature = 0\n",
        "\n",
        "  creds, project = google.auth.default()\n",
        "  auth_req = google.auth.transport.requests.Request() # required to acess access token\n",
        "  creds.refresh(auth_req)\n",
        "  access_token=creds.token\n",
        "\n",
        "  headers = {\n",
        "      \"Content-Type\" : \"application/json\",\n",
        "      \"Authorization\" : \"Bearer \" + access_token\n",
        "  }\n",
        "\n",
        "  # https://cloud.google.com/vertex-ai/generative-ai/docs/model-reference/inference\n",
        "  url = f\"https://{location}-aiplatform.googleapis.com/v1/projects/{project_id}/locations/{location}/publishers/google/models/{model}:generateContent\"\n",
        "\n",
        "  generation_config = {\n",
        "    \"temperature\": temperature,\n",
        "    \"topP\": topP,\n",
        "    \"maxOutputTokens\": 8192,\n",
        "    \"candidateCount\": 1,\n",
        "    \"responseMimeType\": \"application/json\",\n",
        "  }\n",
        "\n",
        "  # Add inthe response schema for when it is provided\n",
        "  if response_schema is not None:\n",
        "    generation_config[\"responseSchema\"] = response_schema\n",
        "\n",
        "  if model == \"gemini-pro\" or model == \"gemini-1.0-pro\" or model == \"gemini-1.0-pro-vision-001\":\n",
        "    generation_config[\"topK\"] = topK\n",
        "\n",
        "  payload = {\n",
        "    \"contents\": {\n",
        "      \"role\": \"user\",\n",
        "      \"parts\": {\n",
        "          \"text\": prompt\n",
        "      },\n",
        "    },\n",
        "    \"generation_config\": {\n",
        "      **generation_config\n",
        "    },\n",
        "    \"safety_settings\": {\n",
        "      \"category\": \"HARM_CATEGORY_SEXUALLY_EXPLICIT\",\n",
        "      \"threshold\": \"BLOCK_LOW_AND_ABOVE\"\n",
        "    }\n",
        "  }\n",
        "\n",
        "  response = requests.post(url, json=payload, headers=headers)\n",
        "\n",
        "  if response.status_code == 200:\n",
        "    try:\n",
        "      json_response = json.loads(response.content)\n",
        "    except Exception as error:\n",
        "      raise RuntimeError(f\"An error occurred parsing the JSON: {error}\")\n",
        "\n",
        "    if \"candidates\" in json_response:\n",
        "      candidates = json_response[\"candidates\"]\n",
        "      if len(candidates) > 0:\n",
        "        candidate = candidates[0]\n",
        "        if \"content\" in candidate:\n",
        "          content = candidate[\"content\"]\n",
        "          if \"parts\" in content:\n",
        "            parts = content[\"parts\"]\n",
        "            if len(parts):\n",
        "              part = parts[0]\n",
        "              if \"text\" in part:\n",
        "                text = part[\"text\"]\n",
        "                llm_response = text\n",
        "              else:\n",
        "                raise RuntimeError(\"No text in part: {response.content}\")\n",
        "            else:\n",
        "              raise RuntimeError(\"No parts in content: {response.content}\")\n",
        "          else:\n",
        "            raise RuntimeError(\"No parts in content: {response.content}\")\n",
        "        else:\n",
        "          raise RuntimeError(\"No content in candidate: {response.content}\")\n",
        "      else:\n",
        "        raise RuntimeError(\"No candidates: {response.content}\")\n",
        "    else:\n",
        "      raise RuntimeError(\"No candidates: {response.content}\")\n",
        "\n",
        "    # Remove some typically response characters (if asking for a JSON reply)\n",
        "    llm_response = llm_response.replace(\"```json\",\"\")\n",
        "    llm_response = llm_response.replace(\"```\",\"\")\n",
        "    llm_response = llm_response.replace(\"\\n\",\"\")\n",
        "\n",
        "    return llm_response\n",
        "\n",
        "  else:\n",
        "    raise RuntimeError(f\"Error with prompt:'{prompt}'  Status:'{response.status_code}' Text:'{response.text}'\")"
      ],
      "metadata": {
        "id": "KkX3St_QVVJw"
      },
      "execution_count": null,
      "outputs": []
    },
    {
      "cell_type": "markdown",
      "source": [
        "#### Gemini LLM - Multimodal"
      ],
      "metadata": {
        "id": "5dHoF0tzHlZ-"
      }
    },
    {
      "cell_type": "code",
      "source": [
        "def GeminiLLM_Multimodal(multimodal_prompt_list, model = \"gemini-1.5-pro-001\", response_schema = None,\n",
        "                 temperature = 1, topP = 1, topK = 32):\n",
        "\n",
        "  # https://cloud.google.com/vertex-ai/generative-ai/docs/model-reference/inference#supported_models\n",
        "  # model = \"gemini-1.5-pro-001\"\n",
        "  # model = \"gemini-pro\" # This does support topK (but the function is more generic)\n",
        "  # model = \"gemini-1.0-pro\" # This does not support response_schema\n",
        "\n",
        "  llm_response = None\n",
        "  if temperature < 0:\n",
        "    temperature = 0\n",
        "\n",
        "  creds, project = google.auth.default()\n",
        "  auth_req = google.auth.transport.requests.Request() # required to acess access token\n",
        "  creds.refresh(auth_req)\n",
        "  access_token=creds.token\n",
        "\n",
        "  headers = {\n",
        "      \"Content-Type\" : \"application/json\",\n",
        "      \"Authorization\" : \"Bearer \" + access_token\n",
        "  }\n",
        "\n",
        "  # https://cloud.google.com/vertex-ai/generative-ai/docs/model-reference/inference\n",
        "  url = f\"https://{location}-aiplatform.googleapis.com/v1/projects/{project_id}/locations/{location}/publishers/google/models/{model}:generateContent\"\n",
        "\n",
        "  generation_config = {\n",
        "    \"temperature\": temperature,\n",
        "    \"topP\": topP,\n",
        "    \"maxOutputTokens\": 8192,\n",
        "    \"candidateCount\": 1,\n",
        "    \"responseMimeType\": \"application/json\",\n",
        "  }\n",
        "\n",
        "  # Add inthe response schema for when it is provided\n",
        "  if response_schema is not None:\n",
        "    generation_config[\"responseSchema\"] = response_schema\n",
        "\n",
        "  if model == \"gemini-pro\" or model == \"gemini-1.0-pro\" or model == \"gemini-1.0-pro-vision-001\":\n",
        "    generation_config[\"topK\"] = topK\n",
        "\n",
        "  payload = {\n",
        "    \"contents\": {\n",
        "      \"role\": \"user\",\n",
        "      \"parts\": multimodal_prompt_list\n",
        "    },\n",
        "    \"generation_config\": {\n",
        "      **generation_config\n",
        "    },\n",
        "    \"safety_settings\": {\n",
        "      \"category\": \"HARM_CATEGORY_SEXUALLY_EXPLICIT\",\n",
        "      \"threshold\": \"BLOCK_LOW_AND_ABOVE\"\n",
        "    }\n",
        "  }\n",
        "\n",
        "  response = requests.post(url, json=payload, headers=headers)\n",
        "\n",
        "  if response.status_code == 200:\n",
        "    try:\n",
        "      json_response = json.loads(response.content)\n",
        "    except Exception as error:\n",
        "      raise RuntimeError(f\"An error occurred parsing the JSON: {error}\")\n",
        "\n",
        "    if \"candidates\" in json_response:\n",
        "      candidates = json_response[\"candidates\"]\n",
        "      if len(candidates) > 0:\n",
        "        candidate = candidates[0]\n",
        "        if \"content\" in candidate:\n",
        "          content = candidate[\"content\"]\n",
        "          if \"parts\" in content:\n",
        "            parts = content[\"parts\"]\n",
        "            if len(parts):\n",
        "              part = parts[0]\n",
        "              if \"text\" in part:\n",
        "                text = part[\"text\"]\n",
        "                llm_response = text\n",
        "              else:\n",
        "                raise RuntimeError(\"No text in part: {response.content}\")\n",
        "            else:\n",
        "              raise RuntimeError(\"No parts in content: {response.content}\")\n",
        "          else:\n",
        "            raise RuntimeError(\"No parts in content: {response.content}\")\n",
        "        else:\n",
        "          raise RuntimeError(\"No content in candidate: {response.content}\")\n",
        "      else:\n",
        "        raise RuntimeError(\"No candidates: {response.content}\")\n",
        "    else:\n",
        "      raise RuntimeError(\"No candidates: {response.content}\")\n",
        "\n",
        "    # Remove some typically response characters (if asking for a JSON reply)\n",
        "    llm_response = llm_response.replace(\"```json\",\"\")\n",
        "    llm_response = llm_response.replace(\"```\",\"\")\n",
        "    llm_response = llm_response.replace(\"\\n\",\"\")\n",
        "\n",
        "    return llm_response\n",
        "\n",
        "  else:\n",
        "    raise RuntimeError(f\"Error with prompt:'{multimodal_prompt_list[0]}'  Status:'{response.status_code}' Text:'{response.text}'\")"
      ],
      "metadata": {
        "id": "saJMOmA0HcVO"
      },
      "execution_count": null,
      "outputs": []
    },
    {
      "cell_type": "markdown",
      "source": [
        "#### Veo Image Generation"
      ],
      "metadata": {
        "id": "wySHopHNei3E"
      }
    },
    {
      "cell_type": "code",
      "source": [
        "def VeoVideoGen(prompt, storage_uri):\n",
        "  creds, project = google.auth.default()\n",
        "  auth_req = google.auth.transport.requests.Request()\n",
        "  creds.refresh(auth_req)\n",
        "  access_token=creds.token\n",
        "\n",
        "  headers = {\n",
        "      \"Content-Type\" : \"application/json\",\n",
        "      \"Authorization\" : \"Bearer \" + access_token\n",
        "  }\n",
        "\n",
        "  model_version = \"veo-001-preview\"\n",
        "\n",
        "  # https://cloud.google.com/vertex-ai/generative-ai/docs/image/text-to-live-images#rest\n",
        "  url = f\"https://{location}-aiplatform.googleapis.com/v1/projects/{project}/locations/{location}/publishers/google/models/{model_version}:predictLongRunning\"\n",
        "\n",
        "\n",
        "  payload = {\n",
        "    \"instances\": [\n",
        "      {\n",
        "        \"prompt\": prompt\n",
        "      }\n",
        "    ],\n",
        "    \"parameters\": {\n",
        "      \"storageUri\" : storage_uri\n",
        "    }\n",
        "  }\n",
        "\n",
        "  response = requests.post(url, json=payload, headers=headers)\n",
        "\n",
        "  if response.status_code == 200:\n",
        "    print(f\"Video submitted for processing.\")\n",
        "    return True\n",
        "  else:\n",
        "    error = f\"Error with prompt:'{prompt}'  Status:'{response.status_code}' Text:'{response.text}'\"\n",
        "    raise RuntimeError(error)"
      ],
      "metadata": {
        "id": "4WJrd4KQeji1"
      },
      "execution_count": null,
      "outputs": []
    },
    {
      "cell_type": "markdown",
      "source": [
        "#### Text to Speech Generation"
      ],
      "metadata": {
        "id": "IT_AtoA3gV4q"
      }
    },
    {
      "cell_type": "code",
      "source": [
        "def TextToSpeechLanguageList(language_code):\n",
        "  creds, project = google.auth.default()\n",
        "  auth_req = google.auth.transport.requests.Request()\n",
        "  creds.refresh(auth_req)\n",
        "  access_token=creds.token\n",
        "\n",
        "  headers = {\n",
        "      \"Content-Type\" : \"application/json\",\n",
        "      \"Authorization\" : \"Bearer \" + access_token,\n",
        "      \"x-goog-user-project\" : project\n",
        "  }\n",
        "\n",
        "  # https://cloud.google.com/text-to-speech/docs/reference/rest/v1/voices/list\n",
        "  url = f\"https://texttospeech.googleapis.com/v1/voices?languageCode={language_code}\"\n",
        "\n",
        "  response = requests.get(url, headers=headers)\n",
        "\n",
        "  if response.status_code == 200:\n",
        "    return response.text\n",
        "  else:\n",
        "    error = f\"Error with language_code:'{language_code}'  Status:'{response.status_code}' Text:'{response.text}'\"\n",
        "    raise RuntimeError(error)"
      ],
      "metadata": {
        "id": "dIwlOZ7BgZu7"
      },
      "execution_count": null,
      "outputs": []
    },
    {
      "cell_type": "code",
      "source": [
        "def TextToSpeech(local_filename, text, language_code, language_code_name, ssml_gender, speaking_rate = 1):\n",
        "  creds, project = google.auth.default()\n",
        "  auth_req = google.auth.transport.requests.Request()\n",
        "  creds.refresh(auth_req)\n",
        "  access_token=creds.token\n",
        "\n",
        "  headers = {\n",
        "      \"Content-Type\" : \"application/json\",\n",
        "      \"Authorization\" : \"Bearer \" + access_token,\n",
        "      \"x-goog-user-project\" : project\n",
        "  }\n",
        "\n",
        "  # https://cloud.google.com/text-to-speech/docs/reference/rest/v1/text/synthesize\n",
        "  url = f\"https://texttospeech.googleapis.com/v1/text:synthesize\"\n",
        "\n",
        "  payload = {\n",
        "   \"input\": {\n",
        "      \"text\": text\n",
        "   },\n",
        "   \"voice\": {\n",
        "      \"languageCode\": language_code,\n",
        "      \"name\": language_code_name,\n",
        "      \"ssmlGender\": ssml_gender # FEMALE | MALE\n",
        "   },\n",
        "   \"audioConfig\": {\n",
        "      \"audioEncoding\": \"MP3\",\n",
        "      \"speakingRate\": speaking_rate,\n",
        "   }\n",
        "  }\n",
        "\n",
        "  response = requests.post(url, json=payload, headers=headers)\n",
        "\n",
        "  if response.status_code == 200:\n",
        "    audio_data = json.loads(response.content)[\"audioContent\"]\n",
        "    audio_data = base64.b64decode(audio_data)\n",
        "    with open(local_filename, \"wb\") as f:\n",
        "      f.write(audio_data)\n",
        "    print(f\"Audio generated OK.\")\n",
        "    return local_filename\n",
        "  else:\n",
        "    error = f\"Error with text:'{text}'  Status:'{response.status_code}' Text:'{response.text}'\"\n",
        "    raise RuntimeError(error)"
      ],
      "metadata": {
        "id": "Xh7R560ojLrS"
      },
      "execution_count": null,
      "outputs": []
    },
    {
      "cell_type": "markdown",
      "source": [
        "#### Overlay text to speech to video"
      ],
      "metadata": {
        "id": "CWYQfM8BK5Sn"
      }
    },
    {
      "cell_type": "code",
      "source": [
        "from moviepy.editor import VideoFileClip, AudioFileClip\n",
        "\n",
        "def MergeVideoAndAudio(video_filename, audio_filename, output_filename):\n",
        "  # Load the video and audio files\n",
        "  video = VideoFileClip(video_filename)\n",
        "  audio = AudioFileClip(audio_filename)\n",
        "\n",
        "  # Combine the video and audio\n",
        "  final_clip = video.set_audio(audio)\n",
        "\n",
        "  # Save the combined video\n",
        "  final_clip.write_videofile(output_filename)"
      ],
      "metadata": {
        "id": "bq7vG0KBK9XX"
      },
      "execution_count": null,
      "outputs": []
    },
    {
      "cell_type": "markdown",
      "source": [
        "#### GetMenuItems"
      ],
      "metadata": {
        "id": "AqKylYj_LFqB"
      }
    },
    {
      "cell_type": "code",
      "source": [
        "def GetMenuItems():\n",
        "  sql = f\"\"\"SELECT menu_id, menu_name, menu_description\n",
        "  FROM `{dataset_name}.menu`\n",
        "  ORDER BY menu_id\"\"\"\n",
        "\n",
        "  result_df = RunQuery(sql)\n",
        "  result_list = []\n",
        "\n",
        "  for index, row in result_df.iterrows():\n",
        "    result_list.append({\n",
        "        \"menu_id\": row['menu_id'],\n",
        "        \"menu_name\": row['menu_name'],\n",
        "        \"menu_description\": row['menu_description']\n",
        "    })\n",
        "\n",
        "  return result_list"
      ],
      "metadata": {
        "id": "myH5rUJdLEl7"
      },
      "execution_count": null,
      "outputs": []
    },
    {
      "cell_type": "markdown",
      "source": [
        "#### Combine Videos"
      ],
      "metadata": {
        "id": "0ZcHJOCOxVlH"
      }
    },
    {
      "cell_type": "code",
      "source": [
        "from moviepy.editor import VideoFileClip, concatenate_videoclips\n",
        "\n",
        "def merge_videos_sorted(folder_path, output_video_name):\n",
        "  \"\"\"\n",
        "  Merges all MP4 video files in the specified folder into a single video,\n",
        "  sorted by file name.\n",
        "\n",
        "  Args:\n",
        "      folder_path: The path to the folder containing the videos.\n",
        "  \"\"\"\n",
        "\n",
        "  video_files = [f for f in os.listdir(folder_path) if f.endswith('.mp4')]\n",
        "  video_files.sort()  # Sort the files by name\n",
        "\n",
        "  clips = [VideoFileClip(os.path.join(folder_path, video)) for video in video_files]\n",
        "\n",
        "  final_clip = concatenate_videoclips(clips)\n",
        "  final_clip.write_videofile(os.path.join(folder_path, output_video_name))"
      ],
      "metadata": {
        "id": "O0NSV7A9xZQf"
      },
      "execution_count": null,
      "outputs": []
    },
    {
      "cell_type": "markdown",
      "source": [
        "#### Helper Functions"
      ],
      "metadata": {
        "id": "bNKaaW5ohCpd"
      }
    },
    {
      "cell_type": "code",
      "source": [
        "def RunQuery(sql):\n",
        "  import time\n",
        "  from google.cloud import bigquery\n",
        "  client = bigquery.Client()\n",
        "\n",
        "  if (sql.startswith(\"SELECT\") or sql.startswith(\"WITH\")):\n",
        "      df_result = client.query(sql).to_dataframe()\n",
        "      return df_result\n",
        "  else:\n",
        "    job_config = bigquery.QueryJobConfig(priority=bigquery.QueryPriority.INTERACTIVE)\n",
        "    query_job = client.query(sql, job_config=job_config)\n",
        "\n",
        "    # Check on the progress by getting the job's updated state.\n",
        "    query_job = client.get_job(\n",
        "        query_job.job_id, location=query_job.location\n",
        "    )\n",
        "    print(\"Job {} is currently in state {} with error result of {}\".format(query_job.job_id, query_job.state, query_job.error_result))\n",
        "\n",
        "    while query_job.state != \"DONE\":\n",
        "      time.sleep(2)\n",
        "      query_job = client.get_job(\n",
        "          query_job.job_id, location=query_job.location\n",
        "          )\n",
        "      print(\"Job {} is currently in state {} with error result of {}\".format(query_job.job_id, query_job.state, query_job.error_result))\n",
        "\n",
        "    if query_job.error_result == None:\n",
        "      return True\n",
        "    else:\n",
        "      raise Exception(query_job.error_result)"
      ],
      "metadata": {
        "id": "K_Liz2MS2JKy"
      },
      "execution_count": null,
      "outputs": []
    },
    {
      "cell_type": "code",
      "source": [
        "# This was generated by GenAI\n",
        "\n",
        "def copy_file_to_gcs(local_file_path, bucket_name, destination_blob_name):\n",
        "  \"\"\"Copies a file from a local drive to a GCS bucket.\n",
        "\n",
        "  Args:\n",
        "      local_file_path: The full path to the local file.\n",
        "      bucket_name: The name of the GCS bucket to upload to.\n",
        "      destination_blob_name: The desired name of the uploaded file in the bucket.\n",
        "\n",
        "  Returns:\n",
        "      None\n",
        "  \"\"\"\n",
        "\n",
        "  import os\n",
        "  from google.cloud import storage\n",
        "\n",
        "  # Ensure the file exists locally\n",
        "  if not os.path.exists(local_file_path):\n",
        "      raise FileNotFoundError(f\"Local file '{local_file_path}' not found.\")\n",
        "\n",
        "  # Create a storage client\n",
        "  storage_client = storage.Client()\n",
        "\n",
        "  # Get a reference to the bucket\n",
        "  bucket = storage_client.bucket(bucket_name)\n",
        "\n",
        "  # Create a blob object with the desired destination path\n",
        "  blob = bucket.blob(destination_blob_name)\n",
        "\n",
        "  # Upload the file from the local filesystem\n",
        "  content_type = \"\"\n",
        "  if local_file_path.endswith(\".html\"):\n",
        "    content_type = \"text/html; charset=utf-8\"\n",
        "\n",
        "  if local_file_path.endswith(\".json\"):\n",
        "    content_type = \"application/json; charset=utf-8\"\n",
        "\n",
        "  if content_type == \"\":\n",
        "    blob.upload_from_filename(local_file_path)\n",
        "  else:\n",
        "    blob.upload_from_filename(local_file_path, content_type = content_type)\n",
        "\n",
        "  print(f\"File '{local_file_path}' uploaded to GCS bucket '{bucket_name}' as '{destination_blob_name}.  Content-Type: {content_type}'.\")"
      ],
      "metadata": {
        "id": "1VjvnfpBzN4s"
      },
      "execution_count": null,
      "outputs": []
    },
    {
      "cell_type": "code",
      "source": [
        "def download_from_gcs(destination_file_name, gcs_storage_bucket, object_name):\n",
        "  # prompt: Write python code to download a blob from a gcs bucket.  do not use the requests method\n",
        "\n",
        "  from google.cloud import storage\n",
        "  storage_client = storage.Client()\n",
        "  bucket = storage_client.bucket(gcs_storage_bucket)\n",
        "\n",
        "  # Construct a client side representation of a blob.\n",
        "  # Note `Bucket.blob` differs from `Bucket.get_blob` as it doesn't retrieve\n",
        "  # any content from Google Cloud Storage. As we don't need additional data,\n",
        "  # using `Bucket.blob` is preferred here.\n",
        "  blob = bucket.blob(object_name)\n",
        "  blob.download_to_filename(destination_file_name)\n",
        "\n",
        "  print(\n",
        "      \"Downloaded storage object {} from bucket {} to local file {}.\".format(\n",
        "          object_name, gcs_storage_bucket, destination_file_name\n",
        "      )\n",
        "  )"
      ],
      "metadata": {
        "id": "N7FijsCezJQ6"
      },
      "execution_count": null,
      "outputs": []
    },
    {
      "cell_type": "code",
      "source": [
        "# prompt: python to delete a file even if it does not exist\n",
        "\n",
        "def delete_file(filename):\n",
        "  try:\n",
        "    os.remove(filename)\n",
        "    print(f\"File '{filename}' deleted successfully.\")\n",
        "  except FileNotFoundError:\n",
        "    print(f\"File '{filename}' not found.\")"
      ],
      "metadata": {
        "id": "lmqQixNHZfRj"
      },
      "execution_count": null,
      "outputs": []
    },
    {
      "cell_type": "code",
      "source": [
        "def PrettyPrintJson(json_string):\n",
        "  json_object = json.loads(json_string)\n",
        "  json_formatted_str = json.dumps(json_object, indent=2)\n",
        "  # print(json_formatted_str)\n",
        "  return json_formatted_str"
      ],
      "metadata": {
        "id": "Tq3HEggwhEL1"
      },
      "execution_count": null,
      "outputs": []
    },
    {
      "cell_type": "markdown",
      "source": [
        "### Teach the LLM how to write text-to-video prompts"
      ],
      "metadata": {
        "id": "rt3ErRFLpsYe"
      }
    },
    {
      "cell_type": "code",
      "source": [
        "# We need to tell the LLM how to write text-to-video prompts\n",
        "\n",
        "text_to_video_prompt_guide = \"\"\"\n",
        "Text-to-Video Prompt Writing Help:\n",
        "<text-to-video-prompt-guide>\n",
        "Here are some our best practices for text-to-video prompts:\n",
        "\n",
        "Detailed prompts = better videos:\n",
        "  - More details you add, the more control you’ll have over the video.\n",
        "  - A prompt should look like this: \"Camera dollies to show a close up of a desperate man in a green trench coat is making a call on a rotary style wall-phone, green neon light, movie scene.\"\n",
        "    - Here is a break down of elements need to create a text-to-video prompt using the above prompt as an example:\n",
        "      - \"Camera dollies to show\" = \"Camera Motion\"\n",
        "      - \"A close up of\" = \"Composition\"\n",
        "      - \"A desperate man in a green trench coat\" = \"Subject\"\n",
        "      - \"Is making a call\" = \"Action\"\n",
        "      - \"On a roary style wall-phone\" = \"Scene\"\n",
        "      - \"Green Neon light\" = \"Ambiance\"\n",
        "      - \"Movie Scene\" = \"Style\"\n",
        "\n",
        "Use the right keywords for better control:\n",
        "  - Here is a list of some keywords that work well with text-to-video, use these in your prompts to get the desired camera motion or style.\n",
        "  - Subject: Who or what is the main focus of the shot.  Example: \"happy woman in her 30s\".\n",
        "  - Scene: Where is the location of the shot. Example \"on a busy street, in space\".\n",
        "  - Action: What is the subject doing Examples: \"walking\", \"running\", \"turning head\".\n",
        "  - Camera Motion: What the camera is doing. Example: \"POV shot\", \"Aerial View\", \"Tracking Drone view\", \"Tracking Shot\".\n",
        "\n",
        "Example text-to-video prompt using the above keywords:\n",
        "  - Example text-to-video prompt: \"Tracking drone view of a man driving a red convertible car in Palm Springs, 1970s, warm sunlight, long shadows\"\n",
        "  - Example text-to-video prompt: \"A POV shot from a vintage car driving in the rain, Canada at night, cinematic\"\n",
        "\n",
        "Styles:\n",
        "   - Overall aesthetic. Consider using specific film style keywords.  Examples: \"horror film\", \"film noir, \"animated styles\", \"3D cartoon style render\".\n",
        "  - Example text-to-video prompt: \"Over the shoulder of a young woman in a car, 1970s, film grain, horror film, cinematic he Film noir style, man and woman walk on the street, mystery, cinematic, black and white\"\n",
        "  - Example text-to-video prompt: \"A cute creatures with snow leopard-like fur is walking in winter forest, 3D cartoon style render. An architectural rendering of a white concrete apartment building with flowing organic shapes, seamlessly blending with lush greenery and futuristic elements.\"\n",
        "\n",
        "Composition:\n",
        "  - How the shot is framed. This is often relative to the subject e.g. wide shot, close-up, low angle\n",
        "  - Example text-to-video prompt: \"Extreme close-up of a an eye with city reflected in it. A wide shot of surfer walking on a beach with a surfboard, beautiful sunset, cinematic\"\n",
        "\n",
        "Ambiance & Emotions:\n",
        "  - How the color and light contribute to the scene (blue tones, night)\n",
        "  - Example text-to-video prompt: \"A close-up of a girl holding adorable golden retriever puppy in the park, sunlight Cinematic close-up shot of a sad woman riding a bus in the rain, cool blue tones, sad mood\"\n",
        "\n",
        "Cinematic effects:\n",
        "  - e.g. double exposure, projected, glitch camera effect.\n",
        "  - Example text-to-video prompt: \"A double exposure of silhouetted profile of a woman walking and lake, walking in a forest Close-up shot of a model with blue light with geometric shapes projected on her face\"\n",
        "  - Example text-to-video prompt: \"Silhouette of a man walking in collage of cityscapes Glitch camera effect, close up of woman’s face speaking, neon colors\"\n",
        "</text-to-video-prompt-guide>\n",
        "\"\"\""
      ],
      "metadata": {
        "id": "RivD3xaHL1Lk"
      },
      "execution_count": null,
      "outputs": []
    },
    {
      "cell_type": "markdown",
      "source": [
        "### Generate the Text-to-Video Prompts using Gemini (let Gemini write the prompts for us)"
      ],
      "metadata": {
        "id": "FbQT-vIUi8ab"
      }
    },
    {
      "cell_type": "code",
      "source": [
        "text_to_video_prompts = []"
      ],
      "metadata": {
        "id": "lb90PsVL8CMs"
      },
      "execution_count": null,
      "outputs": []
    },
    {
      "cell_type": "markdown",
      "source": [
        "##### Text-to-Video: Random Menu item prompts\n",
        "\n"
      ],
      "metadata": {
        "id": "wF4xTwDM9yvp"
      }
    },
    {
      "cell_type": "code",
      "source": [
        "# Write me the json in  OpenAPI 3.0 schema object for the below object.\n",
        "# Make all fields required.\n",
        "#  {\n",
        "#    \"text-to-video-prompt\" : \"text\"\n",
        "#  }\n",
        "response_schema = {\n",
        "  \"type\": \"object\",\n",
        "  \"required\": [\n",
        "    \"text-to-video-prompt\"\n",
        "  ],\n",
        "  \"properties\": {\n",
        "    \"text-to-video-prompt\": {\n",
        "      \"type\": \"string\"\n",
        "    }\n",
        "  }\n",
        "}\n",
        "\n",
        "menu_item_list = GetMenuItems()\n",
        "menu_id = random.randint(1, len(menu_item_list))\n",
        "menu_name = menu_item_list[menu_id-1][\"menu_name\"]\n",
        "menu_description = menu_item_list[menu_id-1][\"menu_description\"]\n",
        "\n",
        "gemini_ad_prompt = f\"\"\"You are a marketing expert and are creating a marketing video for a company that sells premium handcrafted chocolates, handmade desserts and delicious coffee drinks.\n",
        "You need to create a marketing video for the company.\n",
        "The company is based in Paris, France.\n",
        "\n",
        "The video should be about the following menu item:\n",
        "{menu_name}: {menu_description}\n",
        "\n",
        "The video should show the menu item being made.\n",
        "Focus the video on the finishing touches like sprinkling chocolate, adding a layer of cream, adding a layer of sugar, adding a layer of coffee, adding a layer of milk.\n",
        "\n",
        "Output Fields:\n",
        "- \"text-to-video-prompt\":\n",
        " - Read the  \"Text-to-Video Prompt Writing Help\" to learn more about how to create good text-to-video prompts.\n",
        " - Make sure you include all the relevant best practices when creating the text-to-video prompt:\n",
        " - A detailed prompt for generating the video using text-to-video technology.\n",
        " - Focus on creating the menu item with an artistic flair.\n",
        " - Do not include \"text overlays\" in the text-to-video prompt.\n",
        " - The prompt should also reference that we are in a chocolate, dessert, coffee shop in Paris so it knows the context of the video.\n",
        " - Do not include children in the text-to-video prompt.\n",
        "\n",
        "{text_to_video_prompt_guide}\n",
        "\"\"\"\n",
        "\n",
        "#print(gemini_ad_prompt)\n",
        "llm_result = GeminiLLM(gemini_ad_prompt, response_schema=response_schema)\n",
        "gemini_ad_results_dict = json.loads(llm_result)\n",
        "orginal_ad_results_dict = gemini_ad_results_dict # in case we swap it for a pre-canned one\n",
        "print(f\"Menu Name: {menu_name} - {menu_description}\")\n",
        "print()\n",
        "print(PrettyPrintJson(json.dumps(gemini_ad_results_dict)))\n",
        "text_to_video_prompts.append(gemini_ad_results_dict)"
      ],
      "metadata": {
        "id": "QoYQYg7Ki_MQ"
      },
      "execution_count": null,
      "outputs": []
    },
    {
      "cell_type": "markdown",
      "source": [
        "##### Text-to-Video: Swan cake with Friends"
      ],
      "metadata": {
        "id": "uBmWWkEb9cTF"
      }
    },
    {
      "cell_type": "code",
      "source": [
        "# Write me the json in  OpenAPI 3.0 schema object for the below object.\n",
        "# Make all fields required.\n",
        "#  {\n",
        "#    \"text-to-video-prompt\" : \"text\"\n",
        "#  }\n",
        "response_schema = {\n",
        "  \"type\": \"object\",\n",
        "  \"required\": [\n",
        "    \"text-to-video-prompt\"\n",
        "  ],\n",
        "  \"properties\": {\n",
        "    \"text-to-video-prompt\": {\n",
        "      \"type\": \"string\"\n",
        "    }\n",
        "  }\n",
        "}\n",
        "\n",
        "menu_item_list = GetMenuItems()\n",
        "menu_id = random.randint(1, len(menu_item_list))\n",
        "menu_id = 8\n",
        "menu_name = menu_item_list[menu_id-1][\"menu_name\"]\n",
        "menu_description = menu_item_list[menu_id-1][\"menu_description\"]\n",
        "\n",
        "gemini_ad_prompt = f\"\"\"You are a marketing expert and are creating a marketing video for a company that sells premium handcrafted chocolates, handmade desserts and delicious coffee drinks.\n",
        "You need to create a marketing video for the company.\n",
        "The company is based in Paris, France.\n",
        "\n",
        "Show people around a table with a Chocolate Swan Cake in the middle.\n",
        "The people should be having fun like it is a party.\n",
        "The party needs to be upscale.\n",
        "\n",
        "The video should be about the following menu item:\n",
        "{menu_name}: {menu_description}\n",
        "\n",
        "Output Fields:\n",
        "- \"text-to-video-prompt\":\n",
        " - Read the  \"Text-to-Video Prompt Writing Help\" to learn more about how to create good text-to-video prompts.\n",
        " - Make sure you include all the relevant best practices when creating the text-to-video prompt:\n",
        " - A detailed prompt for generating the video using text-to-video technology.\n",
        " - Focus on creating the menu item with an artistic flair.\n",
        " - Do not include \"text overlays\" in the text-to-video prompt.\n",
        " - The prompt should also reference that we are in a chocolate, dessert, coffee shop in Paris so it knows the context of the video.\n",
        " - Do not include children in the text-to-video prompt.\n",
        "\n",
        "{text_to_video_prompt_guide}\n",
        "\"\"\"\n",
        "\n",
        "#print(gemini_ad_prompt)\n",
        "llm_result = GeminiLLM(gemini_ad_prompt, response_schema=response_schema)\n",
        "gemini_ad_results_dict = json.loads(llm_result)\n",
        "orginal_ad_results_dict = gemini_ad_results_dict # in case we swap it for a pre-canned one\n",
        "print(f\"Menu Name: {menu_name} - {menu_description}\")\n",
        "print()\n",
        "print(PrettyPrintJson(json.dumps(gemini_ad_results_dict)))\n",
        "text_to_video_prompts.append(gemini_ad_results_dict)"
      ],
      "metadata": {
        "id": "wA1MxCFg5oU3"
      },
      "execution_count": null,
      "outputs": []
    },
    {
      "cell_type": "markdown",
      "source": [
        "##### Text-to-Video: Friends at Picnic"
      ],
      "metadata": {
        "id": "JZ1K2ofwKDnL"
      }
    },
    {
      "cell_type": "code",
      "source": [
        "# Write me the json in  OpenAPI 3.0 schema object for the below object.\n",
        "# Make all fields required.\n",
        "#  {\n",
        "#    \"text-to-video-prompt\" : \"text\"\n",
        "#  }\n",
        "response_schema = {\n",
        "  \"type\": \"object\",\n",
        "  \"required\": [\n",
        "    \"text-to-video-prompt\"\n",
        "  ],\n",
        "  \"properties\": {\n",
        "    \"text-to-video-prompt\": {\n",
        "      \"type\": \"string\"\n",
        "    }\n",
        "  }\n",
        "}\n",
        "\n",
        "menu_item_list = GetMenuItems()\n",
        "menu_id = random.randint(1, len(menu_item_list))\n",
        "menu_name = menu_item_list[menu_id-1][\"menu_name\"]\n",
        "menu_description = menu_item_list[menu_id-1][\"menu_description\"]\n",
        "\n",
        "gemini_ad_prompt = f\"\"\"You are a marketing expert and are creating a marketing video for a company that sells premium handcrafted chocolates, handmade desserts and delicious coffee drinks.\n",
        "You need to create a marketing video for the company.\n",
        "The company is based in Paris, France.\n",
        "\n",
        "A group of friends eating \"{menu_name}\" at a picnic in a French park.\n",
        "\n",
        "The video should be about the following menu item:\n",
        "{menu_name}: {menu_description}\n",
        "\n",
        "Output Fields:\n",
        "- \"text-to-video-prompt\":\n",
        " - Read the  \"Text-to-Video Prompt Writing Help\" to learn more about how to create good text-to-video prompts.\n",
        " - Make sure you include all the relevant best practices when creating the text-to-video prompt:\n",
        " - A detailed prompt for generating the video using text-to-video technology.\n",
        " - Focus on creating the menu item with an artistic flair.\n",
        " - Do not include \"text overlays\" in the text-to-video prompt.\n",
        " - The prompt should also reference that we are in a chocolate, dessert, coffee shop in Paris so it knows the context of the video.\n",
        " - Do not include children in the text-to-video prompt.\n",
        "\n",
        "{text_to_video_prompt_guide}\n",
        "\"\"\"\n",
        "\n",
        "#print(gemini_ad_prompt)\n",
        "llm_result = GeminiLLM(gemini_ad_prompt, response_schema=response_schema)\n",
        "gemini_ad_results_dict = json.loads(llm_result)\n",
        "orginal_ad_results_dict = gemini_ad_results_dict # in case we swap it for a pre-canned one\n",
        "print(f\"Menu Name: {menu_name} - {menu_description}\")\n",
        "print()\n",
        "print(PrettyPrintJson(json.dumps(gemini_ad_results_dict)))\n",
        "text_to_video_prompts.append(gemini_ad_results_dict)"
      ],
      "metadata": {
        "id": "OCUZa8mw9BAX"
      },
      "execution_count": null,
      "outputs": []
    },
    {
      "cell_type": "markdown",
      "source": [
        "##### Text-to-Video: Chocolatier in Front of Window"
      ],
      "metadata": {
        "id": "hgFkSBarIx7H"
      }
    },
    {
      "cell_type": "code",
      "source": [
        "# Write me the json in  OpenAPI 3.0 schema object for the below object.\n",
        "# Make all fields required.\n",
        "#  {\n",
        "#    \"text-to-video-prompt\" : \"text\"\n",
        "#  }\n",
        "response_schema = {\n",
        "  \"type\": \"object\",\n",
        "  \"required\": [\n",
        "    \"text-to-video-prompt\"\n",
        "  ],\n",
        "  \"properties\": {\n",
        "    \"text-to-video-prompt\": {\n",
        "      \"type\": \"string\"\n",
        "    }\n",
        "  }\n",
        "}\n",
        "\n",
        "menu_item_list = GetMenuItems()\n",
        "menu_id = random.randint(1, len(menu_item_list))\n",
        "menu_name = menu_item_list[menu_id-1][\"menu_name\"]\n",
        "menu_description = menu_item_list[menu_id-1][\"menu_description\"]\n",
        "\n",
        "gemini_ad_prompt = f\"\"\"You are a marketing expert and are creating a marketing video for a company that sells premium handcrafted chocolates, handmade desserts and delicious coffee drinks.\n",
        "You need to create a marketing video for the company.\n",
        "The company is based in Paris, France.\n",
        "\n",
        "A chocolatier chef preparing a \"{menu_name}\" and looking out a large picturesque window.\n",
        "The video should pan from the chef to the window.\n",
        "\n",
        "The video should be about the following menu item:\n",
        "{menu_name}: {menu_description}\n",
        "\n",
        "Output Fields:\n",
        "- \"text-to-video-prompt\":\n",
        " - Read the  \"Text-to-Video Prompt Writing Help\" to learn more about how to create good text-to-video prompts.\n",
        " - Make sure you include all the relevant best practices when creating the text-to-video prompt:\n",
        " - A detailed prompt for generating the video using text-to-video technology.\n",
        " - Focus on creating the menu item with an artistic flair.\n",
        " - Do not include \"text overlays\" in the text-to-video prompt.\n",
        " - The prompt should also reference that we are in a chocolate, dessert, coffee shop in Paris so it knows the context of the video.\n",
        " - Do not include children in the text-to-video prompt.\n",
        "\n",
        "{text_to_video_prompt_guide}\n",
        "\"\"\"\n",
        "\n",
        "#print(gemini_ad_prompt)\n",
        "llm_result = GeminiLLM(gemini_ad_prompt, response_schema=response_schema)\n",
        "gemini_ad_results_dict = json.loads(llm_result)\n",
        "orginal_ad_results_dict = gemini_ad_results_dict # in case we swap it for a pre-canned one\n",
        "print(f\"Menu Name: {menu_name} - {menu_description}\")\n",
        "print()\n",
        "print(PrettyPrintJson(json.dumps(gemini_ad_results_dict)))\n",
        "text_to_video_prompts.append(gemini_ad_results_dict)"
      ],
      "metadata": {
        "id": "oeS8YVWDIzqj"
      },
      "execution_count": null,
      "outputs": []
    },
    {
      "cell_type": "markdown",
      "source": [
        "##### Text-to-Video: Friends at an Outdoor Chocolate Buffet"
      ],
      "metadata": {
        "id": "GNhgCtUdJ6HL"
      }
    },
    {
      "cell_type": "code",
      "source": [
        "# Write me the json in  OpenAPI 3.0 schema object for the below object.\n",
        "# Make all fields required.\n",
        "#  {\n",
        "#    \"text-to-video-prompt\" : \"text\"\n",
        "#  }\n",
        "response_schema = {\n",
        "  \"type\": \"object\",\n",
        "  \"required\": [\n",
        "    \"text-to-video-prompt\"\n",
        "  ],\n",
        "  \"properties\": {\n",
        "    \"text-to-video-prompt\": {\n",
        "      \"type\": \"string\"\n",
        "    }\n",
        "  }\n",
        "}\n",
        "\n",
        "menu_item_list = GetMenuItems()\n",
        "menu_id = random.randint(1, len(menu_item_list))\n",
        "menu_name = menu_item_list[menu_id-1][\"menu_name\"]\n",
        "menu_description = menu_item_list[menu_id-1][\"menu_description\"]\n",
        "\n",
        "gemini_ad_prompt = f\"\"\"You are a marketing expert and are creating a marketing video for a company that sells premium handcrafted chocolates, handmade desserts and delicious coffee drinks.\n",
        "You need to create a marketing video for the company.\n",
        "The company is based in Paris, France.\n",
        "\n",
        "A group of friends at an outdoor buffet that has custom chocolates and desserts on the streets of Paris.\n",
        "They are enjoying the sunshine and eating the below menu items.\n",
        "\n",
        "The video should be about the following menu items:\n",
        "{menu_name}: {menu_description}\n",
        "{menu_item_list[menu_id][\"menu_name\"]}: {menu_item_list[menu_id][\"menu_description\"]}\n",
        "{menu_item_list[menu_id+1][\"menu_name\"]}: {menu_item_list[menu_id+1][\"menu_description\"]}\n",
        "{menu_item_list[menu_id+2][\"menu_name\"]}: {menu_item_list[menu_id+2][\"menu_description\"]}\n",
        "\n",
        "\n",
        "Output Fields:\n",
        "- \"text-to-video-prompt\":\n",
        " - Read the  \"Text-to-Video Prompt Writing Help\" to learn more about how to create good text-to-video prompts.\n",
        " - Make sure you include all the relevant best practices when creating the text-to-video prompt:\n",
        " - A detailed prompt for generating the video using text-to-video technology.\n",
        " - Focus on creating the menu item with an artistic flair.\n",
        " - Do not include \"text overlays\" in the text-to-video prompt.\n",
        " - The prompt should also reference that we are in a chocolate, dessert, coffee shop in Paris so it knows the context of the video.\n",
        " - Do not include children in the text-to-video prompt.\n",
        "\n",
        "{text_to_video_prompt_guide}\n",
        "\"\"\"\n",
        "\n",
        "#print(gemini_ad_prompt)\n",
        "llm_result = GeminiLLM(gemini_ad_prompt, response_schema=response_schema)\n",
        "gemini_ad_results_dict = json.loads(llm_result)\n",
        "orginal_ad_results_dict = gemini_ad_results_dict # in case we swap it for a pre-canned one\n",
        "print(f\"Menu Name: {menu_name} - {menu_description}\")\n",
        "print()\n",
        "print(PrettyPrintJson(json.dumps(gemini_ad_results_dict)))\n",
        "text_to_video_prompts.append(gemini_ad_results_dict)"
      ],
      "metadata": {
        "id": "_8JOcAl5J9Xk"
      },
      "execution_count": null,
      "outputs": []
    },
    {
      "cell_type": "markdown",
      "source": [
        "##### Text-to-Video: Discovering the Chocolate Shop"
      ],
      "metadata": {
        "id": "ju3lRHquN0bL"
      }
    },
    {
      "cell_type": "code",
      "source": [
        "# Write me the json in  OpenAPI 3.0 schema object for the below object.\n",
        "# Make all fields required.\n",
        "#  {\n",
        "#    \"text-to-video-prompt\" : \"text\"\n",
        "#  }\n",
        "response_schema = {\n",
        "  \"type\": \"object\",\n",
        "  \"required\": [\n",
        "    \"text-to-video-prompt\"\n",
        "  ],\n",
        "  \"properties\": {\n",
        "    \"text-to-video-prompt\": {\n",
        "      \"type\": \"string\"\n",
        "    }\n",
        "  }\n",
        "}\n",
        "\n",
        "menu_item_list = GetMenuItems()\n",
        "menu_id = random.randint(1, len(menu_item_list))\n",
        "menu_name = menu_item_list[menu_id-1][\"menu_name\"]\n",
        "menu_description = menu_item_list[menu_id-1][\"menu_description\"]\n",
        "\n",
        "gemini_ad_prompt = f\"\"\"You are a marketing expert and are creating a marketing video for a company that sells premium handcrafted chocolates, handmade desserts and delicious coffee drinks.\n",
        "You need to create a marketing video for the company.\n",
        "The company is based in Paris, France.\n",
        "\n",
        "Hidden in the winding streets of Paris there is a small but beautiful shop that sells chocolates and desserts.\n",
        "Two friends discover it while walking down the street.\n",
        "They look in the store window and see beautiful chocolates and desserts.\n",
        "\n",
        "\n",
        "Output Fields:\n",
        "- \"text-to-video-prompt\":\n",
        " - Read the  \"Text-to-Video Prompt Writing Help\" to learn more about how to create good text-to-video prompts.\n",
        " - Make sure you include all the relevant best practices when creating the text-to-video prompt:\n",
        " - A detailed prompt for generating the video using text-to-video technology.\n",
        " - Focus on creating the menu item with an artistic flair.\n",
        " - Do not include \"text overlays\" in the text-to-video prompt.\n",
        " - The prompt should also reference that we are in a chocolate, dessert, coffee shop in Paris so it knows the context of the video.\n",
        " - Do not include children in the text-to-video prompt.\n",
        "\n",
        "{text_to_video_prompt_guide}\n",
        "\"\"\"\n",
        "\n",
        "#print(gemini_ad_prompt)\n",
        "llm_result = GeminiLLM(gemini_ad_prompt, response_schema=response_schema)\n",
        "gemini_ad_results_dict = json.loads(llm_result)\n",
        "orginal_ad_results_dict = gemini_ad_results_dict # in case we swap it for a pre-canned one\n",
        "print(f\"Menu Name: {menu_name} - {menu_description}\")\n",
        "print()\n",
        "print(PrettyPrintJson(json.dumps(gemini_ad_results_dict)))\n",
        "text_to_video_prompts.append(gemini_ad_results_dict)"
      ],
      "metadata": {
        "id": "cSOmdsI5N1J6"
      },
      "execution_count": null,
      "outputs": []
    },
    {
      "cell_type": "markdown",
      "source": [
        "##### Text-to-Video: The inside of a display of chocolates and desserts."
      ],
      "metadata": {
        "id": "xCdbpWr_U9G5"
      }
    },
    {
      "cell_type": "code",
      "source": [
        "# Write me the json in  OpenAPI 3.0 schema object for the below object.\n",
        "# Make all fields required.\n",
        "#  {\n",
        "#    \"text-to-video-prompt\" : \"text\"\n",
        "#  }\n",
        "response_schema = {\n",
        "  \"type\": \"object\",\n",
        "  \"required\": [\n",
        "    \"text-to-video-prompt\"\n",
        "  ],\n",
        "  \"properties\": {\n",
        "    \"text-to-video-prompt\": {\n",
        "      \"type\": \"string\"\n",
        "    }\n",
        "  }\n",
        "}\n",
        "\n",
        "menu_item_list = GetMenuItems()\n",
        "menu_id = random.randint(1, len(menu_item_list))\n",
        "menu_name = menu_item_list[menu_id-1][\"menu_name\"]\n",
        "menu_description = menu_item_list[menu_id-1][\"menu_description\"]\n",
        "\n",
        "gemini_ad_prompt = f\"\"\"You are a marketing expert and are creating a marketing video for a company that sells premium handcrafted chocolates, handmade desserts and delicious coffee drinks.\n",
        "You need to create a marketing video for the company.\n",
        "The company is based in Paris, France.\n",
        "\n",
        "The inside of a display of chocolates and desserts.\n",
        "\n",
        "Output Fields:\n",
        "- \"text-to-video-prompt\":\n",
        " - Read the  \"Text-to-Video Prompt Writing Help\" to learn more about how to create good text-to-video prompts.\n",
        " - Make sure you include all the relevant best practices when creating the text-to-video prompt:\n",
        " - A detailed prompt for generating the video using text-to-video technology.\n",
        " - Focus on creating the menu item with an artistic flair.\n",
        " - Do not include \"text overlays\" in the text-to-video prompt.\n",
        " - The prompt should also reference that we are in a chocolate, dessert, coffee shop in Paris so it knows the context of the video.\n",
        " - Do not include children in the text-to-video prompt.\n",
        "\n",
        "{text_to_video_prompt_guide}\n",
        "\"\"\"\n",
        "\n",
        "#print(gemini_ad_prompt)\n",
        "llm_result = GeminiLLM(gemini_ad_prompt, response_schema=response_schema)\n",
        "gemini_ad_results_dict = json.loads(llm_result)\n",
        "orginal_ad_results_dict = gemini_ad_results_dict # in case we swap it for a pre-canned one\n",
        "print(f\"Menu Name: {menu_name} - {menu_description}\")\n",
        "print()\n",
        "print(PrettyPrintJson(json.dumps(gemini_ad_results_dict)))\n",
        "text_to_video_prompts.append(gemini_ad_results_dict)"
      ],
      "metadata": {
        "id": "WsZazQmDU8IC"
      },
      "execution_count": null,
      "outputs": []
    },
    {
      "cell_type": "markdown",
      "source": [
        "##### Text-to-Video: Show inside of a beautiful Paris chocolate shop with chocolate truffles being made."
      ],
      "metadata": {
        "id": "6sAG4tKmsxMm"
      }
    },
    {
      "cell_type": "code",
      "source": [
        "# Write me the json in  OpenAPI 3.0 schema object for the below object.\n",
        "# Make all fields required.\n",
        "#  {\n",
        "#    \"text-to-video-prompt\" : \"text\"\n",
        "#  }\n",
        "response_schema = {\n",
        "  \"type\": \"object\",\n",
        "  \"required\": [\n",
        "    \"text-to-video-prompt\"\n",
        "  ],\n",
        "  \"properties\": {\n",
        "    \"text-to-video-prompt\": {\n",
        "      \"type\": \"string\"\n",
        "    }\n",
        "  }\n",
        "}\n",
        "\n",
        "menu_item_list = GetMenuItems()\n",
        "menu_id = random.randint(1, len(menu_item_list))\n",
        "menu_name = menu_item_list[menu_id-1][\"menu_name\"]\n",
        "menu_description = menu_item_list[menu_id-1][\"menu_description\"]\n",
        "\n",
        "gemini_ad_prompt = f\"\"\"You are a marketing expert and are creating a marketing video for a company that sells premium handcrafted chocolates, handmade desserts and delicious coffee drinks.\n",
        "You need to create a marketing video for the company.\n",
        "The company is based in Paris, France.\n",
        "\n",
        "Show inside of a beautiful Paris chocolate shop with chocolate truffles being made.\n",
        "Dark chocolate decorated with a white drizzle.\n",
        "The item should be like a piece of art work and be very detailed.\n",
        "Show the finishing touches of the item.\n",
        "\n",
        "\n",
        "Output Fields:\n",
        "- \"text-to-video-prompt\":\n",
        " - Read the  \"Text-to-Video Prompt Writing Help\" to learn more about how to create good text-to-video prompts.\n",
        " - Make sure you include all the relevant best practices when creating the text-to-video prompt:\n",
        " - A detailed prompt for generating the video using text-to-video technology.\n",
        " - Focus on creating the menu item with an artistic flair.\n",
        " - Do not include \"text overlays\" in the text-to-video prompt.\n",
        " - The prompt should also reference that we are in a chocolate, dessert, coffee shop in Paris so it knows the context of the video.\n",
        " - Do not include children in the text-to-video prompt.\n",
        "\n",
        "{text_to_video_prompt_guide}\n",
        "\"\"\"\n",
        "\n",
        "#print(gemini_ad_prompt)\n",
        "llm_result = GeminiLLM(gemini_ad_prompt, response_schema=response_schema)\n",
        "gemini_ad_results_dict = json.loads(llm_result)\n",
        "orginal_ad_results_dict = gemini_ad_results_dict # in case we swap it for a pre-canned one\n",
        "print(f\"Menu Name: {menu_name} - {menu_description}\")\n",
        "print()\n",
        "print(PrettyPrintJson(json.dumps(gemini_ad_results_dict)))\n",
        "text_to_video_prompts.append(gemini_ad_results_dict)"
      ],
      "metadata": {
        "id": "AqZ9NWEkszwE"
      },
      "execution_count": null,
      "outputs": []
    },
    {
      "cell_type": "markdown",
      "source": [
        "### View Generate Text-to-Video Prompts"
      ],
      "metadata": {
        "id": "ON8euLEW99ap"
      }
    },
    {
      "cell_type": "code",
      "source": [
        "for item in text_to_video_prompts:\n",
        "  print(\"------------------------------------------------------------------------------------------------------------------------------------\")\n",
        "  print(item[\"text-to-video-prompt\"])\n",
        "  print(\"------------------------------------------------------------------------------------------------------------------------------------\")"
      ],
      "metadata": {
        "id": "n1wOpk6J-Aqn"
      },
      "execution_count": null,
      "outputs": []
    },
    {
      "cell_type": "markdown",
      "source": [
        "### Create local working directories"
      ],
      "metadata": {
        "id": "e0xMMVppTzJ3"
      }
    },
    {
      "cell_type": "code",
      "source": [
        "# Create a directory to download the videos from GCS and a directory to combine the text to speech and videos\n",
        "directory_text_to_video = f\"text-to-video-{formatted_date}\"\n",
        "directory_text_to_speech = f\"text-to-speech-{formatted_date}\"\n",
        "directory_video_and_audio = f\"video-and-audio-{formatted_date}\"\n",
        "directory_full_video = f\"full-video-{formatted_date}\"\n",
        "\n",
        "# Holds the local video files (no audio)\n",
        "os.makedirs(directory_text_to_video, exist_ok=True)\n",
        "directory_text_to_video_path = os.getcwd() + f\"/{directory_text_to_video}/\"\n",
        "print(f\"directory_text_to_video_path: {directory_text_to_video_path}\")\n",
        "\n",
        "# Holds the audio file(s)\n",
        "os.makedirs(directory_text_to_speech, exist_ok=True)\n",
        "directory_text_to_speech_path = os.getcwd() + f\"/{directory_text_to_speech}/\"\n",
        "print(f\"directory_text_to_speech_path: {directory_text_to_speech_path}\")\n",
        "\n",
        "# Full video\n",
        "os.makedirs(directory_full_video, exist_ok=True)\n",
        "directory_full_video_path = os.getcwd() + f\"/{directory_full_video}/\"\n",
        "print(f\"directory_full_video_path: {directory_full_video_path}\")\n",
        "\n",
        "full_video_filename_with_audio_en_GB = directory_full_video_path + \"full-video-with-audio-en-GB.mp4\"\n",
        "print(f\"full_video_filename_with_audio_en_GB: {full_video_filename_with_audio_en_GB}\")\n",
        "\n",
        "full_video_filename_with_audio_fr_FR = directory_full_video_path + \"full-video-with-audio-fr-FR.mp4\"\n",
        "print(f\"full_video_filename_with_audio_fr_FR: {full_video_filename_with_audio_fr_FR}\")\n",
        "\n",
        "full_video_filename_no_audio = directory_full_video_path + \"full-video-no-audio.mp4\"\n",
        "print(f\"full_video_filename_no_audio: {full_video_filename_no_audio}\")"
      ],
      "metadata": {
        "id": "o6q7b54ZT1iH"
      },
      "execution_count": null,
      "outputs": []
    },
    {
      "cell_type": "markdown",
      "source": [
        "### Video Generation"
      ],
      "metadata": {
        "id": "6GTNHglPkDV7"
      }
    },
    {
      "cell_type": "markdown",
      "source": [
        "##### Function generateVideo (Call Veo REST API)"
      ],
      "metadata": {
        "id": "5XxZTZVCOEjv"
      }
    },
    {
      "cell_type": "code",
      "source": [
        "# NOTE: This has NOT BEEN tested, it requires allow listing\n",
        "\n",
        "def generateVideo(prompt, full_output_gcs_path_and_filename):\n",
        "  return True\n",
        "\n",
        "  \"\"\"Calls Veo to create the video and waits for the output (which can be several minutes)\"\"\"\n",
        "\n",
        "  # Call Veo and wait for the files to be generated\n",
        "  # https://cloud.google.com/vertex-ai/generative-ai/docs/image/text-to-live-images#rest\n",
        "\n",
        "  #curl -X POST \\\n",
        "  #    -H \"Authorization: Bearer $(gcloud auth print-access-token)\" \\\n",
        "  #    -H \"Content-Type: application/json; charset=utf-8\" \\\n",
        "  #    \"https://us-central1-aiplatform.googleapis.com/v1/projects/data-analytics-preview/locations/us-central1/publishers/google/models/veo-001-preview:predictLongRunning\" \\\n",
        "  #    -d ''\n",
        "\n",
        "  #curl -X GET \\\n",
        "  #    -H \"Authorization: Bearer $(gcloud auth print-access-token)\" \\\n",
        "  #    -H \"Content-Type: application/json; charset=utf-8\" \\\n",
        "  #    \"https://us-central1-aiplatform.googleapis.com/v1/projects/data-analytics-preview/locations/us-central1/publishers/google/models/veo-001-preview:fetchPredictOperation\" \\\n",
        "  #    -d '{ \"operationName\": \"OPERATION_NAME\" }'\n",
        "\n",
        "  model = \"veo-001-preview\"\n",
        "  url = f\"https://us-central1-aiplatform.googleapis.com/v1/projects/{project_id}/locations/{region}/publishers/google/models/{model}:predictLongRunning\"\n",
        "\n",
        "  request_body = {\n",
        "      \"instances\": [\n",
        "          {\n",
        "              \"prompt\": prompt\n",
        "          }\n",
        "        ],\n",
        "      \"parameters\": {\n",
        "          \"storageUri\": full_output_gcs_path_and_filename,\n",
        "          \"aspectRatio\":\"16:9\"\n",
        "          }\n",
        "      }\n",
        "\n",
        "  \"\"\"\n",
        "  ???\n",
        "  \"\"\"\n",
        "\n",
        "  json_result = restAPIHelper(url, \"POST\", request_body)\n",
        "  operation_name = json_result[\"operation_name\"]\n",
        "\n",
        "  url = f\"https://us-central1-aiplatform.googleapis.com/v1/projects/{project_id}/locations/{region}/publishers/google/models/{model}:fetchPredictOperation\"\n",
        "\n",
        "  request_body = {\n",
        "      \"operationName\": operation_name\n",
        "      }\n",
        "\n",
        "  json_result = restAPIHelper(url, \"POST\", request_body)\n",
        "  status = json_result[\"status\"]\n",
        "\n",
        "  while status == \"RUNNING\":\n",
        "    time.sleep(10)\n",
        "    json_result = restAPIHelper(url, \"POST\", request_body)\n",
        "    status = json_result[\"status\"]\n",
        "\n",
        "  return True"
      ],
      "metadata": {
        "id": "dkyDpT8SOE2k"
      },
      "execution_count": null,
      "outputs": []
    },
    {
      "cell_type": "markdown",
      "source": [
        "#### Use pre-geneated vidoes until Veo is Public Preview"
      ],
      "metadata": {
        "id": "k66j7GbaA_Lx"
      }
    },
    {
      "cell_type": "markdown",
      "source": [
        "##### Story 1 (Friends)"
      ],
      "metadata": {
        "id": "SBreCwTcKnlb"
      }
    },
    {
      "cell_type": "code",
      "source": [
        "# Veo (Pre-Generated Videos)\n",
        "# This download the files from a public bucket and then upload them as though Veo generated them\n",
        "\"\"\"\n",
        "video_and_audio_processing = []\n",
        "\n",
        "# If you want to use the pre-generate video this will use data from the public storage account\n",
        "video_and_audio_processing.append({\n",
        "    \"video-filename\" : \"veo-video-01.mp4\"\n",
        "})\n",
        "video_and_audio_processing.append({\n",
        "    \"video-filename\" : \"veo-video-02.mp4\"\n",
        "})\n",
        "video_and_audio_processing.append({\n",
        "    \"video-filename\" : \"veo-video-03.mp4\"\n",
        "})\n",
        "video_and_audio_processing.append({\n",
        "    \"video-filename\" : \"veo-video-04.mp4\"\n",
        "})\n",
        "video_and_audio_processing.append({\n",
        "    \"video-filename\" : \"veo-video-05.mp4\"\n",
        "})\n",
        "video_and_audio_processing.append({\n",
        "    \"video-filename\" : \"veo-video-06.mp4\"\n",
        "})\n",
        "video_and_audio_processing.append({\n",
        "    \"video-filename\" : \"veo-video-07.mp4\"\n",
        "})\n",
        "\n",
        "# Download the videos to the notebook computer\n",
        "for item in video_and_audio_processing:\n",
        "  download_from_gcs(f\"{directory_text_to_video_path}{item['video-filename']}\", \"data-analytics-golden-demo\", f\"chocolate-ai/v1/Campaign-Assets-Text-to-Video-01/story-01/{item['video-filename']}\")\n",
        "\n",
        "  # Simulate that Veo generated the videos (pretend that we have the files outputed from Veo on storage)\n",
        "  copy_file_to_gcs(f\"{directory_text_to_video_path}{item['video-filename']}\", storage_account, f\"chocolate-ai/v1/Campaign-Assets-Text-to-Video-01/text-to-video-{formatted_date}/{item['video-filename']}\")\n",
        "\"\"\""
      ],
      "metadata": {
        "id": "HvFfmr89BFHu"
      },
      "execution_count": null,
      "outputs": []
    },
    {
      "cell_type": "markdown",
      "source": [
        "##### Story 2 (Swan Cake)"
      ],
      "metadata": {
        "id": "gJgDqDb0KrYC"
      }
    },
    {
      "cell_type": "code",
      "source": [
        "# Veo (Pre-Generated Videos)\n",
        "# This download the files from a public bucket and then upload them as though Veo generated them\n",
        "\"\"\"\n",
        "video_and_audio_processing = []\n",
        "\n",
        "# If you want to use the pre-generate video this will use data from the public storage account\n",
        "video_and_audio_processing.append({\n",
        "    \"video-filename\" : \"veo-video-01.mp4\"\n",
        "})\n",
        "video_and_audio_processing.append({\n",
        "    \"video-filename\" : \"veo-video-02.mp4\"\n",
        "})\n",
        "video_and_audio_processing.append({\n",
        "    \"video-filename\" : \"veo-video-03.mp4\"\n",
        "})\n",
        "video_and_audio_processing.append({\n",
        "    \"video-filename\" : \"veo-video-04.mp4\"\n",
        "})\n",
        "video_and_audio_processing.append({\n",
        "    \"video-filename\" : \"veo-video-05.mp4\"\n",
        "})\n",
        "video_and_audio_processing.append({\n",
        "    \"video-filename\" : \"veo-video-06.mp4\"\n",
        "})\n",
        "\n",
        "\n",
        "# Download the videos to the notebook computer\n",
        "for item in video_and_audio_processing:\n",
        "  download_from_gcs(f\"{directory_text_to_video_path}{item['video-filename']}\", \"data-analytics-golden-demo\", f\"chocolate-ai/v1/Campaign-Assets-Text-to-Video-01/story-02/{item['video-filename']}\")\n",
        "\n",
        "  # Simulate that Veo generated the videos (pretend that we have the files outputed from Veo on storage)\n",
        "  copy_file_to_gcs(f\"{directory_text_to_video_path}{item['video-filename']}\", storage_account, f\"chocolate-ai/v1/Campaign-Assets-Text-to-Video-01/text-to-video-{formatted_date}/{item['video-filename']}\")\n",
        "\"\"\""
      ],
      "metadata": {
        "id": "DjBFOkJ5Ktv8"
      },
      "execution_count": null,
      "outputs": []
    },
    {
      "cell_type": "markdown",
      "source": [
        "##### Story 3 (Chocolatier)"
      ],
      "metadata": {
        "id": "n7A8XEzrKuoS"
      }
    },
    {
      "cell_type": "code",
      "source": [
        "# Veo (Pre-Generated Videos)\n",
        "# This download the files from a public bucket and then upload them as though Veo generated them\n",
        "\n",
        "video_and_audio_processing = []\n",
        "\n",
        "# If you want to use the pre-generate video this will use data from the public storage account\n",
        "video_and_audio_processing.append({\n",
        "    \"video-filename\" : \"veo-video-01.mp4\"\n",
        "})\n",
        "video_and_audio_processing.append({\n",
        "    \"video-filename\" : \"veo-video-02.mp4\"\n",
        "})\n",
        "video_and_audio_processing.append({\n",
        "    \"video-filename\" : \"veo-video-03.mp4\"\n",
        "})\n",
        "video_and_audio_processing.append({\n",
        "    \"video-filename\" : \"veo-video-04.mp4\"\n",
        "})\n",
        "video_and_audio_processing.append({\n",
        "    \"video-filename\" : \"veo-video-05.mp4\"\n",
        "})\n",
        "video_and_audio_processing.append({\n",
        "    \"video-filename\" : \"veo-video-06.mp4\"\n",
        "})\n",
        "video_and_audio_processing.append({\n",
        "    \"video-filename\" : \"veo-video-07.mp4\"\n",
        "})\n",
        "video_and_audio_processing.append({\n",
        "    \"video-filename\" : \"veo-video-08.mp4\"\n",
        "})\n",
        "\n",
        "# Download the videos to the notebook computer\n",
        "for item in video_and_audio_processing:\n",
        "  download_from_gcs(f\"{directory_text_to_video_path}{item['video-filename']}\", \"data-analytics-golden-demo\", f\"chocolate-ai/v1/Campaign-Assets-Text-to-Video-01/story-03/{item['video-filename']}\")\n",
        "\n",
        "  # Simulate that Veo generated the videos (pretend that we have the files outputed from Veo on storage)\n",
        "  copy_file_to_gcs(f\"{directory_text_to_video_path}{item['video-filename']}\", storage_account, f\"chocolate-ai/v1/Campaign-Assets-Text-to-Video-01/text-to-video-{formatted_date}/{item['video-filename']}\")\n"
      ],
      "metadata": {
        "id": "gAK-aUqSKxFm"
      },
      "execution_count": null,
      "outputs": []
    },
    {
      "cell_type": "markdown",
      "source": [
        "#### Create the Videos (using Veo)"
      ],
      "metadata": {
        "id": "4vwwZIC-MLPJ"
      }
    },
    {
      "cell_type": "code",
      "execution_count": null,
      "metadata": {
        "id": "K9c_G_2J6FZD"
      },
      "outputs": [],
      "source": [
        "# Veo\n",
        "\n",
        "# We need to swap our prompts to our pre-generated prompts (this is Story 1)\n",
        "text_to_video_prompts = []\n",
        "text_to_video_prompts.append({\n",
        "    \"text-to-video-prompt\" : \"Couple going down the streets and seeing a chocolate shop, like window shopping and seeing the display of chocolate and desserts.\"\n",
        "    })\n",
        "\n",
        "text_to_video_prompts.append({\n",
        "    \"text-to-video-prompt\" : \"Camera slowly moves forward, showcasing the exterior of a Parisian cafe.  The storefront is painted a light blue with gold trim. Red and white striped awnings protect small round tables, each adorned with a single red rose in a vase. The camera pans to the left to show two friends, a man and a woman, walking down the street. They stop at the storefront and look through the window at beautiful pastries on display. The camera zooms in on their faces as their eyes widen in amazement as they gaze upon rows of colorful macarons in pastel pink, green, and yellow, gleaming eclairs, and artfully crafted chocolate sculptures. Slow zoom, warm sunlight, ambiance of wonder, Paris street scene.\"\n",
        "    })\n",
        "\n",
        "text_to_video_prompts.append({\n",
        "    \"text-to-video-prompt\" : \"Camera close-up of a chocolatier chef delicately placing chocolate curls onto a \\\"Parisian Chocolate Symphony\\\" dessert to a wide shot of the picturesque Parisian street scene outside the window.  The Parisian chocolate shop scene is softly lit and warm. The camera pans to the window.\"\n",
        "    })\n",
        "\n",
        "text_to_video_prompts.append({\n",
        "    \"text-to-video-prompt\" : \"Medium range shot of three friends sitting at a bistro table, laughing together, Parisian cafe in the background, warm afternoon sunlight.  The camera slowly pushes in on the table as we hear the friends talking about the delicious premium handcrafted chocolates, handmade desserts, and coffee drinks in front of them. Close up of the Parisian Surprise, a playful dome of rich milk chocolate, hiding a secret center of marshmallow fluff and a sprinkle of sea salt.  Pull back to reveal the Doughnut Delight: Five fluffy, mini chocolate chip brioche donuts are served skewered and standing upright in a bed of creamy vanilla bean ice cream.  Topped with a drizzle of homemade salted caramel sauce and a sprinkle of cocoa powder. Camera slowly rotates around to the Rich Indulgence: Three layers of our darkest chocolate mousse, separated by thin layers of hazelnut dacquoise and topped with a delicate chocolate cage.  Finally, a slow zoom in on the Midnight in Provence: A whimsical dance of dark chocolate mousse infused with lavender, nestled atop a buttery almond biscuit. Experience the surprise of black currant jelly pockets and a sprinkle of delicate lavender buds. Warm, inviting, indulgent.\"\n",
        "    })\n",
        "\n",
        "# Same prompt a previous one\n",
        "text_to_video_prompts.append({\n",
        "    \"text-to-video-prompt\" : \"Medium range shot of three friends sitting at a bistro table, laughing together, Parisian cafe in the background, warm afternoon sunlight.  The camera slowly pushes in on the table as we hear the friends talking about the delicious premium handcrafted chocolates, handmade desserts, and coffee drinks in front of them. Close up of the Parisian Surprise, a playful dome of rich milk chocolate, hiding a secret center of marshmallow fluff and a sprinkle of sea salt.  Pull back to reveal the Doughnut Delight: Five fluffy, mini chocolate chip brioche donuts are served skewered and standing upright in a bed of creamy vanilla bean ice cream.  Topped with a drizzle of homemade salted caramel sauce and a sprinkle of cocoa powder. Camera slowly rotates around to the Rich Indulgence: Three layers of our darkest chocolate mousse, separated by thin layers of hazelnut dacquoise and topped with a delicate chocolate cage.  Finally, a slow zoom in on the Midnight in Provence: A whimsical dance of dark chocolate mousse infused with lavender, nestled atop a buttery almond biscuit. Experience the surprise of black currant jelly pockets and a sprinkle of delicate lavender buds. Warm, inviting, indulgent.\"\n",
        "    })\n",
        "\n",
        "text_to_video_prompts.append({\n",
        "    \"text-to-video-prompt\" : \"Close-up shot of a pastry chef dusting  eclair with powdered sugar in a Parisian cafe, warm lighting, focus on the pastry.\"\n",
        "    })\n",
        "\n",
        "text_to_video_prompts.append({\n",
        "    \"text-to-video-prompt\" : \"Medium range shot of three friends sitting at a bistro table, laughing together, Parisian cafe in the background, warm afternoon sunlight.  The camera slowly pushes in on the table as we hear the friends talking about the delicious premium handcrafted chocolates, handmade desserts, and coffee drinks in front of them. Close up of the Parisian Surprise, a playful dome of rich milk chocolate, hiding a secret center of marshmallow fluff and a sprinkle of sea salt.  Pull back to reveal the Doughnut Delight: Five fluffy, mini chocolate chip brioche donuts are served skewered and standing upright in a bed of creamy vanilla bean ice cream.  Topped with a drizzle of homemade salted caramel sauce and a sprinkle of cocoa powder. Camera slowly rotates around to the Rich Indulgence: Three layers of our darkest chocolate mousse, separated by thin layers of hazelnut dacquoise and topped with a delicate chocolate cage.  Finally, a slow zoom in on the Midnight in Provence: A whimsical dance of dark chocolate mousse infused with lavender, nestled atop a buttery almond biscuit. Experience the surprise of black currant jelly pockets and a sprinkle of delicate lavender buds. Warm, inviting, indulgent.\"\n",
        "    })\n",
        "\n",
        "# if using Story 2, you need to remove a prompt (we are not actually using the prompt text)\n",
        "#text_to_video_prompts.pop()\n",
        "\n",
        "# if using Story 3, you need an additional prompt\n",
        "text_to_video_prompts.append({\"text-to-video-prompt\" : \"Text does not matter\" })\n",
        "\n",
        "i = 1\n",
        "for item in text_to_video_prompts:\n",
        "  filename = f\"veo-video-0{i}.mp4\"\n",
        "  veo_output_path_for_generated_video = f\"gs://{storage_account}/chocolate-ai/v1/Campaign-Assets-Text-to-Video-01/text-to-video-{formatted_date}/{filename}\"\n",
        "\n",
        "  # No need to run this for the pre-generated videos\n",
        "  # generateVideo(item[\"text-to-video-prompt\"], veo_output_path_for_generated_video)\n",
        "\n",
        "  # Download the generate video from GCS\n",
        "  download_from_gcs(f\"{directory_text_to_video_path}{filename}\", storage_account, f\"chocolate-ai/v1/Campaign-Assets-Text-to-Video-01/text-to-video-{formatted_date}/{filename}\")\n",
        "\n",
        "  i = i + 1\n"
      ]
    },
    {
      "cell_type": "code",
      "source": [
        "# See the downloaded files\n",
        "!ls {directory_text_to_video_path}"
      ],
      "metadata": {
        "id": "whH3KKEGWJ-t"
      },
      "execution_count": null,
      "outputs": []
    },
    {
      "cell_type": "markdown",
      "source": [
        "### Merge the videos into one video\n"
      ],
      "metadata": {
        "id": "QVsdBsl_Kjs-"
      }
    },
    {
      "cell_type": "code",
      "source": [
        "# Merge the videos (the file names are when sorted match the placement of each video in the overall video)\n",
        "\n",
        "print(\"Merging videos (without audio)\")\n",
        "print(f\"directory_text_to_video_path: {directory_text_to_video_path}\")\n",
        "print(f\"full_video_filename_no_audio: {full_video_filename_no_audio}\")\n",
        "\n",
        "#merge_videos_sorted(directory_text_to_video_path, full_video_filename_no_audio)"
      ],
      "metadata": {
        "id": "02ubD5duJGIQ"
      },
      "execution_count": null,
      "outputs": []
    },
    {
      "cell_type": "code",
      "source": [
        "# View the directory of the merge text-to-video (no audio)\n",
        "!ls {full_video_filename_no_audio}"
      ],
      "metadata": {
        "id": "WYXhNh1XYHVD"
      },
      "execution_count": null,
      "outputs": []
    },
    {
      "cell_type": "code",
      "source": [
        "# Issue with Story 3 concatenation process by merge process\n",
        "download_from_gcs(f\"/content/full-video-{formatted_date}/full-video-no-audio.mp4\",\"data-analytics-golden-demo\",\"chocolate-ai/v1/Campaign-Assets-Text-to-Video-01/story-03/full-video-no-audio.mp4\")\n",
        "\n"
      ],
      "metadata": {
        "id": "xq7AuUhCapAM"
      },
      "execution_count": null,
      "outputs": []
    },
    {
      "cell_type": "code",
      "source": [
        "# upload it to GCS\n",
        "copy_file_to_gcs(full_video_filename_no_audio, storage_account, f\"chocolate-ai/v1/Campaign-Assets-Text-to-Video-01/text-to-video-{formatted_date}/full-video-no-audio.mp4\")"
      ],
      "metadata": {
        "id": "nxlpm5dMYw3N"
      },
      "execution_count": null,
      "outputs": []
    },
    {
      "cell_type": "code",
      "source": [
        "# prompt: python to play a mp4 in a jupyter notebook\n",
        "video_mp4 = open(full_video_filename_no_audio, 'rb').read()\n",
        "video_url = \"data:video/mp4;base64,\" + base64.b64encode(video_mp4).decode()"
      ],
      "metadata": {
        "id": "Wgq5iz30CfwN"
      },
      "execution_count": null,
      "outputs": []
    },
    {
      "cell_type": "code",
      "source": [
        "# 16:9 aspect ratio\n",
        "HTML(f\"\"\"\n",
        "<p>Combined text-to-video using moviepy.</p>\n",
        "<video width=600 height=337 controls>\n",
        "      <source src=\"{video_url}\" type=\"video/mp4\">\n",
        "</video>\n",
        "\"\"\")"
      ],
      "metadata": {
        "id": "zOf7J4OaDmSo"
      },
      "execution_count": null,
      "outputs": []
    },
    {
      "cell_type": "markdown",
      "source": [
        "### Text to Speech Generation - Use Gemini to write a script (let it watch the video and come up with the voice over)"
      ],
      "metadata": {
        "id": "nOWzEh-WkGfQ"
      }
    },
    {
      "cell_type": "code",
      "source": [
        "fileUri = f\"gs://{storage_account}/chocolate-ai/v1/Campaign-Assets-Text-to-Video-01/text-to-video-{formatted_date}/full-video-no-audio.mp4\"\n",
        "\n",
        "# Write me the json in  OpenAPI 3.0 schema object for the below object.\n",
        "# Make all fields required.\n",
        "#{\n",
        "#  \"voiceover\": [\n",
        "#    {\n",
        "#      \"timestamp\": \"0:00-0:05\",\n",
        "#      \"visuals\": \"Show storefront and pastries in the window\",\n",
        "#      \"script\": \"Craving something delicious?  Something decadent?  At AI Chocolates, we hand-craft elegant chocolates, pastries, and desserts that are as delightful to look at as they are to taste.\"\n",
        "#   }\n",
        "# ]\n",
        "\n",
        "response_schema = {\n",
        "  \"type\": \"object\",\n",
        "  \"required\": [\"voiceover\"],\n",
        "  \"properties\": {\n",
        "    \"voiceover\": {\n",
        "      \"type\": \"array\",\n",
        "      \"items\": {\n",
        "        \"type\": \"object\",\n",
        "        \"required\": [\"timestamp\", \"visuals\", \"script\"],\n",
        "        \"properties\": {\n",
        "          \"timestamp\": {\n",
        "            \"type\": \"string\",\n",
        "            \"format\": \"time-range\"\n",
        "          },\n",
        "          \"visuals\": {\n",
        "            \"type\": \"string\"\n",
        "          },\n",
        "          \"script\": {\n",
        "            \"type\": \"string\"\n",
        "          },\n",
        "          \"explanation\": {\n",
        "            \"type\": \"string\"\n",
        "          }\n",
        "        }\n",
        "      }\n",
        "    }\n",
        "  }\n",
        "}\n",
        "\n",
        "prompt = \"\"\"You are a marketing expert, watch the attached video for a chocolate, dessert, coffee shop named Chocolate A.I. and create a voice over script.\n",
        "\n",
        "Sample Json Output:\n",
        "{\n",
        "  \"voiceover\": [\n",
        "    {\n",
        "      \"timestamp\": \"0:00-0:05\",\n",
        "      \"visuals\": \"Show storefront and pastries in the window\",\n",
        "      \"script\": \"Craving something delicious?  Something decadent?  At AI Chocolates, we hand-craft elegant chocolates, pastries, and desserts that are as delightful to look at as they are to taste.\",\n",
        "      \"explanation\": \"Opens with enticing questions to capture attention and introduces the brand with a focus on craftsmanship and visual appeal.\"\n",
        "    },\n",
        "    {\n",
        "      \"timestamp\": \"0:06-0:11\",\n",
        "      \"visuals\": \"Continue to show storefront and various pastries\",\n",
        "      \"script\": \"Our light and airy shop, with its charming Parisian flair, offers the perfect setting to relax, indulge, and escape the everyday.\",\n",
        "      \"explanation\": \"Highlights the shop's ambiance and atmosphere, emphasizing a sense of indulgence and escape.\"\n",
        "    },\n",
        "    {\n",
        "      \"timestamp\": \"0:12-0:17\",\n",
        "      \"visuals\": \"Show the chef preparing a chocolate assortment and then friends enjoying treats\",\n",
        "      \"script\": \"Using only the finest ingredients, our expert chocolatiers create a symphony of flavors that will tantalize your taste buds.\",\n",
        "      \"explanation\": \"Emphasizes the quality of ingredients and the expertise of the chocolatiers, appealing to discerning taste buds.\"\n",
        "    },\n",
        "    {\n",
        "      \"timestamp\": \"0:18-0:29\",\n",
        "      \"visuals\": \"Focus on the joy and connection happening over the food\",\n",
        "      \"script\": \"Whether you're looking for a special treat for yourself or a loved one, AI Chocolates offers a range of options to satisfy every sweet tooth.  Come experience the magic of AI Chocolates.\",\n",
        "      \"explanation\": \"Positions AI Chocolates as a destination for both personal indulgence and gifting, while emphasizing the variety and ability to satisfy any chocolate craving. Ends with a call to action.\"\n",
        "    },\n",
        "    {\n",
        "      \"timestamp\": \"Optional closing shot\",\n",
        "      \"visuals\": \"Storefront, logo, or website address\",\n",
        "      \"script\": \"AI Chocolates. Where happiness is always on the menu.\",\n",
        "      \"explanation\": \"Reinforces the brand name and leaves a lasting impression by connecting AI Chocolates with happiness.\"\n",
        "    }\n",
        "  ]\n",
        "}\n",
        "\"\"\"\n",
        "\n",
        "multimodal_prompt_list = [\n",
        "    { \"text\": prompt },\n",
        "    { \"fileData\": {  \"mimeType\": \"video/mp4\", \"fileUri\": fileUri } },\n",
        "  ]\n",
        "\n",
        "voice_llm_response = GeminiLLM_Multimodal(multimodal_prompt_list, response_schema=response_schema)\n",
        "voice_llm_dict = json.loads(voice_llm_response)\n",
        "\n",
        "print(PrettyPrintJson(voice_llm_response))"
      ],
      "metadata": {
        "id": "LIgDjiAHYl2y"
      },
      "execution_count": null,
      "outputs": []
    },
    {
      "cell_type": "code",
      "source": [
        "# Save the prompt so we know how we got this data\n",
        "with open(\"full-text-to-speech.txt\", \"w\") as f:\n",
        "  f.write(PrettyPrintJson(voice_llm_response))\n",
        "\n",
        "# upload it to GCS\n",
        "copy_file_to_gcs(\"full-text-to-speech.txt\", storage_account, f\"chocolate-ai/v1/Campaign-Assets-Text-to-Video-01/text-to-video-{formatted_date}/full-text-to-speech.txt\")\n",
        "delete_file(\"full-text-to-speech.txt\")"
      ],
      "metadata": {
        "id": "HclEUE25z6ce"
      },
      "execution_count": null,
      "outputs": []
    },
    {
      "cell_type": "code",
      "source": [
        "# If you want the script from the orginally generated video, this is the text to speech\n",
        "text = \"\"\"\n",
        "Craving something delicious? Something decadent? At Chocolate A.I., we hand-craft elegant chocolates, pastries, and desserts that are as delightful to look at as they are to taste.\n",
        "Our light and airy shop, with its charming Parisian flair, offers the perfect setting to relax, indulge, and escape the everyday.\n",
        "Using only the finest ingredients, our expert chocolatiers create a symphony of flavors that will tantalize your taste buds.\n",
        "Whether you're looking for a special treat for yourself or a loved one,Chocolate A.I. offers a range of options to satisfy every sweet tooth.\n",
        "Chocolate A.I. Where happiness is always on the menu.\n",
        "\"\"\""
      ],
      "metadata": {
        "id": "cTn39dKEzxCX"
      },
      "execution_count": null,
      "outputs": []
    },
    {
      "cell_type": "code",
      "source": [
        "# British\n",
        "language_code = \"en-GB\"\n",
        "language_code_name = \"en-GB-Neural2-B\"\n",
        "ssml_gender = \"MALE\"\n",
        "\n",
        "text = \"\"\n",
        "for item in voice_llm_dict[\"voiceover\"]:\n",
        "  text += item[\"script\"] + \"  \"\n",
        "\n",
        "text = text.strip()\n",
        "\n",
        "# NOTE: You might need to change \"Chocolate A.I. -> Chocolate A.I.. (put a second period at the end of a sentance).\"\n",
        "# Story 2\n",
        "# text = \"Indulge in the artistry of chocolate at Chocolate A.I.. ----  Each creation is a testament to our passion for crafting edible masterpieces.  From the finest cocoa beans to the most delicate decorations, we use only the highest quality ingredients.  Whether you're celebrating a special occasion or simply treating yourself, Chocolate A.I. offers a symphony of flavors to satisfy your sweetest cravings.  Come experience the magic of  Chocolate A.I., where every bite is a work of art.  Chocolate A.I.. - Indulge  your senses.\"\n",
        "# Story 3\n",
        "# text = \"Indulge in the artistry of chocolate at Chocolate A.I., where each piece is handcrafted to perfection.  Our master chocolatiers use only the finest, ethically sourced cocoa beans and the freshest ingredients to create a symphony of flavors that will tantalize your taste buds.  From decadent truffles to exquisite bonbons and luxurious chocolate bars, each creation is a testament to our unwavering commitment to quality and craftsmanship.  More than just a chocolate shop, Chocolate A.I. is an experience. A place where you can escape the everyday and savor moments of pure indulgence.  Visit Chocolate A.I. and discover a world of chocolate beyond your wildest imagination.  Chocolate A.I.. - Where artistry meets indulgence.\"\n",
        "\n",
        "audio_file_name = f\"{directory_text_to_speech_path}full-text-to-speech-en-GB.mp3\"\n",
        "\n",
        "print (f\"Text: {text}\")\n",
        "TextToSpeech(audio_file_name,text, language_code, language_code_name, ssml_gender, .90)\n",
        "\n",
        "display(Audio(audio_file_name, autoplay=True,rate=16000))"
      ],
      "metadata": {
        "id": "unra5_W9zQ4r"
      },
      "execution_count": null,
      "outputs": []
    },
    {
      "cell_type": "code",
      "source": [
        "!ls {directory_text_to_speech_path}"
      ],
      "metadata": {
        "id": "LTNXdid4dcoc"
      },
      "execution_count": null,
      "outputs": []
    },
    {
      "cell_type": "code",
      "source": [
        "# upload it to GCS\n",
        "copy_file_to_gcs(audio_file_name, storage_account, f\"chocolate-ai/v1/Campaign-Assets-Text-to-Video-01/text-to-video-{formatted_date}/full-text-to-speech-en-GB.mp3\")"
      ],
      "metadata": {
        "id": "i-bZChhB15un"
      },
      "execution_count": null,
      "outputs": []
    },
    {
      "cell_type": "code",
      "source": [
        "# French\n",
        "language_code = \"fr-FR\"\n",
        "language_code_name = \"fr-FR-Neural2-B\"\n",
        "ssml_gender = \"MALE\"\n",
        "\n",
        "text = \"\"\n",
        "for item in voice_llm_dict[\"voiceover\"]:\n",
        "  text += item[\"script\"] + \"  \"\n",
        "\n",
        "text = text.strip()\n",
        "\n",
        "# NOTE: You might need to change \"Chocolate A.I. -> Chocolate A.I.. (put a second period at the end of a sentance).\"\n",
        "# Story 2\n",
        "# text = \"Indulge in the artistry of chocolate at Chocolate A.I.. ----  Each creation is a testament to our passion for crafting edible masterpieces.  From the finest cocoa beans to the most delicate decorations, we use only the highest quality ingredients.  Whether you're celebrating a special occasion or simply treating yourself, Chocolate A.I. offers a symphony of flavors to satisfy your sweetest cravings.  Come experience the magic of  Chocolate A.I., where every bite is a work of art.  Chocolate A.I.. - Indulge  your senses.\"\n",
        "# Story 3\n",
        "text = \"Indulge in the artistry of chocolate at Chocolate A.I., where each piece is handcrafted to perfection.  Our master chocolatiers use only the finest, ethically sourced cocoa beans and the freshest ingredients to create a symphony of flavors that will tantalize your taste buds.  From decadent truffles to exquisite bonbons and luxurious chocolate bars, each creation is a testament to our unwavering commitment to quality and craftsmanship.  More than just a chocolate shop, Chocolate A.I. is an experience. A place where you can escape the everyday and savor moments of pure indulgence.  Visit Chocolate A.I. and discover a world of chocolate beyond your wildest imagination.  Chocolate A.I.. - Where artistry meets indulgence.\"\n",
        "\n",
        "audio_file_name = f\"{directory_text_to_speech_path}full-text-to-speech-fr-FR.mp3\"\n",
        "\n",
        "print (f\"Text: {text}\")\n",
        "TextToSpeech(audio_file_name,text, language_code, language_code_name, ssml_gender, .95) # 1.01)\n",
        "\n",
        "display(Audio(audio_file_name, autoplay=True,rate=16000))"
      ],
      "metadata": {
        "id": "kGDVd-xEzu1H"
      },
      "execution_count": null,
      "outputs": []
    },
    {
      "cell_type": "code",
      "source": [
        "!ls {directory_text_to_speech_path}"
      ],
      "metadata": {
        "id": "PYT3d0Lcf5Er"
      },
      "execution_count": null,
      "outputs": []
    },
    {
      "cell_type": "code",
      "source": [
        "# upload it to GCS\n",
        "copy_file_to_gcs(audio_file_name, storage_account, f\"chocolate-ai/v1/Campaign-Assets-Text-to-Video-01/text-to-video-{formatted_date}/full-text-to-speech-fr-FR.mp3\")"
      ],
      "metadata": {
        "id": "kSisdXg7f6rz"
      },
      "execution_count": null,
      "outputs": []
    },
    {
      "cell_type": "markdown",
      "source": [
        "### Combine Video with Audio (text-to-video with text-to-audio)"
      ],
      "metadata": {
        "id": "94init3ix9kE"
      }
    },
    {
      "cell_type": "markdown",
      "source": [
        "#### English"
      ],
      "metadata": {
        "id": "igc6PaZcH7Ti"
      }
    },
    {
      "cell_type": "code",
      "source": [
        "audio_file_name = f\"{directory_text_to_speech_path}full-text-to-speech-en-GB.mp3\"\n",
        "\n",
        "print(f\"full_video_filename_no_audio: {full_video_filename_no_audio}\")\n",
        "print(f\"audio_file_name: {audio_file_name}\")\n",
        "print(f\"full_video_filename_with_audio_en_GB: {full_video_filename_with_audio_en_GB}\")\n",
        "\n",
        "MergeVideoAndAudio(full_video_filename_no_audio, audio_file_name, full_video_filename_with_audio_en_GB)"
      ],
      "metadata": {
        "id": "a38ZuOz1cer1"
      },
      "execution_count": null,
      "outputs": []
    },
    {
      "cell_type": "code",
      "source": [
        "! ls {directory_full_video_path}"
      ],
      "metadata": {
        "id": "fKSXJQCRiGAC"
      },
      "execution_count": null,
      "outputs": []
    },
    {
      "cell_type": "code",
      "source": [
        "# Show the first merged file\n",
        "# prompt: python to play a mp4 in a jupyter notebook\n",
        "video_mp4 = open(full_video_filename_with_audio_en_GB, 'rb').read()\n",
        "video_url = \"data:video/mp4;base64,\" + base64.b64encode(video_mp4).decode()"
      ],
      "metadata": {
        "id": "MWPygOjFKITJ"
      },
      "execution_count": null,
      "outputs": []
    },
    {
      "cell_type": "code",
      "source": [
        "# Play the video\n",
        "# 16:9 aspect ratio\n",
        "HTML(f\"\"\"\n",
        "<p>You might need to speed up or slow down the text-to-speech to match the overall video length.</p>\n",
        "<video width=600 height=337 controls>\n",
        "      <source src=\"{video_url}\" type=\"video/mp4\">\n",
        "</video>\n",
        "\"\"\")"
      ],
      "metadata": {
        "id": "svGgFRm6KLT2"
      },
      "execution_count": null,
      "outputs": []
    },
    {
      "cell_type": "code",
      "source": [
        "# Up load the completed video to GCS\n",
        "copy_file_to_gcs(full_video_filename_with_audio_en_GB, storage_account, f\"chocolate-ai/v1/Campaign-Assets-Text-to-Video-01/text-to-video-{formatted_date}/full-video-with-audio-en-GB.mp4\")"
      ],
      "metadata": {
        "id": "MRuxxscCiyxB"
      },
      "execution_count": null,
      "outputs": []
    },
    {
      "cell_type": "markdown",
      "source": [
        "#### French"
      ],
      "metadata": {
        "id": "Be99BlCDIAG0"
      }
    },
    {
      "cell_type": "code",
      "source": [
        "audio_file_name = f\"{directory_text_to_speech_path}full-text-to-speech-fr-FR.mp3\"\n",
        "\n",
        "print(f\"full_video_filename_no_audio: {full_video_filename_no_audio}\")\n",
        "print(f\"audio_file_name: {audio_file_name}\")\n",
        "print(f\"full_video_filename_with_audio_efull_video_filename_with_audio_fr_FRn_GB: {full_video_filename_with_audio_fr_FR}\")\n",
        "\n",
        "MergeVideoAndAudio(full_video_filename_no_audio, audio_file_name, full_video_filename_with_audio_fr_FR)"
      ],
      "metadata": {
        "id": "NxkCeteJIAG0"
      },
      "execution_count": null,
      "outputs": []
    },
    {
      "cell_type": "code",
      "source": [
        "! ls {directory_full_video_path}"
      ],
      "metadata": {
        "id": "7X5NtXbYIAG0"
      },
      "execution_count": null,
      "outputs": []
    },
    {
      "cell_type": "code",
      "source": [
        "# Show the first merged file\n",
        "# prompt: python to play a mp4 in a jupyter notebook\n",
        "video_mp4 = open(full_video_filename_with_audio_fr_FR, 'rb').read()\n",
        "video_url = \"data:video/mp4;base64,\" + base64.b64encode(video_mp4).decode()"
      ],
      "metadata": {
        "id": "LV8l9bvBIAG0"
      },
      "execution_count": null,
      "outputs": []
    },
    {
      "cell_type": "code",
      "source": [
        "# Play the video\n",
        "# 16:9 aspect ratio\n",
        "HTML(f\"\"\"\n",
        "<p>You might need to speed up or slow down the text-to-speech to match the overall video length.</p>\n",
        "<video width=600 height=337 controls>\n",
        "      <source src=\"{video_url}\" type=\"video/mp4\">\n",
        "</video>\n",
        "\"\"\")"
      ],
      "metadata": {
        "id": "gZXR9J1_IAG0"
      },
      "execution_count": null,
      "outputs": []
    },
    {
      "cell_type": "code",
      "source": [
        "# Up load the completed video to GCS\n",
        "copy_file_to_gcs(full_video_filename_with_audio_fr_FR, storage_account, f\"chocolate-ai/v1/Campaign-Assets-Text-to-Video-01/text-to-video-{formatted_date}/full-video-with-audio-fr-FR.mp4\")"
      ],
      "metadata": {
        "id": "UusJ_ZGSIAG1"
      },
      "execution_count": null,
      "outputs": []
    },
    {
      "cell_type": "markdown",
      "source": [
        "### View the Video in Cloud Storage"
      ],
      "metadata": {
        "id": "x4zDFw8d1hXb"
      }
    },
    {
      "cell_type": "code",
      "source": [
        "print(f\"View the GCS bucket: https://console.cloud.google.com/storage/browser/{storage_account}/chocolate-ai/v1/Campaign-Assets-Text-to-Video-01/text-to-video-{formatted_date}\")\n"
      ],
      "metadata": {
        "id": "wt-mRH-n07EW"
      },
      "execution_count": null,
      "outputs": []
    },
    {
      "cell_type": "markdown",
      "metadata": {
        "id": "42IxhtRRrvR-"
      },
      "source": [
        "### Clean Up"
      ]
    },
    {
      "cell_type": "code",
      "execution_count": null,
      "metadata": {
        "id": "6lF2Z7skFbvf"
      },
      "outputs": [],
      "source": [
        "user_input = input(\"Do you want to the files on this notebook machine (Y/n)?\")\n",
        "if user_input == \"Y\":\n",
        "  import shutil\n",
        "  print(f\"Removing directory: {directory_text_to_video_path}\")\n",
        "  shutil.rmtree(directory_text_to_video_path)\n",
        "\n",
        "  print(f\"Removing directory: {directory_text_to_speech_path}\")\n",
        "  shutil.rmtree(directory_text_to_speech_path)\n",
        "\n",
        "  print(f\"Removing directory: {directory_full_video_path}\")\n",
        "  shutil.rmtree(directory_full_video_path)"
      ]
    },
    {
      "cell_type": "markdown",
      "metadata": {
        "id": "ASQ2BPisXDA0"
      },
      "source": [
        "### Reference Links\n"
      ]
    },
    {
      "cell_type": "markdown",
      "metadata": {
        "id": "pRQZxRKA6FZE"
      },
      "source": [
        "- [Google.com](https://www.google.com)"
      ]
    }
  ],
  "metadata": {
    "colab": {
      "collapsed_sections": [
        "HMsUvoF4BP7Y",
        "m65vp54BUFRi",
        "UmyL-Rg4Dr_f",
        "sZ6m_wGrK0YG",
        "JbOjdSP1kN9T",
        "Hh6lubX6VTHv",
        "5dHoF0tzHlZ-",
        "wySHopHNei3E",
        "IT_AtoA3gV4q",
        "CWYQfM8BK5Sn",
        "AqKylYj_LFqB",
        "bNKaaW5ohCpd",
        "rt3ErRFLpsYe",
        "FbQT-vIUi8ab",
        "wF4xTwDM9yvp",
        "uBmWWkEb9cTF",
        "JZ1K2ofwKDnL",
        "hgFkSBarIx7H",
        "GNhgCtUdJ6HL",
        "ju3lRHquN0bL",
        "xCdbpWr_U9G5",
        "6sAG4tKmsxMm",
        "ON8euLEW99ap",
        "e0xMMVppTzJ3",
        "6GTNHglPkDV7",
        "5XxZTZVCOEjv",
        "k66j7GbaA_Lx",
        "4vwwZIC-MLPJ",
        "QVsdBsl_Kjs-",
        "nOWzEh-WkGfQ",
        "94init3ix9kE",
        "x4zDFw8d1hXb",
        "42IxhtRRrvR-",
        "ASQ2BPisXDA0"
      ],
      "name": "Campaign-Assets-Text-to-Video-01",
      "provenance": [],
      "private_outputs": true
    },
    "kernelspec": {
      "display_name": "Python 3",
      "name": "python3"
    },
    "language_info": {
      "name": "python"
    }
  },
  "nbformat": 4,
  "nbformat_minor": 0
}