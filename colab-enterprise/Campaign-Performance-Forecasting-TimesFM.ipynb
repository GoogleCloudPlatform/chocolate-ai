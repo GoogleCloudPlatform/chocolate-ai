{
  "cells": [
    {
      "cell_type": "markdown",
      "source": [
        "### To Do / License"
      ],
      "metadata": {
        "id": "zGv9RMvk60SC"
      }
    },
    {
      "cell_type": "markdown",
      "source": [
        "- Use TimesFM to make predictions\n",
        "- Highlight no training needed\n",
        "- Highlight covariants\n",
        "- We can predict the Brand Awareness Marketing Campaign\n",
        "  - Generate pass history of pass sales with covariants\n",
        "  - Predict at the Truck, User level?\n",
        "- Save data to table in BigQuery\n",
        "- Draw meaningful charts and graphs"
      ],
      "metadata": {
        "id": "Ftmd8nKY622K"
      }
    },
    {
      "cell_type": "markdown",
      "source": [
        "```\n",
        "# Copyright 2024 Google LLC\n",
        "#\n",
        "# Licensed under the Apache License, Version 2.0 (the \"License\");\n",
        "# you may not use this file except in compliance with the License.\n",
        "# You may obtain a copy of the License at\n",
        "#\n",
        "#     https://www.apache.org/licenses/LICENSE-2.0\n",
        "#\n",
        "# Unless required by applicable law or agreed to in writing, software\n",
        "# distributed under the License is distributed on an \"AS IS\" BASIS,\n",
        "# WITHOUT WARRANTIES OR CONDITIONS OF ANY KIND, either express or implied.\n",
        "# See the License for the specific language governing permissions and\n",
        "# limitations under the License.\n",
        "```\n",
        "\n",
        "Author: Adam Paternostro"
      ],
      "metadata": {
        "id": "jKMvg3Zu65ir"
      }
    },
    {
      "cell_type": "markdown",
      "metadata": {
        "id": "u2eMxVsHcUpt"
      },
      "source": [
        "### Readme\n"
      ]
    },
    {
      "cell_type": "markdown",
      "source": [
        "- Run this on a e2-standard-8 machine with 250 GB of disk.\n",
        "- A GPU is not required for testing purposes in this notebook.\n",
        "- You can deploy TimesFM via the Vertex Model Garden utilizing a GPU."
      ],
      "metadata": {
        "id": "xELYIAeekMSH"
      }
    },
    {
      "cell_type": "markdown",
      "metadata": {
        "id": "atluG-A1bv2e"
      },
      "source": [
        "### TimesFM - Overview"
      ]
    },
    {
      "cell_type": "markdown",
      "metadata": {
        "id": "U7yMdKEeNAgt"
      },
      "source": [
        "- View GitHub repository: [Link](https://github.com/google-research/timesfm/)\n",
        "- TimesFM is a \"State-of-the-Art Large Language Models\". These are the most advanced and powerful language models currently available.\n",
        "- TimesFM supports univariate time-series forecasting\n",
        "  - This is like trying to predict what the temperature will be tomorrow, based only on the past temperature data. We're not looking at other factors like rainfall or humidity, just the temperature itself. It's like saying, \"Based on how the temperature has changed in the past, what's my best guess for tomorrow?\"\n",
        "- TimesFM also supports Covariate/Multivariate support\n",
        "  - Now imagine we want to improve our predictions by considering other factors that might influence the temperature, like rainfall or humidity. That's where covariate/multivariate support comes in. It's like saying, \"Okay, I know past temperatures are important, but what if I also looked at past rainfall and humidity to make my prediction even better?\"\n",
        "    - Covariates: These are the additional factors (like rainfall and humidity) that we think might influence the thing we're trying to predict. They're like sidekicks helping us make a more informed guess.\n",
        "    - Multivariate: This just means we're now dealing with multiple variables (temperature, rainfall, humidity) instead of just one.\n",
        "  So with covariate/multivariate support, our forecasting model gets smarter. It can learn how changes in rainfall or humidity tend to affect the temperature, and use that information to make more accurate predictions. It's like having a team of experts working together to solve a puzzle, instead of just one person trying to figure it out alone.\n",
        "  - Notebook with covariates ([link](https://github.com/google-research/timesfm/blob/master/notebooks/covariates.ipynb))\n",
        "- Decoder-only patched-transformer architecture\n",
        "  - This is getting into the technical nuts and bolts of how the model is built.\n",
        "  - \"Transformer\" is a type of neural network architecture that has become very popular for language tasks.\n",
        "  - \"Decoder-only\" means it's specifically designed for generating text (like in translation or writing tasks), not for understanding and analyzing existing text.\n",
        "  - \"Patched\" likely refers to some modifications made to the basic transformer design to make it more efficient or better suited to the specific task.\n",
        "- Can handle different context and horizon length\n",
        "  - \"Context\" refers to the surrounding information the model uses to make predictions. So, this model can work with varying amounts of context, from short sentences to longer passages.\n",
        "  - \"Horizon length\" is how far into the future the model is trying to predict. This design can handle both short-term and longer-term predictions.\n",
        "- Fast inference due to patching\n",
        "  - \"Inference\" is the process of using the model to make predictions.\n",
        "  - The \"patching\" mentioned earlier helps make this process faster. This is important for real-world applications where you need quick responses.\n"
      ]
    },
    {
      "cell_type": "markdown",
      "metadata": {
        "id": "2d24Ai71MQLE"
      },
      "source": [
        "### Tutorial: Sales Forecast (Marketing Campaign, Day of Week, Temperature)\n"
      ]
    },
    {
      "cell_type": "markdown",
      "source": [
        "#### Example Scenerio"
      ],
      "metadata": {
        "id": "5TMD-yNekBnI"
      }
    },
    {
      "cell_type": "code",
      "execution_count": 7,
      "metadata": {
        "id": "BO7wjTAoOhpG",
        "colab": {
          "base_uri": "https://localhost:8080/",
          "height": 384
        },
        "executionInfo": {
          "status": "ok",
          "timestamp": 1726251727110,
          "user_tz": 240,
          "elapsed": 5,
          "user": {
            "displayName": "",
            "userId": ""
          }
        },
        "outputId": "064a2290-9ca1-4ba2-951a-c0261ff8f8f6"
      },
      "outputs": [
        {
          "output_type": "execute_result",
          "data": {
            "text/html": [
              "<img src=\"https://storage.googleapis.com/data-analytics-golden-demo/chocolate-ai/v2/artifacts/chocolate-ai-TimesFM.png\" width=\"1200\"/>"
            ],
            "text/plain": [
              "<IPython.core.display.Image object>"
            ]
          },
          "metadata": {},
          "execution_count": 7
        }
      ],
      "source": [
        "# We want to predict our coffee sales based upon past sales, past marketing campaigns and the temperature.\n",
        "\n",
        "# Let's view our example data.\n",
        "# We have 2 weeks of existings sales data (columns C through P)\n",
        "#   For the sales data we know:\n",
        "#      1. If a marketing campaign was taking place\n",
        "#      2. The day of the week (maybe weekends are busier?)\n",
        "#      3. The temperature (maywe we sell more on cold days that hot?)\n",
        "# We have the price and item name which are \"static\"\n",
        "\n",
        "# We want to predict the next 1 week of sales data\n",
        "#   We need to provide if we will be running a marketing campaign, the temperature (so get the next weeks weather data) and the day of the week\n",
        "#   We can then run our prediction\n",
        "\n",
        "from IPython.display import Image\n",
        "Image(url='https://storage.googleapis.com/data-analytics-golden-demo/chocolate-ai/v2/artifacts/chocolate-ai-TimesFM.png', width=1200)"
      ]
    },
    {
      "cell_type": "markdown",
      "metadata": {
        "id": "tJFc82W9OhKr"
      },
      "source": [
        "- See this Google Sheet for the data ([link](https://docs.google.com/spreadsheets/d/1kutd-R2PAj26nZGnCAHPGK8MyFWZMnStA2yzki4q60o/edit?gid=0#gid=0))"
      ]
    },
    {
      "cell_type": "code",
      "execution_count": 8,
      "metadata": {
        "id": "ieaRyjdaBxWK",
        "colab": {
          "base_uri": "https://localhost:8080/"
        },
        "executionInfo": {
          "status": "ok",
          "timestamp": 1726251733536,
          "user_tz": 240,
          "elapsed": 6429,
          "user": {
            "displayName": "",
            "userId": ""
          }
        },
        "outputId": "7df76a29-e373-456d-cfeb-56ef2b4953af"
      },
      "outputs": [
        {
          "output_type": "stream",
          "name": "stdout",
          "text": [
            "Requirement already satisfied: timesfm in /usr/local/lib/python3.10/dist-packages (1.1.0)\n",
            "Requirement already satisfied: einshape>=1.0.0 in /usr/local/lib/python3.10/dist-packages (from timesfm) (1.0)\n",
            "Requirement already satisfied: huggingface_hub>=0.23.0 in /usr/local/lib/python3.10/dist-packages (from huggingface_hub[cli]>=0.23.0->timesfm) (0.24.6)\n",
            "Requirement already satisfied: jax>=0.4.26 in /usr/local/lib/python3.10/dist-packages (from jax[cuda12]>=0.4.26->timesfm) (0.4.26)\n",
            "Requirement already satisfied: jaxlib>=0.4.26 in /usr/local/lib/python3.10/dist-packages (from timesfm) (0.4.26+cuda12.cudnn89)\n",
            "Requirement already satisfied: numpy>=1.26.4 in /usr/local/lib/python3.10/dist-packages (from timesfm) (1.26.4)\n",
            "Requirement already satisfied: pandas>=2.1.4 in /usr/local/lib/python3.10/dist-packages (from timesfm) (2.1.4)\n",
            "Requirement already satisfied: paxml>=1.4.0 in /usr/local/lib/python3.10/dist-packages (from timesfm) (1.4.0)\n",
            "Requirement already satisfied: scikit-learn>=1.2.2 in /usr/local/lib/python3.10/dist-packages (from timesfm) (1.3.2)\n",
            "Requirement already satisfied: typer>=0.12.3 in /usr/local/lib/python3.10/dist-packages (from timesfm) (0.12.5)\n",
            "Requirement already satisfied: utilsforecast>=0.1.10 in /usr/local/lib/python3.10/dist-packages (from timesfm) (0.2.4)\n",
            "Requirement already satisfied: wandb>=0.17.5 in /usr/local/lib/python3.10/dist-packages (from timesfm) (0.18.0)\n",
            "Requirement already satisfied: absl-py in /usr/local/lib/python3.10/dist-packages (from einshape>=1.0.0->timesfm) (1.4.0)\n",
            "Requirement already satisfied: filelock in /usr/local/lib/python3.10/dist-packages (from huggingface_hub>=0.23.0->huggingface_hub[cli]>=0.23.0->timesfm) (3.15.4)\n",
            "Requirement already satisfied: fsspec>=2023.5.0 in /usr/local/lib/python3.10/dist-packages (from huggingface_hub>=0.23.0->huggingface_hub[cli]>=0.23.0->timesfm) (2024.6.1)\n",
            "Requirement already satisfied: packaging>=20.9 in /usr/local/lib/python3.10/dist-packages (from huggingface_hub>=0.23.0->huggingface_hub[cli]>=0.23.0->timesfm) (24.1)\n",
            "Requirement already satisfied: pyyaml>=5.1 in /usr/local/lib/python3.10/dist-packages (from huggingface_hub>=0.23.0->huggingface_hub[cli]>=0.23.0->timesfm) (6.0.2)\n",
            "Requirement already satisfied: requests in /usr/local/lib/python3.10/dist-packages (from huggingface_hub>=0.23.0->huggingface_hub[cli]>=0.23.0->timesfm) (2.32.3)\n",
            "Requirement already satisfied: tqdm>=4.42.1 in /usr/local/lib/python3.10/dist-packages (from huggingface_hub>=0.23.0->huggingface_hub[cli]>=0.23.0->timesfm) (4.66.5)\n",
            "Requirement already satisfied: typing-extensions>=3.7.4.3 in /usr/local/lib/python3.10/dist-packages (from huggingface_hub>=0.23.0->huggingface_hub[cli]>=0.23.0->timesfm) (4.12.2)\n",
            "Requirement already satisfied: InquirerPy==0.3.4 in /usr/local/lib/python3.10/dist-packages (from huggingface_hub[cli]>=0.23.0->timesfm) (0.3.4)\n",
            "Requirement already satisfied: pfzy<0.4.0,>=0.3.1 in /usr/local/lib/python3.10/dist-packages (from InquirerPy==0.3.4->huggingface_hub[cli]>=0.23.0->timesfm) (0.3.4)\n",
            "Requirement already satisfied: prompt-toolkit<4.0.0,>=3.0.1 in /usr/local/lib/python3.10/dist-packages (from InquirerPy==0.3.4->huggingface_hub[cli]>=0.23.0->timesfm) (3.0.47)\n",
            "Requirement already satisfied: ml-dtypes>=0.2.0 in /usr/local/lib/python3.10/dist-packages (from jax>=0.4.26->jax[cuda12]>=0.4.26->timesfm) (0.4.0)\n",
            "Requirement already satisfied: opt-einsum in /usr/local/lib/python3.10/dist-packages (from jax>=0.4.26->jax[cuda12]>=0.4.26->timesfm) (3.3.0)\n",
            "Requirement already satisfied: scipy>=1.9 in /usr/local/lib/python3.10/dist-packages (from jax>=0.4.26->jax[cuda12]>=0.4.26->timesfm) (1.13.1)\n",
            "Requirement already satisfied: jax-cuda12-plugin==0.4.26 in /usr/local/lib/python3.10/dist-packages (from jax[cuda12]>=0.4.26->timesfm) (0.4.26)\n",
            "Requirement already satisfied: nvidia-cublas-cu12>=12.1.3.1 in /usr/local/lib/python3.10/dist-packages (from jax[cuda12]>=0.4.26->timesfm) (12.6.1.4)\n",
            "Requirement already satisfied: nvidia-cuda-cupti-cu12>=12.1.105 in /usr/local/lib/python3.10/dist-packages (from jax[cuda12]>=0.4.26->timesfm) (12.6.68)\n",
            "Requirement already satisfied: nvidia-cuda-nvcc-cu12>=12.1.105 in /usr/local/lib/python3.10/dist-packages (from jax[cuda12]>=0.4.26->timesfm) (12.6.68)\n",
            "Requirement already satisfied: nvidia-cuda-runtime-cu12>=12.1.105 in /usr/local/lib/python3.10/dist-packages (from jax[cuda12]>=0.4.26->timesfm) (12.6.68)\n",
            "Requirement already satisfied: nvidia-cudnn-cu12<9.0,>=8.9.2.26 in /usr/local/lib/python3.10/dist-packages (from jax[cuda12]>=0.4.26->timesfm) (8.9.7.29)\n",
            "Requirement already satisfied: nvidia-cufft-cu12>=11.0.2.54 in /usr/local/lib/python3.10/dist-packages (from jax[cuda12]>=0.4.26->timesfm) (11.2.6.59)\n",
            "Requirement already satisfied: nvidia-cusolver-cu12>=11.4.5.107 in /usr/local/lib/python3.10/dist-packages (from jax[cuda12]>=0.4.26->timesfm) (11.6.4.69)\n",
            "Requirement already satisfied: nvidia-cusparse-cu12>=12.1.0.106 in /usr/local/lib/python3.10/dist-packages (from jax[cuda12]>=0.4.26->timesfm) (12.5.3.3)\n",
            "Requirement already satisfied: nvidia-nccl-cu12>=2.18.1 in /usr/local/lib/python3.10/dist-packages (from jax[cuda12]>=0.4.26->timesfm) (2.22.3)\n",
            "Requirement already satisfied: nvidia-nvjitlink-cu12>=12.1.105 in /usr/local/lib/python3.10/dist-packages (from jax[cuda12]>=0.4.26->timesfm) (12.6.68)\n",
            "Requirement already satisfied: jax-cuda12-pjrt==0.4.26 in /usr/local/lib/python3.10/dist-packages (from jax-cuda12-plugin==0.4.26->jax[cuda12]>=0.4.26->timesfm) (0.4.26)\n",
            "Requirement already satisfied: python-dateutil>=2.8.2 in /usr/local/lib/python3.10/dist-packages (from pandas>=2.1.4->timesfm) (2.8.2)\n",
            "Requirement already satisfied: pytz>=2020.1 in /usr/local/lib/python3.10/dist-packages (from pandas>=2.1.4->timesfm) (2024.1)\n",
            "Requirement already satisfied: tzdata>=2022.1 in /usr/local/lib/python3.10/dist-packages (from pandas>=2.1.4->timesfm) (2024.1)\n",
            "Requirement already satisfied: clu==0.0.11 in /usr/local/lib/python3.10/dist-packages (from paxml>=1.4.0->timesfm) (0.0.11)\n",
            "Requirement already satisfied: etils==1.7.0 in /usr/local/lib/python3.10/dist-packages (from paxml>=1.4.0->timesfm) (1.7.0)\n",
            "Requirement already satisfied: flax==0.8.2 in /usr/local/lib/python3.10/dist-packages (from paxml>=1.4.0->timesfm) (0.8.2)\n",
            "Requirement already satisfied: graphviz==0.20.1 in /usr/local/lib/python3.10/dist-packages (from paxml>=1.4.0->timesfm) (0.20.1)\n",
            "Requirement already satisfied: lingvo==0.12.7 in /usr/local/lib/python3.10/dist-packages (from paxml>=1.4.0->timesfm) (0.12.7)\n",
            "Requirement already satisfied: orbax-checkpoint==0.5.9 in /usr/local/lib/python3.10/dist-packages (from paxml>=1.4.0->timesfm) (0.5.9)\n",
            "Requirement already satisfied: praxis==1.4.0 in /usr/local/lib/python3.10/dist-packages (from paxml>=1.4.0->timesfm) (1.4.0)\n",
            "Requirement already satisfied: protobuf==3.19.6 in /usr/local/lib/python3.10/dist-packages (from paxml>=1.4.0->timesfm) (3.19.6)\n",
            "Requirement already satisfied: pyglove==0.4.4 in /usr/local/lib/python3.10/dist-packages (from paxml>=1.4.0->timesfm) (0.4.4)\n",
            "Requirement already satisfied: seqio-nightly==0.0.17.dev20231010 in /usr/local/lib/python3.10/dist-packages (from paxml>=1.4.0->timesfm) (0.0.17.dev20231010)\n",
            "Requirement already satisfied: t5==0.9.4 in /usr/local/lib/python3.10/dist-packages (from paxml>=1.4.0->timesfm) (0.9.4)\n",
            "Requirement already satisfied: tensorflow-datasets==4.8.3 in /usr/local/lib/python3.10/dist-packages (from paxml>=1.4.0->timesfm) (4.8.3)\n",
            "Requirement already satisfied: tensorflow-metadata==1.12.0 in /usr/local/lib/python3.10/dist-packages (from paxml>=1.4.0->timesfm) (1.12.0)\n",
            "Requirement already satisfied: tensorflow-text~=2.9.0 in /usr/local/lib/python3.10/dist-packages (from paxml>=1.4.0->timesfm) (2.9.0)\n",
            "Requirement already satisfied: tensorflow~=2.9.2 in /usr/local/lib/python3.10/dist-packages (from paxml>=1.4.0->timesfm) (2.9.3)\n",
            "Requirement already satisfied: tensorstore==0.1.55 in /usr/local/lib/python3.10/dist-packages (from paxml>=1.4.0->timesfm) (0.1.55)\n",
            "Requirement already satisfied: tfds-nightly==4.8.3.dev202303280045 in /usr/local/lib/python3.10/dist-packages (from paxml>=1.4.0->timesfm) (4.8.3.dev202303280045)\n",
            "Requirement already satisfied: ml-collections in /usr/local/lib/python3.10/dist-packages (from clu==0.0.11->paxml>=1.4.0->timesfm) (0.1.1)\n",
            "Requirement already satisfied: wrapt in /usr/local/lib/python3.10/dist-packages (from clu==0.0.11->paxml>=1.4.0->timesfm) (1.16.0)\n",
            "Requirement already satisfied: msgpack in /usr/local/lib/python3.10/dist-packages (from flax==0.8.2->paxml>=1.4.0->timesfm) (1.0.8)\n",
            "Requirement already satisfied: optax in /usr/local/lib/python3.10/dist-packages (from flax==0.8.2->paxml>=1.4.0->timesfm) (0.2.2)\n",
            "Requirement already satisfied: rich>=11.1 in /usr/local/lib/python3.10/dist-packages (from flax==0.8.2->paxml>=1.4.0->timesfm) (13.8.0)\n",
            "Requirement already satisfied: attrs in /usr/local/lib/python3.10/dist-packages (from lingvo==0.12.7->paxml>=1.4.0->timesfm) (24.2.0)\n",
            "Requirement already satisfied: graph-compression-google-research in /usr/local/lib/python3.10/dist-packages (from lingvo==0.12.7->paxml>=1.4.0->timesfm) (0.0.4)\n",
            "Requirement already satisfied: ipykernel in /usr/local/lib/python3.10/dist-packages (from lingvo==0.12.7->paxml>=1.4.0->timesfm) (6.29.5)\n",
            "Requirement already satisfied: jupyter-http-over-ws in /usr/local/lib/python3.10/dist-packages (from lingvo==0.12.7->paxml>=1.4.0->timesfm) (0.0.8)\n",
            "Requirement already satisfied: jupyter in /usr/local/lib/python3.10/dist-packages (from lingvo==0.12.7->paxml>=1.4.0->timesfm) (1.1.1)\n",
            "Requirement already satisfied: matplotlib in /usr/local/lib/python3.10/dist-packages (from lingvo==0.12.7->paxml>=1.4.0->timesfm) (3.7.1)\n",
            "Requirement already satisfied: model-pruning-google-research in /usr/local/lib/python3.10/dist-packages (from lingvo==0.12.7->paxml>=1.4.0->timesfm) (0.0.5)\n",
            "Requirement already satisfied: Pillow in /usr/local/lib/python3.10/dist-packages (from lingvo==0.12.7->paxml>=1.4.0->timesfm) (9.4.0)\n",
            "Requirement already satisfied: sentencepiece in /usr/local/lib/python3.10/dist-packages (from lingvo==0.12.7->paxml>=1.4.0->timesfm) (0.1.99)\n",
            "Requirement already satisfied: sympy in /usr/local/lib/python3.10/dist-packages (from lingvo==0.12.7->paxml>=1.4.0->timesfm) (1.13.2)\n",
            "Requirement already satisfied: tensorflow-hub in /usr/local/lib/python3.10/dist-packages (from lingvo==0.12.7->paxml>=1.4.0->timesfm) (0.16.1)\n",
            "Requirement already satisfied: nest_asyncio in /usr/local/lib/python3.10/dist-packages (from orbax-checkpoint==0.5.9->paxml>=1.4.0->timesfm) (1.6.0)\n",
            "Requirement already satisfied: chex>=0.1.85 in /usr/local/lib/python3.10/dist-packages (from praxis==1.4.0->paxml>=1.4.0->timesfm) (0.1.86)\n",
            "Requirement already satisfied: einops==0.7.0 in /usr/local/lib/python3.10/dist-packages (from praxis==1.4.0->paxml>=1.4.0->timesfm) (0.7.0)\n",
            "Requirement already satisfied: fiddle==0.3.0 in /usr/local/lib/python3.10/dist-packages (from praxis==1.4.0->paxml>=1.4.0->timesfm) (0.3.0)\n",
            "Requirement already satisfied: jax-bitempered-loss==0.0.2 in /usr/local/lib/python3.10/dist-packages (from praxis==1.4.0->paxml>=1.4.0->timesfm) (0.0.2)\n",
            "Requirement already satisfied: jaxtyping==0.2.28 in /usr/local/lib/python3.10/dist-packages (from praxis==1.4.0->paxml>=1.4.0->timesfm) (0.2.28)\n",
            "Requirement already satisfied: optax-shampoo==0.0.6 in /usr/local/lib/python3.10/dist-packages (from praxis==1.4.0->paxml>=1.4.0->timesfm) (0.0.6)\n",
            "Requirement already satisfied: typeguard==2.13.3 in /usr/local/lib/python3.10/dist-packages (from praxis==1.4.0->paxml>=1.4.0->timesfm) (2.13.3)\n",
            "Requirement already satisfied: docstring-parser>=0.12 in /usr/local/lib/python3.10/dist-packages (from pyglove==0.4.4->paxml>=1.4.0->timesfm) (0.16)\n",
            "Requirement already satisfied: editdistance in /usr/local/lib/python3.10/dist-packages (from seqio-nightly==0.0.17.dev20231010->paxml>=1.4.0->timesfm) (0.8.1)\n",
            "Requirement already satisfied: babel in /usr/local/lib/python3.10/dist-packages (from t5==0.9.4->paxml>=1.4.0->timesfm) (2.16.0)\n",
            "Requirement already satisfied: immutabledict in /usr/local/lib/python3.10/dist-packages (from t5==0.9.4->paxml>=1.4.0->timesfm) (4.2.0)\n",
            "Requirement already satisfied: gin-config in /usr/local/lib/python3.10/dist-packages (from t5==0.9.4->paxml>=1.4.0->timesfm) (0.5.0)\n",
            "Requirement already satisfied: mesh-tensorflow>=0.1.13 in /usr/local/lib/python3.10/dist-packages (from mesh-tensorflow[transformer]>=0.1.13->t5==0.9.4->paxml>=1.4.0->timesfm) (0.1.21)\n",
            "Requirement already satisfied: nltk in /usr/local/lib/python3.10/dist-packages (from t5==0.9.4->paxml>=1.4.0->timesfm) (3.8.1)\n",
            "Requirement already satisfied: rouge-score>=0.1.2 in /usr/local/lib/python3.10/dist-packages (from t5==0.9.4->paxml>=1.4.0->timesfm) (0.1.2)\n",
            "Requirement already satisfied: sacrebleu in /usr/local/lib/python3.10/dist-packages (from t5==0.9.4->paxml>=1.4.0->timesfm) (2.4.3)\n",
            "Requirement already satisfied: six>=1.14 in /usr/local/lib/python3.10/dist-packages (from t5==0.9.4->paxml>=1.4.0->timesfm) (1.16.0)\n",
            "Requirement already satisfied: transformers>=2.7.0 in /usr/local/lib/python3.10/dist-packages (from t5==0.9.4->paxml>=1.4.0->timesfm) (4.44.2)\n",
            "Requirement already satisfied: click in /usr/local/lib/python3.10/dist-packages (from tensorflow-datasets==4.8.3->paxml>=1.4.0->timesfm) (8.1.7)\n",
            "Requirement already satisfied: dm-tree in /usr/local/lib/python3.10/dist-packages (from tensorflow-datasets==4.8.3->paxml>=1.4.0->timesfm) (0.1.8)\n",
            "Requirement already satisfied: promise in /usr/local/lib/python3.10/dist-packages (from tensorflow-datasets==4.8.3->paxml>=1.4.0->timesfm) (2.3)\n",
            "Requirement already satisfied: psutil in /usr/local/lib/python3.10/dist-packages (from tensorflow-datasets==4.8.3->paxml>=1.4.0->timesfm) (5.9.5)\n",
            "Requirement already satisfied: termcolor in /usr/local/lib/python3.10/dist-packages (from tensorflow-datasets==4.8.3->paxml>=1.4.0->timesfm) (2.4.0)\n",
            "Requirement already satisfied: toml in /usr/local/lib/python3.10/dist-packages (from tensorflow-datasets==4.8.3->paxml>=1.4.0->timesfm) (0.10.2)\n",
            "Requirement already satisfied: googleapis-common-protos<2,>=1.52.0 in /usr/local/lib/python3.10/dist-packages (from tensorflow-metadata==1.12.0->paxml>=1.4.0->timesfm) (1.63.1)\n",
            "Requirement already satisfied: array-record in /usr/local/lib/python3.10/dist-packages (from tfds-nightly==4.8.3.dev202303280045->paxml>=1.4.0->timesfm) (0.5.1)\n",
            "Requirement already satisfied: libcst in /usr/local/lib/python3.10/dist-packages (from fiddle==0.3.0->praxis==1.4.0->paxml>=1.4.0->timesfm) (1.4.0)\n",
            "Requirement already satisfied: joblib>=1.1.1 in /usr/local/lib/python3.10/dist-packages (from scikit-learn>=1.2.2->timesfm) (1.4.2)\n",
            "Requirement already satisfied: threadpoolctl>=2.0.0 in /usr/local/lib/python3.10/dist-packages (from scikit-learn>=1.2.2->timesfm) (3.5.0)\n",
            "Requirement already satisfied: shellingham>=1.3.0 in /usr/local/lib/python3.10/dist-packages (from typer>=0.12.3->timesfm) (1.5.4)\n",
            "Requirement already satisfied: docker-pycreds>=0.4.0 in /usr/local/lib/python3.10/dist-packages (from wandb>=0.17.5->timesfm) (0.4.0)\n",
            "Requirement already satisfied: gitpython!=3.1.29,>=1.0.0 in /usr/local/lib/python3.10/dist-packages (from wandb>=0.17.5->timesfm) (3.1.43)\n",
            "Requirement already satisfied: platformdirs in /usr/local/lib/python3.10/dist-packages (from wandb>=0.17.5->timesfm) (4.2.2)\n",
            "Requirement already satisfied: sentry-sdk>=1.0.0 in /usr/local/lib/python3.10/dist-packages (from wandb>=0.17.5->timesfm) (2.14.0)\n",
            "Requirement already satisfied: setproctitle in /usr/local/lib/python3.10/dist-packages (from wandb>=0.17.5->timesfm) (1.3.3)\n",
            "Requirement already satisfied: setuptools in /usr/local/lib/python3.10/dist-packages (from wandb>=0.17.5->timesfm) (69.5.1)\n",
            "Requirement already satisfied: gitdb<5,>=4.0.1 in /usr/local/lib/python3.10/dist-packages (from gitpython!=3.1.29,>=1.0.0->wandb>=0.17.5->timesfm) (4.0.11)\n",
            "Requirement already satisfied: nvidia-cuda-nvrtc-cu12 in /usr/local/lib/python3.10/dist-packages (from nvidia-cudnn-cu12<9.0,>=8.9.2.26->jax[cuda12]>=0.4.26->timesfm) (12.6.68)\n",
            "Requirement already satisfied: charset-normalizer<4,>=2 in /usr/local/lib/python3.10/dist-packages (from requests->huggingface_hub>=0.23.0->huggingface_hub[cli]>=0.23.0->timesfm) (3.3.2)\n",
            "Requirement already satisfied: idna<4,>=2.5 in /usr/local/lib/python3.10/dist-packages (from requests->huggingface_hub>=0.23.0->huggingface_hub[cli]>=0.23.0->timesfm) (3.8)\n",
            "Requirement already satisfied: urllib3<3,>=1.21.1 in /usr/local/lib/python3.10/dist-packages (from requests->huggingface_hub>=0.23.0->huggingface_hub[cli]>=0.23.0->timesfm) (2.0.7)\n",
            "Requirement already satisfied: certifi>=2017.4.17 in /usr/local/lib/python3.10/dist-packages (from requests->huggingface_hub>=0.23.0->huggingface_hub[cli]>=0.23.0->timesfm) (2024.8.30)\n",
            "Requirement already satisfied: markdown-it-py>=2.2.0 in /usr/local/lib/python3.10/dist-packages (from rich>=11.1->flax==0.8.2->paxml>=1.4.0->timesfm) (3.0.0)\n",
            "Requirement already satisfied: pygments<3.0.0,>=2.13.0 in /usr/local/lib/python3.10/dist-packages (from rich>=11.1->flax==0.8.2->paxml>=1.4.0->timesfm) (2.16.1)\n",
            "Requirement already satisfied: astunparse>=1.6.0 in /usr/local/lib/python3.10/dist-packages (from tensorflow~=2.9.2->paxml>=1.4.0->timesfm) (1.6.3)\n",
            "Requirement already satisfied: flatbuffers<2,>=1.12 in /usr/local/lib/python3.10/dist-packages (from tensorflow~=2.9.2->paxml>=1.4.0->timesfm) (1.12)\n",
            "Requirement already satisfied: gast<=0.4.0,>=0.2.1 in /usr/local/lib/python3.10/dist-packages (from tensorflow~=2.9.2->paxml>=1.4.0->timesfm) (0.4.0)\n",
            "Requirement already satisfied: google-pasta>=0.1.1 in /usr/local/lib/python3.10/dist-packages (from tensorflow~=2.9.2->paxml>=1.4.0->timesfm) (0.2.0)\n",
            "Requirement already satisfied: grpcio<2.0,>=1.24.3 in /usr/local/lib/python3.10/dist-packages (from tensorflow~=2.9.2->paxml>=1.4.0->timesfm) (1.64.1)\n",
            "Requirement already satisfied: h5py>=2.9.0 in /usr/local/lib/python3.10/dist-packages (from tensorflow~=2.9.2->paxml>=1.4.0->timesfm) (3.11.0)\n",
            "Requirement already satisfied: keras<2.10.0,>=2.9.0rc0 in /usr/local/lib/python3.10/dist-packages (from tensorflow~=2.9.2->paxml>=1.4.0->timesfm) (2.9.0)\n",
            "Requirement already satisfied: keras-preprocessing>=1.1.1 in /usr/local/lib/python3.10/dist-packages (from tensorflow~=2.9.2->paxml>=1.4.0->timesfm) (1.1.2)\n",
            "Requirement already satisfied: libclang>=13.0.0 in /usr/local/lib/python3.10/dist-packages (from tensorflow~=2.9.2->paxml>=1.4.0->timesfm) (18.1.1)\n",
            "Requirement already satisfied: tensorboard<2.10,>=2.9 in /usr/local/lib/python3.10/dist-packages (from tensorflow~=2.9.2->paxml>=1.4.0->timesfm) (2.9.1)\n",
            "Requirement already satisfied: tensorflow-io-gcs-filesystem>=0.23.1 in /usr/local/lib/python3.10/dist-packages (from tensorflow~=2.9.2->paxml>=1.4.0->timesfm) (0.37.1)\n",
            "Requirement already satisfied: tensorflow-estimator<2.10.0,>=2.9.0rc0 in /usr/local/lib/python3.10/dist-packages (from tensorflow~=2.9.2->paxml>=1.4.0->timesfm) (2.9.0)\n",
            "Requirement already satisfied: wheel<1.0,>=0.23.0 in /usr/local/lib/python3.10/dist-packages (from astunparse>=1.6.0->tensorflow~=2.9.2->paxml>=1.4.0->timesfm) (0.44.0)\n",
            "Requirement already satisfied: toolz>=0.9.0 in /usr/local/lib/python3.10/dist-packages (from chex>=0.1.85->praxis==1.4.0->paxml>=1.4.0->timesfm) (0.12.1)\n",
            "Requirement already satisfied: importlib_resources in /usr/local/lib/python3.10/dist-packages (from etils[enp,epath]>=0.9.0->tensorflow-datasets==4.8.3->paxml>=1.4.0->timesfm) (6.4.4)\n",
            "Requirement already satisfied: zipp in /usr/local/lib/python3.10/dist-packages (from etils[enp,epath]>=0.9.0->tensorflow-datasets==4.8.3->paxml>=1.4.0->timesfm) (3.20.1)\n",
            "Requirement already satisfied: smmap<6,>=3.0.1 in /usr/local/lib/python3.10/dist-packages (from gitdb<5,>=4.0.1->gitpython!=3.1.29,>=1.0.0->wandb>=0.17.5->timesfm) (5.0.1)\n",
            "Requirement already satisfied: mdurl~=0.1 in /usr/local/lib/python3.10/dist-packages (from markdown-it-py>=2.2.0->rich>=11.1->flax==0.8.2->paxml>=1.4.0->timesfm) (0.1.2)\n",
            "Requirement already satisfied: future in /usr/local/lib/python3.10/dist-packages (from mesh-tensorflow>=0.1.13->mesh-tensorflow[transformer]>=0.1.13->t5==0.9.4->paxml>=1.4.0->timesfm) (1.0.0)\n",
            "Requirement already satisfied: wcwidth in /usr/local/lib/python3.10/dist-packages (from prompt-toolkit<4.0.0,>=3.0.1->InquirerPy==0.3.4->huggingface_hub[cli]>=0.23.0->timesfm) (0.2.13)\n",
            "Requirement already satisfied: google-auth<3,>=1.6.3 in /usr/local/lib/python3.10/dist-packages (from tensorboard<2.10,>=2.9->tensorflow~=2.9.2->paxml>=1.4.0->timesfm) (2.27.0)\n",
            "Requirement already satisfied: google-auth-oauthlib<0.5,>=0.4.1 in /usr/local/lib/python3.10/dist-packages (from tensorboard<2.10,>=2.9->tensorflow~=2.9.2->paxml>=1.4.0->timesfm) (0.4.6)\n",
            "Requirement already satisfied: markdown>=2.6.8 in /usr/local/lib/python3.10/dist-packages (from tensorboard<2.10,>=2.9->tensorflow~=2.9.2->paxml>=1.4.0->timesfm) (3.7)\n",
            "Requirement already satisfied: tensorboard-data-server<0.7.0,>=0.6.0 in /usr/local/lib/python3.10/dist-packages (from tensorboard<2.10,>=2.9->tensorflow~=2.9.2->paxml>=1.4.0->timesfm) (0.6.1)\n",
            "Requirement already satisfied: tensorboard-plugin-wit>=1.6.0 in /usr/local/lib/python3.10/dist-packages (from tensorboard<2.10,>=2.9->tensorflow~=2.9.2->paxml>=1.4.0->timesfm) (1.8.1)\n",
            "Requirement already satisfied: werkzeug>=1.0.1 in /usr/local/lib/python3.10/dist-packages (from tensorboard<2.10,>=2.9->tensorflow~=2.9.2->paxml>=1.4.0->timesfm) (3.0.4)\n",
            "Requirement already satisfied: tf-keras>=2.14.1 in /usr/local/lib/python3.10/dist-packages (from tensorflow-hub->lingvo==0.12.7->paxml>=1.4.0->timesfm) (2.15.0)\n",
            "Requirement already satisfied: regex!=2019.12.17 in /usr/local/lib/python3.10/dist-packages (from transformers>=2.7.0->t5==0.9.4->paxml>=1.4.0->timesfm) (2024.5.15)\n",
            "Requirement already satisfied: safetensors>=0.4.1 in /usr/local/lib/python3.10/dist-packages (from transformers>=2.7.0->t5==0.9.4->paxml>=1.4.0->timesfm) (0.4.4)\n",
            "Requirement already satisfied: tokenizers<0.20,>=0.19 in /usr/local/lib/python3.10/dist-packages (from transformers>=2.7.0->t5==0.9.4->paxml>=1.4.0->timesfm) (0.19.1)\n",
            "Requirement already satisfied: comm>=0.1.1 in /usr/local/lib/python3.10/dist-packages (from ipykernel->lingvo==0.12.7->paxml>=1.4.0->timesfm) (0.2.2)\n",
            "Requirement already satisfied: debugpy>=1.6.5 in /usr/local/lib/python3.10/dist-packages (from ipykernel->lingvo==0.12.7->paxml>=1.4.0->timesfm) (1.6.6)\n",
            "Requirement already satisfied: ipython>=7.23.1 in /usr/local/lib/python3.10/dist-packages (from ipykernel->lingvo==0.12.7->paxml>=1.4.0->timesfm) (7.34.0)\n",
            "Requirement already satisfied: jupyter-client>=6.1.12 in /usr/local/lib/python3.10/dist-packages (from ipykernel->lingvo==0.12.7->paxml>=1.4.0->timesfm) (7.4.9)\n",
            "Requirement already satisfied: jupyter-core!=5.0.*,>=4.12 in /usr/local/lib/python3.10/dist-packages (from ipykernel->lingvo==0.12.7->paxml>=1.4.0->timesfm) (5.7.2)\n",
            "Requirement already satisfied: matplotlib-inline>=0.1 in /usr/local/lib/python3.10/dist-packages (from ipykernel->lingvo==0.12.7->paxml>=1.4.0->timesfm) (0.1.7)\n",
            "Requirement already satisfied: pyzmq>=24 in /usr/local/lib/python3.10/dist-packages (from ipykernel->lingvo==0.12.7->paxml>=1.4.0->timesfm) (24.0.1)\n",
            "Requirement already satisfied: tornado>=6.1 in /usr/local/lib/python3.10/dist-packages (from ipykernel->lingvo==0.12.7->paxml>=1.4.0->timesfm) (6.3.3)\n",
            "Requirement already satisfied: traitlets>=5.4.0 in /usr/local/lib/python3.10/dist-packages (from ipykernel->lingvo==0.12.7->paxml>=1.4.0->timesfm) (5.7.1)\n",
            "Requirement already satisfied: notebook in /usr/local/lib/python3.10/dist-packages (from jupyter->lingvo==0.12.7->paxml>=1.4.0->timesfm) (6.5.5)\n",
            "Requirement already satisfied: jupyter-console in /usr/local/lib/python3.10/dist-packages (from jupyter->lingvo==0.12.7->paxml>=1.4.0->timesfm) (6.1.0)\n",
            "Requirement already satisfied: nbconvert in /usr/local/lib/python3.10/dist-packages (from jupyter->lingvo==0.12.7->paxml>=1.4.0->timesfm) (6.5.4)\n",
            "Requirement already satisfied: ipywidgets in /usr/local/lib/python3.10/dist-packages (from jupyter->lingvo==0.12.7->paxml>=1.4.0->timesfm) (7.7.1)\n",
            "Requirement already satisfied: jupyterlab in /usr/local/lib/python3.10/dist-packages (from jupyter->lingvo==0.12.7->paxml>=1.4.0->timesfm) (4.2.5)\n",
            "Requirement already satisfied: contourpy>=1.0.1 in /usr/local/lib/python3.10/dist-packages (from matplotlib->lingvo==0.12.7->paxml>=1.4.0->timesfm) (1.3.0)\n",
            "Requirement already satisfied: cycler>=0.10 in /usr/local/lib/python3.10/dist-packages (from matplotlib->lingvo==0.12.7->paxml>=1.4.0->timesfm) (0.12.1)\n",
            "Requirement already satisfied: fonttools>=4.22.0 in /usr/local/lib/python3.10/dist-packages (from matplotlib->lingvo==0.12.7->paxml>=1.4.0->timesfm) (4.53.1)\n",
            "Requirement already satisfied: kiwisolver>=1.0.1 in /usr/local/lib/python3.10/dist-packages (from matplotlib->lingvo==0.12.7->paxml>=1.4.0->timesfm) (1.4.5)\n",
            "Requirement already satisfied: pyparsing>=2.3.1 in /usr/local/lib/python3.10/dist-packages (from matplotlib->lingvo==0.12.7->paxml>=1.4.0->timesfm) (3.1.4)\n",
            "Requirement already satisfied: contextlib2 in /usr/local/lib/python3.10/dist-packages (from ml-collections->clu==0.0.11->paxml>=1.4.0->timesfm) (21.6.0)\n",
            "Requirement already satisfied: portalocker in /usr/local/lib/python3.10/dist-packages (from sacrebleu->t5==0.9.4->paxml>=1.4.0->timesfm) (2.10.1)\n",
            "Requirement already satisfied: tabulate>=0.8.9 in /usr/local/lib/python3.10/dist-packages (from sacrebleu->t5==0.9.4->paxml>=1.4.0->timesfm) (0.9.0)\n",
            "Requirement already satisfied: colorama in /usr/local/lib/python3.10/dist-packages (from sacrebleu->t5==0.9.4->paxml>=1.4.0->timesfm) (0.4.6)\n",
            "Requirement already satisfied: lxml in /usr/local/lib/python3.10/dist-packages (from sacrebleu->t5==0.9.4->paxml>=1.4.0->timesfm) (4.9.4)\n",
            "Requirement already satisfied: mpmath<1.4,>=1.1.0 in /usr/local/lib/python3.10/dist-packages (from sympy->lingvo==0.12.7->paxml>=1.4.0->timesfm) (1.3.0)\n",
            "Requirement already satisfied: cachetools<6.0,>=2.0.0 in /usr/local/lib/python3.10/dist-packages (from google-auth<3,>=1.6.3->tensorboard<2.10,>=2.9->tensorflow~=2.9.2->paxml>=1.4.0->timesfm) (5.5.0)\n",
            "Requirement already satisfied: pyasn1-modules>=0.2.1 in /usr/local/lib/python3.10/dist-packages (from google-auth<3,>=1.6.3->tensorboard<2.10,>=2.9->tensorflow~=2.9.2->paxml>=1.4.0->timesfm) (0.4.0)\n",
            "Requirement already satisfied: rsa<5,>=3.1.4 in /usr/local/lib/python3.10/dist-packages (from google-auth<3,>=1.6.3->tensorboard<2.10,>=2.9->tensorflow~=2.9.2->paxml>=1.4.0->timesfm) (4.9)\n",
            "Requirement already satisfied: requests-oauthlib>=0.7.0 in /usr/local/lib/python3.10/dist-packages (from google-auth-oauthlib<0.5,>=0.4.1->tensorboard<2.10,>=2.9->tensorflow~=2.9.2->paxml>=1.4.0->timesfm) (1.3.1)\n",
            "Requirement already satisfied: jedi>=0.16 in /usr/local/lib/python3.10/dist-packages (from ipython>=7.23.1->ipykernel->lingvo==0.12.7->paxml>=1.4.0->timesfm) (0.19.1)\n",
            "Requirement already satisfied: decorator in /usr/local/lib/python3.10/dist-packages (from ipython>=7.23.1->ipykernel->lingvo==0.12.7->paxml>=1.4.0->timesfm) (4.4.2)\n",
            "Requirement already satisfied: pickleshare in /usr/local/lib/python3.10/dist-packages (from ipython>=7.23.1->ipykernel->lingvo==0.12.7->paxml>=1.4.0->timesfm) (0.7.5)\n",
            "Requirement already satisfied: backcall in /usr/local/lib/python3.10/dist-packages (from ipython>=7.23.1->ipykernel->lingvo==0.12.7->paxml>=1.4.0->timesfm) (0.2.0)\n",
            "Requirement already satisfied: pexpect>4.3 in /usr/local/lib/python3.10/dist-packages (from ipython>=7.23.1->ipykernel->lingvo==0.12.7->paxml>=1.4.0->timesfm) (4.9.0)\n",
            "Requirement already satisfied: entrypoints in /usr/local/lib/python3.10/dist-packages (from jupyter-client>=6.1.12->ipykernel->lingvo==0.12.7->paxml>=1.4.0->timesfm) (0.4)\n",
            "Requirement already satisfied: jinja2 in /usr/local/lib/python3.10/dist-packages (from notebook->jupyter->lingvo==0.12.7->paxml>=1.4.0->timesfm) (3.1.4)\n",
            "Requirement already satisfied: argon2-cffi in /usr/local/lib/python3.10/dist-packages (from notebook->jupyter->lingvo==0.12.7->paxml>=1.4.0->timesfm) (23.1.0)\n",
            "Requirement already satisfied: ipython-genutils in /usr/local/lib/python3.10/dist-packages (from notebook->jupyter->lingvo==0.12.7->paxml>=1.4.0->timesfm) (0.2.0)\n",
            "Requirement already satisfied: nbformat in /usr/local/lib/python3.10/dist-packages (from notebook->jupyter->lingvo==0.12.7->paxml>=1.4.0->timesfm) (5.10.4)\n",
            "Requirement already satisfied: Send2Trash>=1.8.0 in /usr/local/lib/python3.10/dist-packages (from notebook->jupyter->lingvo==0.12.7->paxml>=1.4.0->timesfm) (1.8.3)\n",
            "Requirement already satisfied: terminado>=0.8.3 in /usr/local/lib/python3.10/dist-packages (from notebook->jupyter->lingvo==0.12.7->paxml>=1.4.0->timesfm) (0.18.1)\n",
            "Requirement already satisfied: prometheus-client in /usr/local/lib/python3.10/dist-packages (from notebook->jupyter->lingvo==0.12.7->paxml>=1.4.0->timesfm) (0.20.0)\n",
            "Requirement already satisfied: nbclassic>=0.4.7 in /usr/local/lib/python3.10/dist-packages (from notebook->jupyter->lingvo==0.12.7->paxml>=1.4.0->timesfm) (1.1.0)\n",
            "Requirement already satisfied: beautifulsoup4 in /usr/local/lib/python3.10/dist-packages (from nbconvert->jupyter->lingvo==0.12.7->paxml>=1.4.0->timesfm) (4.12.3)\n",
            "Requirement already satisfied: bleach in /usr/local/lib/python3.10/dist-packages (from nbconvert->jupyter->lingvo==0.12.7->paxml>=1.4.0->timesfm) (6.1.0)\n",
            "Requirement already satisfied: defusedxml in /usr/local/lib/python3.10/dist-packages (from nbconvert->jupyter->lingvo==0.12.7->paxml>=1.4.0->timesfm) (0.7.1)\n",
            "Requirement already satisfied: jupyterlab-pygments in /usr/local/lib/python3.10/dist-packages (from nbconvert->jupyter->lingvo==0.12.7->paxml>=1.4.0->timesfm) (0.3.0)\n",
            "Requirement already satisfied: MarkupSafe>=2.0 in /usr/local/lib/python3.10/dist-packages (from nbconvert->jupyter->lingvo==0.12.7->paxml>=1.4.0->timesfm) (2.1.5)\n",
            "Requirement already satisfied: mistune<2,>=0.8.1 in /usr/local/lib/python3.10/dist-packages (from nbconvert->jupyter->lingvo==0.12.7->paxml>=1.4.0->timesfm) (0.8.4)\n",
            "Requirement already satisfied: nbclient>=0.5.0 in /usr/local/lib/python3.10/dist-packages (from nbconvert->jupyter->lingvo==0.12.7->paxml>=1.4.0->timesfm) (0.10.0)\n",
            "Requirement already satisfied: pandocfilters>=1.4.1 in /usr/local/lib/python3.10/dist-packages (from nbconvert->jupyter->lingvo==0.12.7->paxml>=1.4.0->timesfm) (1.5.1)\n",
            "Requirement already satisfied: tinycss2 in /usr/local/lib/python3.10/dist-packages (from nbconvert->jupyter->lingvo==0.12.7->paxml>=1.4.0->timesfm) (1.3.0)\n",
            "Requirement already satisfied: widgetsnbextension~=3.6.0 in /usr/local/lib/python3.10/dist-packages (from ipywidgets->jupyter->lingvo==0.12.7->paxml>=1.4.0->timesfm) (3.6.8)\n",
            "Requirement already satisfied: jupyterlab-widgets>=1.0.0 in /usr/local/lib/python3.10/dist-packages (from ipywidgets->jupyter->lingvo==0.12.7->paxml>=1.4.0->timesfm) (3.0.13)\n",
            "Requirement already satisfied: async-lru>=1.0.0 in /usr/local/lib/python3.10/dist-packages (from jupyterlab->jupyter->lingvo==0.12.7->paxml>=1.4.0->timesfm) (2.0.4)\n",
            "Requirement already satisfied: httpx>=0.25.0 in /usr/local/lib/python3.10/dist-packages (from jupyterlab->jupyter->lingvo==0.12.7->paxml>=1.4.0->timesfm) (0.27.2)\n",
            "Requirement already satisfied: jupyter-lsp>=2.0.0 in /usr/local/lib/python3.10/dist-packages (from jupyterlab->jupyter->lingvo==0.12.7->paxml>=1.4.0->timesfm) (2.2.5)\n",
            "Requirement already satisfied: jupyter-server<3,>=2.4.0 in /usr/local/lib/python3.10/dist-packages (from jupyterlab->jupyter->lingvo==0.12.7->paxml>=1.4.0->timesfm) (2.14.2)\n",
            "Requirement already satisfied: jupyterlab-server<3,>=2.27.1 in /usr/local/lib/python3.10/dist-packages (from jupyterlab->jupyter->lingvo==0.12.7->paxml>=1.4.0->timesfm) (2.27.3)\n",
            "Requirement already satisfied: notebook-shim>=0.2 in /usr/local/lib/python3.10/dist-packages (from jupyterlab->jupyter->lingvo==0.12.7->paxml>=1.4.0->timesfm) (0.2.4)\n",
            "Requirement already satisfied: tomli>=1.2.2 in /usr/local/lib/python3.10/dist-packages (from jupyterlab->jupyter->lingvo==0.12.7->paxml>=1.4.0->timesfm) (2.0.1)\n",
            "Requirement already satisfied: anyio in /usr/local/lib/python3.10/dist-packages (from httpx>=0.25.0->jupyterlab->jupyter->lingvo==0.12.7->paxml>=1.4.0->timesfm) (3.7.1)\n",
            "Requirement already satisfied: httpcore==1.* in /usr/local/lib/python3.10/dist-packages (from httpx>=0.25.0->jupyterlab->jupyter->lingvo==0.12.7->paxml>=1.4.0->timesfm) (1.0.5)\n",
            "Requirement already satisfied: sniffio in /usr/local/lib/python3.10/dist-packages (from httpx>=0.25.0->jupyterlab->jupyter->lingvo==0.12.7->paxml>=1.4.0->timesfm) (1.3.1)\n",
            "Requirement already satisfied: h11<0.15,>=0.13 in /usr/local/lib/python3.10/dist-packages (from httpcore==1.*->httpx>=0.25.0->jupyterlab->jupyter->lingvo==0.12.7->paxml>=1.4.0->timesfm) (0.14.0)\n",
            "Requirement already satisfied: parso<0.9.0,>=0.8.3 in /usr/local/lib/python3.10/dist-packages (from jedi>=0.16->ipython>=7.23.1->ipykernel->lingvo==0.12.7->paxml>=1.4.0->timesfm) (0.8.4)\n",
            "Requirement already satisfied: jupyter-events>=0.9.0 in /usr/local/lib/python3.10/dist-packages (from jupyter-server<3,>=2.4.0->jupyterlab->jupyter->lingvo==0.12.7->paxml>=1.4.0->timesfm) (0.10.0)\n",
            "Requirement already satisfied: jupyter-server-terminals>=0.4.4 in /usr/local/lib/python3.10/dist-packages (from jupyter-server<3,>=2.4.0->jupyterlab->jupyter->lingvo==0.12.7->paxml>=1.4.0->timesfm) (0.5.3)\n",
            "Requirement already satisfied: overrides>=5.0 in /usr/local/lib/python3.10/dist-packages (from jupyter-server<3,>=2.4.0->jupyterlab->jupyter->lingvo==0.12.7->paxml>=1.4.0->timesfm) (7.7.0)\n",
            "Requirement already satisfied: websocket-client>=1.7 in /usr/local/lib/python3.10/dist-packages (from jupyter-server<3,>=2.4.0->jupyterlab->jupyter->lingvo==0.12.7->paxml>=1.4.0->timesfm) (1.8.0)\n",
            "Requirement already satisfied: argon2-cffi-bindings in /usr/local/lib/python3.10/dist-packages (from argon2-cffi->notebook->jupyter->lingvo==0.12.7->paxml>=1.4.0->timesfm) (21.2.0)\n",
            "Requirement already satisfied: json5>=0.9.0 in /usr/local/lib/python3.10/dist-packages (from jupyterlab-server<3,>=2.27.1->jupyterlab->jupyter->lingvo==0.12.7->paxml>=1.4.0->timesfm) (0.9.25)\n",
            "Requirement already satisfied: jsonschema>=4.18.0 in /usr/local/lib/python3.10/dist-packages (from jupyterlab-server<3,>=2.27.1->jupyterlab->jupyter->lingvo==0.12.7->paxml>=1.4.0->timesfm) (4.23.0)\n",
            "Requirement already satisfied: fastjsonschema>=2.15 in /usr/local/lib/python3.10/dist-packages (from nbformat->notebook->jupyter->lingvo==0.12.7->paxml>=1.4.0->timesfm) (2.20.0)\n",
            "Requirement already satisfied: ptyprocess>=0.5 in /usr/local/lib/python3.10/dist-packages (from pexpect>4.3->ipython>=7.23.1->ipykernel->lingvo==0.12.7->paxml>=1.4.0->timesfm) (0.7.0)\n",
            "Requirement already satisfied: pyasn1<0.7.0,>=0.4.6 in /usr/local/lib/python3.10/dist-packages (from pyasn1-modules>=0.2.1->google-auth<3,>=1.6.3->tensorboard<2.10,>=2.9->tensorflow~=2.9.2->paxml>=1.4.0->timesfm) (0.6.0)\n",
            "Requirement already satisfied: oauthlib>=3.0.0 in /usr/local/lib/python3.10/dist-packages (from requests-oauthlib>=0.7.0->google-auth-oauthlib<0.5,>=0.4.1->tensorboard<2.10,>=2.9->tensorflow~=2.9.2->paxml>=1.4.0->timesfm) (3.2.2)\n",
            "Requirement already satisfied: soupsieve>1.2 in /usr/local/lib/python3.10/dist-packages (from beautifulsoup4->nbconvert->jupyter->lingvo==0.12.7->paxml>=1.4.0->timesfm) (2.6)\n",
            "Requirement already satisfied: webencodings in /usr/local/lib/python3.10/dist-packages (from bleach->nbconvert->jupyter->lingvo==0.12.7->paxml>=1.4.0->timesfm) (0.5.1)\n",
            "Requirement already satisfied: exceptiongroup in /usr/local/lib/python3.10/dist-packages (from anyio->httpx>=0.25.0->jupyterlab->jupyter->lingvo==0.12.7->paxml>=1.4.0->timesfm) (1.2.2)\n",
            "Requirement already satisfied: jsonschema-specifications>=2023.03.6 in /usr/local/lib/python3.10/dist-packages (from jsonschema>=4.18.0->jupyterlab-server<3,>=2.27.1->jupyterlab->jupyter->lingvo==0.12.7->paxml>=1.4.0->timesfm) (2023.12.1)\n",
            "Requirement already satisfied: referencing>=0.28.4 in /usr/local/lib/python3.10/dist-packages (from jsonschema>=4.18.0->jupyterlab-server<3,>=2.27.1->jupyterlab->jupyter->lingvo==0.12.7->paxml>=1.4.0->timesfm) (0.35.1)\n",
            "Requirement already satisfied: rpds-py>=0.7.1 in /usr/local/lib/python3.10/dist-packages (from jsonschema>=4.18.0->jupyterlab-server<3,>=2.27.1->jupyterlab->jupyter->lingvo==0.12.7->paxml>=1.4.0->timesfm) (0.20.0)\n",
            "Requirement already satisfied: python-json-logger>=2.0.4 in /usr/local/lib/python3.10/dist-packages (from jupyter-events>=0.9.0->jupyter-server<3,>=2.4.0->jupyterlab->jupyter->lingvo==0.12.7->paxml>=1.4.0->timesfm) (2.0.7)\n",
            "Requirement already satisfied: rfc3339-validator in /usr/local/lib/python3.10/dist-packages (from jupyter-events>=0.9.0->jupyter-server<3,>=2.4.0->jupyterlab->jupyter->lingvo==0.12.7->paxml>=1.4.0->timesfm) (0.1.4)\n",
            "Requirement already satisfied: rfc3986-validator>=0.1.1 in /usr/local/lib/python3.10/dist-packages (from jupyter-events>=0.9.0->jupyter-server<3,>=2.4.0->jupyterlab->jupyter->lingvo==0.12.7->paxml>=1.4.0->timesfm) (0.1.1)\n",
            "Requirement already satisfied: cffi>=1.0.1 in /usr/local/lib/python3.10/dist-packages (from argon2-cffi-bindings->argon2-cffi->notebook->jupyter->lingvo==0.12.7->paxml>=1.4.0->timesfm) (1.17.0)\n",
            "Requirement already satisfied: pycparser in /usr/local/lib/python3.10/dist-packages (from cffi>=1.0.1->argon2-cffi-bindings->argon2-cffi->notebook->jupyter->lingvo==0.12.7->paxml>=1.4.0->timesfm) (2.22)\n",
            "Requirement already satisfied: fqdn in /usr/local/lib/python3.10/dist-packages (from jsonschema[format-nongpl]>=4.18.0->jupyter-events>=0.9.0->jupyter-server<3,>=2.4.0->jupyterlab->jupyter->lingvo==0.12.7->paxml>=1.4.0->timesfm) (1.5.1)\n",
            "Requirement already satisfied: isoduration in /usr/local/lib/python3.10/dist-packages (from jsonschema[format-nongpl]>=4.18.0->jupyter-events>=0.9.0->jupyter-server<3,>=2.4.0->jupyterlab->jupyter->lingvo==0.12.7->paxml>=1.4.0->timesfm) (20.11.0)\n",
            "Requirement already satisfied: jsonpointer>1.13 in /usr/local/lib/python3.10/dist-packages (from jsonschema[format-nongpl]>=4.18.0->jupyter-events>=0.9.0->jupyter-server<3,>=2.4.0->jupyterlab->jupyter->lingvo==0.12.7->paxml>=1.4.0->timesfm) (3.0.0)\n",
            "Requirement already satisfied: uri-template in /usr/local/lib/python3.10/dist-packages (from jsonschema[format-nongpl]>=4.18.0->jupyter-events>=0.9.0->jupyter-server<3,>=2.4.0->jupyterlab->jupyter->lingvo==0.12.7->paxml>=1.4.0->timesfm) (1.3.0)\n",
            "Requirement already satisfied: webcolors>=24.6.0 in /usr/local/lib/python3.10/dist-packages (from jsonschema[format-nongpl]>=4.18.0->jupyter-events>=0.9.0->jupyter-server<3,>=2.4.0->jupyterlab->jupyter->lingvo==0.12.7->paxml>=1.4.0->timesfm) (24.8.0)\n",
            "Requirement already satisfied: arrow>=0.15.0 in /usr/local/lib/python3.10/dist-packages (from isoduration->jsonschema[format-nongpl]>=4.18.0->jupyter-events>=0.9.0->jupyter-server<3,>=2.4.0->jupyterlab->jupyter->lingvo==0.12.7->paxml>=1.4.0->timesfm) (1.3.0)\n",
            "Requirement already satisfied: types-python-dateutil>=2.8.10 in /usr/local/lib/python3.10/dist-packages (from arrow>=0.15.0->isoduration->jsonschema[format-nongpl]>=4.18.0->jupyter-events>=0.9.0->jupyter-server<3,>=2.4.0->jupyterlab->jupyter->lingvo==0.12.7->paxml>=1.4.0->timesfm) (2.9.0.20240906)\n"
          ]
        }
      ],
      "source": [
        "# To read/write to/from Kafka\n",
        "import sys\n",
        "\n",
        "# https://PLACEHOLDER.com/index.html\n",
        "\n",
        "# For better performance and production, deploy to Vertex AI endpoint with GPU\n",
        "# This takes about 5 minutes to install and you will need to reset your runtime\n",
        "!{sys.executable} -m pip install timesfm"
      ]
    },
    {
      "cell_type": "code",
      "execution_count": 9,
      "metadata": {
        "id": "lZjocjeQMSme",
        "executionInfo": {
          "status": "ok",
          "timestamp": 1726251733536,
          "user_tz": 240,
          "elapsed": 7,
          "user": {
            "displayName": "",
            "userId": ""
          }
        }
      },
      "outputs": [],
      "source": [
        "import timesfm"
      ]
    },
    {
      "cell_type": "markdown",
      "source": [
        "#### Configure TimesFM"
      ],
      "metadata": {
        "id": "WyZCO8gNj6jW"
      }
    },
    {
      "cell_type": "code",
      "execution_count": 10,
      "metadata": {
        "id": "f5VOxg0mx7EG",
        "colab": {
          "base_uri": "https://localhost:8080/"
        },
        "executionInfo": {
          "status": "ok",
          "timestamp": 1726251733536,
          "user_tz": 240,
          "elapsed": 6,
          "user": {
            "displayName": "",
            "userId": ""
          }
        },
        "outputId": "8037b0af-6fa4-49e3-a358-ce655b25b705"
      },
      "outputs": [
        {
          "output_type": "stream",
          "name": "stdout",
          "text": [
            "TimesFM forecast API for inference.\n",
            "\n",
            "  This class is the scaffolding for calling TimesFM forecast. To properly use:\n",
            "    1. Create an instance with the correct hyperparameters of a TimesFM model.\n",
            "    2. Call `load_from_checkpoint` to load a compatible checkpoint.\n",
            "    3. Call `forecast` for inference.\n",
            "\n",
            "  Given the model size, this API does not shard the model weights for SPMD. All\n",
            "  parallelism happens on the data dimension.\n",
            "\n",
            "  Compilation happens during the first time `forecast` is called and uses the\n",
            "  `per_core_batch_size` to set and freeze the input signature. Subsequent calls\n",
            "  to `forecast` reflect the actual inference latency.\n",
            "\n",
            "  Attributes:\n",
            "    per_core_batch_size: Batch size on each core for data parallelism.\n",
            "    backend: One of \"cpu\", \"gpu\" or \"tpu\".\n",
            "    num_devices: Number of cores provided the backend.\n",
            "    global_batch_size: per_core_batch_size * num_devices. Each batch of\n",
            "      inference task will be padded with respect to global_batch_size to\n",
            "      minimize latency.\n",
            "    context_len: Largest context length the model allows for each decode call.\n",
            "      This technically can be any large, but practically should set to the\n",
            "      context length the checkpoint was trained with.\n",
            "    horizon_len: Forecast horizon.\n",
            "    input_patch_len: Input patch len.\n",
            "    output_patch_len: Output patch len. How many timepoints is taken from a\n",
            "      single step of autoregressive decoding. Can be set as the training horizon\n",
            "      of the checkpoint.\n",
            "    mesh_shape: Shape of the data parallelism mesh.\n",
            "    mesh_name: Names of the data parallelism mesh.\n",
            "    model_p: Configuration of the TimesFM model deduced from the hparams.\n",
            "  \n"
          ]
        }
      ],
      "source": [
        "print(timesfm.TimesFm.__doc__)"
      ]
    },
    {
      "cell_type": "code",
      "execution_count": 11,
      "metadata": {
        "id": "Nt2AW7gpNbLE",
        "colab": {
          "base_uri": "https://localhost:8080/",
          "height": 312,
          "referenced_widgets": [
            "6a2384ec62bf41d4a095b1efd08c7b3c",
            "6dd4d5235bd040f7bb800cec06fd53be",
            "e9fd758aaa404c7ba029f46f23bcab9f",
            "9b189329f3c14ae181dbf6dffcdaced4",
            "feaad68e61484986b4906c5b1b093f5c",
            "68286d5fafdf439b9eb45a94af314621",
            "6b2eedde37fb4ad98dfadaddaf053544",
            "7119cbc8e4cc4bc29ef58d671f6c7382",
            "ad9300e83d2d45ab8bd4a05b001546da",
            "4ab1cb075db4461c99e6db80c9a615d0",
            "1c27da69755642b6b2d2f954daa35121"
          ]
        },
        "outputId": "b426096a-f7a6-4794-b188-d7b7643684ef",
        "executionInfo": {
          "status": "ok",
          "timestamp": 1726251772506,
          "user_tz": 240,
          "elapsed": 38973,
          "user": {
            "displayName": "",
            "userId": ""
          }
        }
      },
      "outputs": [
        {
          "output_type": "stream",
          "name": "stdout",
          "text": [
            "Multiprocessing context has already been set.\n"
          ]
        },
        {
          "output_type": "display_data",
          "data": {
            "text/plain": [
              "Fetching 5 files:   0%|          | 0/5 [00:00<?, ?it/s]"
            ],
            "application/vnd.jupyter.widget-view+json": {
              "version_major": 2,
              "version_minor": 0,
              "model_id": "6a2384ec62bf41d4a095b1efd08c7b3c"
            }
          },
          "metadata": {}
        },
        {
          "output_type": "stream",
          "name": "stdout",
          "text": [
            "Constructing model weights.\n"
          ]
        },
        {
          "output_type": "stream",
          "name": "stderr",
          "text": [
            "WARNING:absl:No registered CheckpointArgs found for handler type: <class 'paxml.checkpoints.FlaxCheckpointHandler'>\n",
            "WARNING:absl:Configured `CheckpointManager` using deprecated legacy API. Please follow the instructions at https://orbax.readthedocs.io/en/latest/api_refactor.html to migrate by May 1st, 2024.\n",
            "WARNING:absl:train_state_unpadded_shape_dtype_struct is not provided. We assume `train_state` is unpadded.\n"
          ]
        },
        {
          "output_type": "stream",
          "name": "stdout",
          "text": [
            "Constructed model weights in 5.73 seconds.\n",
            "Restoring checkpoint from /root/.cache/huggingface/hub/models--google--timesfm-1.0-200m/snapshots/8775f7531211ac864b739fe776b0b255c277e2be/checkpoints.\n"
          ]
        },
        {
          "output_type": "stream",
          "name": "stderr",
          "text": [
            "ERROR:absl:For checkpoint version > 1.0, we require users to provide\n",
            "          `train_state_unpadded_shape_dtype_struct` during checkpoint\n",
            "          saving/restoring, to avoid potential silent bugs when loading\n",
            "          checkpoints to incompatible unpadded shapes of TrainState.\n"
          ]
        },
        {
          "output_type": "stream",
          "name": "stdout",
          "text": [
            "Restored checkpoint in 0.76 seconds.\n",
            "Jitting decoding.\n",
            "Jitted decoding in 32.35 seconds.\n"
          ]
        }
      ],
      "source": [
        "timesfm_backend = \"cpu\" # \"cpu\": \"cpu\", \"gpu\": \"cuda\", \"tpu\": \"\"\n",
        "\n",
        "from jax._src import config\n",
        "config.update(\"jax_platforms\", timesfm_backend)\n",
        "\n",
        "model = timesfm.TimesFm(\n",
        "    context_len=512,\n",
        "    horizon_len=7, # Predict next 7 days, this could be 128 without requiring compute (129 would be a step up).  This is more of the max horizon len.\n",
        "    input_patch_len=32,\n",
        "    output_patch_len=128,\n",
        "    num_layers=20,\n",
        "    model_dims=1280,\n",
        "    backend=\"cpu\",\n",
        ")\n",
        "\n",
        "# This can produce \"ERROR:absl:For checkpoint version > 1.0, we require users to provide\", you can ignore that\n",
        "model.load_from_checkpoint(repo_id=\"google/timesfm-1.0-200m\")"
      ]
    },
    {
      "cell_type": "markdown",
      "source": [
        "#### Run the Prediction"
      ],
      "metadata": {
        "id": "ovlvCGbZj2_x"
      }
    },
    {
      "cell_type": "code",
      "execution_count": 12,
      "metadata": {
        "id": "0FLq88Fi2Ww_",
        "colab": {
          "base_uri": "https://localhost:8080/"
        },
        "executionInfo": {
          "status": "ok",
          "timestamp": 1726251772506,
          "user_tz": 240,
          "elapsed": 5,
          "user": {
            "displayName": "",
            "userId": ""
          }
        },
        "outputId": "48ea729b-b866-4dfb-e31a-5c28c84a5ad8"
      },
      "outputs": [
        {
          "output_type": "stream",
          "name": "stdout",
          "text": [
            "Forecasts on a list of time series with covariates.\n",
            "\n",
            "    To optimize inference speed, avoid string valued categorical covariates.\n",
            "\n",
            "    Args:\n",
            "      inputs: A list of time series forecast contexts. Each context time series\n",
            "        should be in a format convertible to JTensor by `jnp.array`.\n",
            "      dynamic_numerical_covariates: A dict of dynamic numerical covariates.\n",
            "      dynamic_categorical_covariates: A dict of dynamic categorical covariates.\n",
            "      static_numerical_covariates: A dict of static numerical covariates.\n",
            "      static_categorical_covariates: A dict of static categorical covariates.\n",
            "      freq: frequency of each context time series. 0 for high frequency\n",
            "        (default), 1 for medium, and 2 for low. Notice this is different from\n",
            "        the `freq` required by `forecast_on_df`.\n",
            "      window_size: window size of trend + residual decomposition. If None then\n",
            "        we do not do decomposition.\n",
            "      forecast_context_len: optional max context length.\n",
            "      xreg_mode: one of \"xreg + timesfm\" or \"timesfm + xreg\". \"xreg + timesfm\"\n",
            "        fits a model on the residuals of the TimesFM forecast. \"timesfm + xreg\"\n",
            "        fits a model on the targets then forecasts on the residuals via TimesFM.\n",
            "      normalize_xreg_target_per_input: whether to normalize the xreg target per\n",
            "        input in the given batch.\n",
            "      ridge: ridge penalty for the linear model.\n",
            "      max_rows_per_col: max number of rows per column for the linear model.\n",
            "      force_on_cpu: whether to force running on cpu for the linear model.\n",
            "\n",
            "    Returns:\n",
            "      A tuple of two lists. The first is the outputs of the model. The second is\n",
            "      the outputs of the xreg.\n",
            "    \n"
          ]
        }
      ],
      "source": [
        "print(model.forecast_with_covariates.__doc__)"
      ]
    },
    {
      "cell_type": "code",
      "execution_count": 13,
      "metadata": {
        "id": "2mZAuyhGMo1-",
        "executionInfo": {
          "status": "ok",
          "timestamp": 1726251773814,
          "user_tz": 240,
          "elapsed": 1311,
          "user": {
            "displayName": "",
            "userId": ""
          }
        }
      },
      "outputs": [],
      "source": [
        "# This is our sales data, 2 weeks of data for cafe-mocha\n",
        "inputs = [[100,105,125,133,145,107,156,101,106,105,105,104,136,165]]\n",
        "\n",
        "# These are our categorical covariates (additional factors that we think might influence the thing we're trying to predict).\n",
        "# Here we consider the day of the week and if a marketing campaign was in progress\n",
        "dynamic_categorical_covariates = {\n",
        "    \"day_of_week\": [[1,2,3,4,5,6,7,1,2,3,4,5,6,7,1,2,3,4,5,6,7]],\n",
        "    \"marketing_campaign\": [[\"N\",\"N\",\"Y\",\"Y\",\"Y\",\"N\",\"N\",\"N\",\"N\",\"N\",\"N\",\"N\",\"Y\",\"N\",\"N\",\"Y\",\"N\",\"N\",\"N\",\"N\",\"N\"]]\n",
        "}\n",
        "\n",
        "# These are our numerical covariates (additional numeric factors, just like the categories, but numbers)\n",
        "# Here we consider the temperature of the day\n",
        "dynamic_numerical_covariates = {\n",
        "    \"temperature\": [[90,90,90,90,90,90,100,90,90,90,90,90,90,100,90,90,90,90,90,100,90]]\n",
        "}\n",
        "\n",
        "# These are our static covariates (additional factors that we think are fixed, like the price of the product)\n",
        "# Here we consider the price of the product\n",
        "static_numerical_covariates = {\n",
        "    \"price\": [7.95]\n",
        "}\n",
        "\n",
        "# These are our static categorical covariates (additional factors that we think are fixed, like the menu item)\n",
        "# Here we consider the menu item\n",
        "static_categorical_covariates = {\n",
        "    \"menu_item\" : [\"cafe-mocha\"]\n",
        "}\n",
        "\n",
        "# frequency of each context time series. 0 for high frequency (default), 1 for medium, and 2 for low.\n",
        "frequency = [0]\n",
        "\n",
        "model_forecast, xreg_forecast = model.forecast_with_covariates(\n",
        "    inputs=inputs,\n",
        "    dynamic_categorical_covariates=dynamic_categorical_covariates,\n",
        "    dynamic_numerical_covariates=dynamic_numerical_covariates,\n",
        "    static_numerical_covariates=static_numerical_covariates,\n",
        "    static_categorical_covariates=static_categorical_covariates,\n",
        "    freq=frequency,\n",
        "    xreg_mode=\"xreg + timesfm\",              # default\n",
        "    ridge=0.0,\n",
        "    force_on_cpu=False,\n",
        "    normalize_xreg_target_per_input=True,    # default\n",
        ")"
      ]
    },
    {
      "cell_type": "code",
      "execution_count": 14,
      "metadata": {
        "id": "8vNG0pwvRZjo",
        "colab": {
          "base_uri": "https://localhost:8080/"
        },
        "executionInfo": {
          "status": "ok",
          "timestamp": 1726251773959,
          "user_tz": 240,
          "elapsed": 146,
          "user": {
            "displayName": "",
            "userId": ""
          }
        },
        "outputId": "2f390ad6-b553-465f-b072-e711f72d488b"
      },
      "outputs": [
        {
          "output_type": "execute_result",
          "data": {
            "text/plain": [
              "array([101.25364 , 134.18452 , 100.36569 , 105.38627 , 110.12915 ,\n",
              "       161.58717 , 105.469734], dtype=float32)"
            ]
          },
          "metadata": {},
          "execution_count": 14
        }
      ],
      "source": [
        "# See the next 7 days of forecasted values\n",
        "model_forecast[0]"
      ]
    },
    {
      "cell_type": "markdown",
      "metadata": {
        "id": "m2rNGUnzD8e3"
      },
      "source": [
        "#### Visualize the results"
      ]
    },
    {
      "cell_type": "code",
      "execution_count": 15,
      "metadata": {
        "id": "4igTKeR-FgTL",
        "colab": {
          "base_uri": "https://localhost:8080/",
          "height": 564
        },
        "executionInfo": {
          "status": "ok",
          "timestamp": 1726251774535,
          "user_tz": 240,
          "elapsed": 576,
          "user": {
            "displayName": "",
            "userId": ""
          }
        },
        "outputId": "5d6781c8-d80f-4bf2-8301-b19f0488616d"
      },
      "outputs": [
        {
          "output_type": "display_data",
          "data": {
            "text/plain": [
              "<Figure size 1200x600 with 2 Axes>"
            ],
            "image/png": "[encoded data removed]"
          },
          "metadata": {}
        }
      ],
      "source": [
        "import matplotlib.pyplot as plt\n",
        "\n",
        "# Data\n",
        "sales = inputs[0]\n",
        "predicted_sales = model_forecast[0]\n",
        "marketing_campaigns = dynamic_categorical_covariates[\"marketing_campaign\"]\n",
        "temperature = dynamic_numerical_covariates[\"temperature\"][0]\n",
        "\n",
        "# Create x-axis values\n",
        "all_days = list(range(1, 22))  # Days as integers from 1 to 21\n",
        "days = list(range(1, 15))  # Adjust range if needed\n",
        "days_predicted = list(range(15, 22))\n",
        "\n",
        "# Create the plot\n",
        "fig, ax1 = plt.subplots(figsize=(12, 6))\n",
        "\n",
        "# Plot sales as a bar chart\n",
        "ax1.bar(days, sales, color='#{:02x}{:02x}{:02x}'.format(92, 200, 243), label='Sales')\n",
        "\n",
        "# Plot predicted sales as a bar chart\n",
        "ax1.bar(days_predicted, predicted_sales, color='#{:02x}{:02x}{:02x}'.format(53, 106, 228), label='Predicted Sales')\n",
        "\n",
        "# Set x-axis ticks and labels for all days\n",
        "ax1.set_xticks(all_days)\n",
        "ax1.set_xticklabels(all_days)\n",
        "\n",
        "ax1.set_xlabel('Days (bold means marketing campaign)')\n",
        "ax1.set_ylabel('Sales', color=\"black\")\n",
        "ax1.tick_params(axis='y', labelcolor='#{:02x}{:02x}{:02x}'.format(53, 106, 228))\n",
        "\n",
        "# Create a second y-axis for temperature\n",
        "ax2 = ax1.twinx()\n",
        "ax2.plot(all_days, temperature, color='#{:02x}{:02x}{:02x}'.format(176, 202, 78), linestyle = '--', alpha = 1)\n",
        "ax2.set_ylabel('Temperature', color=\"black\")\n",
        "ax2.tick_params(axis='y', labelcolor='#{:02x}{:02x}{:02x}'.format(176, 202, 78))\n",
        "\n",
        "# Add marketing campaign indicators (bold the \"days\" when we had a marketing campaign)\n",
        "for i, campaign in enumerate(marketing_campaigns[0]):\n",
        "  if campaign == 'Y':\n",
        "    ax1.get_xticklabels()[i].set_weight('bold')\n",
        "\n",
        "# Add legend\n",
        "lines, labels = ax1.get_legend_handles_labels()\n",
        "lines2, labels2 = ax2.get_legend_handles_labels()\n",
        "ax1.legend(lines + lines2, labels + labels2)\n",
        "\n",
        "plt.title('Predicted Sales by TimesFM')\n",
        "plt.show()"
      ]
    },
    {
      "cell_type": "markdown",
      "source": [
        "### Marketing Campaign Forecast"
      ],
      "metadata": {
        "id": "gOLGbli2lU1C"
      }
    },
    {
      "cell_type": "markdown",
      "source": [
        "- Take into account the segments\n",
        "- Take into account the channels\n",
        "- Day of week?\n",
        "- Click through rate?\n",
        "- Data\n",
        "  - Sales by person\n",
        "  - What type of campaign was running\n",
        "  - How we know they purchased based upon a campaign (coupon, app?)\n",
        "  -"
      ],
      "metadata": {
        "id": "MfjhvNkmlfKo"
      }
    }
  ],
  "metadata": {
    "colab": {
      "collapsed_sections": [
        "1r5rLxdPJhbo",
        "NPir2yNHJXiO"
      ],
      "name": "Campaign-Performance-Forecasting-TimesFM.ipynb",
      "provenance": []
    },
    "kernelspec": {
      "display_name": "Python 3",
      "name": "python3"
    },
    "language_info": {
      "name": "python"
    },
    "widgets": {
      "application/vnd.jupyter.widget-state+json": {
        "6a2384ec62bf41d4a095b1efd08c7b3c": {
          "model_module": "@jupyter-widgets/controls",
          "model_name": "HBoxModel",
          "model_module_version": "1.5.0",
          "state": {
            "_dom_classes": [],
            "_model_module": "@jupyter-widgets/controls",
            "_model_module_version": "1.5.0",
            "_model_name": "HBoxModel",
            "_view_count": null,
            "_view_module": "@jupyter-widgets/controls",
            "_view_module_version": "1.5.0",
            "_view_name": "HBoxView",
            "box_style": "",
            "children": [
              "IPY_MODEL_6dd4d5235bd040f7bb800cec06fd53be",
              "IPY_MODEL_e9fd758aaa404c7ba029f46f23bcab9f",
              "IPY_MODEL_9b189329f3c14ae181dbf6dffcdaced4"
            ],
            "layout": "IPY_MODEL_feaad68e61484986b4906c5b1b093f5c"
          }
        },
        "6dd4d5235bd040f7bb800cec06fd53be": {
          "model_module": "@jupyter-widgets/controls",
          "model_name": "HTMLModel",
          "model_module_version": "1.5.0",
          "state": {
            "_dom_classes": [],
            "_model_module": "@jupyter-widgets/controls",
            "_model_module_version": "1.5.0",
            "_model_name": "HTMLModel",
            "_view_count": null,
            "_view_module": "@jupyter-widgets/controls",
            "_view_module_version": "1.5.0",
            "_view_name": "HTMLView",
            "description": "",
            "description_tooltip": null,
            "layout": "IPY_MODEL_68286d5fafdf439b9eb45a94af314621",
            "placeholder": "​",
            "style": "IPY_MODEL_6b2eedde37fb4ad98dfadaddaf053544",
            "value": "Fetching 5 files: 100%"
          }
        },
        "e9fd758aaa404c7ba029f46f23bcab9f": {
          "model_module": "@jupyter-widgets/controls",
          "model_name": "FloatProgressModel",
          "model_module_version": "1.5.0",
          "state": {
            "_dom_classes": [],
            "_model_module": "@jupyter-widgets/controls",
            "_model_module_version": "1.5.0",
            "_model_name": "FloatProgressModel",
            "_view_count": null,
            "_view_module": "@jupyter-widgets/controls",
            "_view_module_version": "1.5.0",
            "_view_name": "ProgressView",
            "bar_style": "success",
            "description": "",
            "description_tooltip": null,
            "layout": "IPY_MODEL_7119cbc8e4cc4bc29ef58d671f6c7382",
            "max": 5,
            "min": 0,
            "orientation": "horizontal",
            "style": "IPY_MODEL_ad9300e83d2d45ab8bd4a05b001546da",
            "value": 5
          }
        },
        "9b189329f3c14ae181dbf6dffcdaced4": {
          "model_module": "@jupyter-widgets/controls",
          "model_name": "HTMLModel",
          "model_module_version": "1.5.0",
          "state": {
            "_dom_classes": [],
            "_model_module": "@jupyter-widgets/controls",
            "_model_module_version": "1.5.0",
            "_model_name": "HTMLModel",
            "_view_count": null,
            "_view_module": "@jupyter-widgets/controls",
            "_view_module_version": "1.5.0",
            "_view_name": "HTMLView",
            "description": "",
            "description_tooltip": null,
            "layout": "IPY_MODEL_4ab1cb075db4461c99e6db80c9a615d0",
            "placeholder": "​",
            "style": "IPY_MODEL_1c27da69755642b6b2d2f954daa35121",
            "value": " 5/5 [00:00&lt;00:00, 309.71it/s]"
          }
        },
        "feaad68e61484986b4906c5b1b093f5c": {
          "model_module": "@jupyter-widgets/base",
          "model_name": "LayoutModel",
          "model_module_version": "1.2.0",
          "state": {
            "_model_module": "@jupyter-widgets/base",
            "_model_module_version": "1.2.0",
            "_model_name": "LayoutModel",
            "_view_count": null,
            "_view_module": "@jupyter-widgets/base",
            "_view_module_version": "1.2.0",
            "_view_name": "LayoutView",
            "align_content": null,
            "align_items": null,
            "align_self": null,
            "border": null,
            "bottom": null,
            "display": null,
            "flex": null,
            "flex_flow": null,
            "grid_area": null,
            "grid_auto_columns": null,
            "grid_auto_flow": null,
            "grid_auto_rows": null,
            "grid_column": null,
            "grid_gap": null,
            "grid_row": null,
            "grid_template_areas": null,
            "grid_template_columns": null,
            "grid_template_rows": null,
            "height": null,
            "justify_content": null,
            "justify_items": null,
            "left": null,
            "margin": null,
            "max_height": null,
            "max_width": null,
            "min_height": null,
            "min_width": null,
            "object_fit": null,
            "object_position": null,
            "order": null,
            "overflow": null,
            "overflow_x": null,
            "overflow_y": null,
            "padding": null,
            "right": null,
            "top": null,
            "visibility": null,
            "width": null
          }
        },
        "68286d5fafdf439b9eb45a94af314621": {
          "model_module": "@jupyter-widgets/base",
          "model_name": "LayoutModel",
          "model_module_version": "1.2.0",
          "state": {
            "_model_module": "@jupyter-widgets/base",
            "_model_module_version": "1.2.0",
            "_model_name": "LayoutModel",
            "_view_count": null,
            "_view_module": "@jupyter-widgets/base",
            "_view_module_version": "1.2.0",
            "_view_name": "LayoutView",
            "align_content": null,
            "align_items": null,
            "align_self": null,
            "border": null,
            "bottom": null,
            "display": null,
            "flex": null,
            "flex_flow": null,
            "grid_area": null,
            "grid_auto_columns": null,
            "grid_auto_flow": null,
            "grid_auto_rows": null,
            "grid_column": null,
            "grid_gap": null,
            "grid_row": null,
            "grid_template_areas": null,
            "grid_template_columns": null,
            "grid_template_rows": null,
            "height": null,
            "justify_content": null,
            "justify_items": null,
            "left": null,
            "margin": null,
            "max_height": null,
            "max_width": null,
            "min_height": null,
            "min_width": null,
            "object_fit": null,
            "object_position": null,
            "order": null,
            "overflow": null,
            "overflow_x": null,
            "overflow_y": null,
            "padding": null,
            "right": null,
            "top": null,
            "visibility": null,
            "width": null
          }
        },
        "6b2eedde37fb4ad98dfadaddaf053544": {
          "model_module": "@jupyter-widgets/controls",
          "model_name": "DescriptionStyleModel",
          "model_module_version": "1.5.0",
          "state": {
            "_model_module": "@jupyter-widgets/controls",
            "_model_module_version": "1.5.0",
            "_model_name": "DescriptionStyleModel",
            "_view_count": null,
            "_view_module": "@jupyter-widgets/base",
            "_view_module_version": "1.2.0",
            "_view_name": "StyleView",
            "description_width": ""
          }
        },
        "7119cbc8e4cc4bc29ef58d671f6c7382": {
          "model_module": "@jupyter-widgets/base",
          "model_name": "LayoutModel",
          "model_module_version": "1.2.0",
          "state": {
            "_model_module": "@jupyter-widgets/base",
            "_model_module_version": "1.2.0",
            "_model_name": "LayoutModel",
            "_view_count": null,
            "_view_module": "@jupyter-widgets/base",
            "_view_module_version": "1.2.0",
            "_view_name": "LayoutView",
            "align_content": null,
            "align_items": null,
            "align_self": null,
            "border": null,
            "bottom": null,
            "display": null,
            "flex": null,
            "flex_flow": null,
            "grid_area": null,
            "grid_auto_columns": null,
            "grid_auto_flow": null,
            "grid_auto_rows": null,
            "grid_column": null,
            "grid_gap": null,
            "grid_row": null,
            "grid_template_areas": null,
            "grid_template_columns": null,
            "grid_template_rows": null,
            "height": null,
            "justify_content": null,
            "justify_items": null,
            "left": null,
            "margin": null,
            "max_height": null,
            "max_width": null,
            "min_height": null,
            "min_width": null,
            "object_fit": null,
            "object_position": null,
            "order": null,
            "overflow": null,
            "overflow_x": null,
            "overflow_y": null,
            "padding": null,
            "right": null,
            "top": null,
            "visibility": null,
            "width": null
          }
        },
        "ad9300e83d2d45ab8bd4a05b001546da": {
          "model_module": "@jupyter-widgets/controls",
          "model_name": "ProgressStyleModel",
          "model_module_version": "1.5.0",
          "state": {
            "_model_module": "@jupyter-widgets/controls",
            "_model_module_version": "1.5.0",
            "_model_name": "ProgressStyleModel",
            "_view_count": null,
            "_view_module": "@jupyter-widgets/base",
            "_view_module_version": "1.2.0",
            "_view_name": "StyleView",
            "bar_color": null,
            "description_width": ""
          }
        },
        "4ab1cb075db4461c99e6db80c9a615d0": {
          "model_module": "@jupyter-widgets/base",
          "model_name": "LayoutModel",
          "model_module_version": "1.2.0",
          "state": {
            "_model_module": "@jupyter-widgets/base",
            "_model_module_version": "1.2.0",
            "_model_name": "LayoutModel",
            "_view_count": null,
            "_view_module": "@jupyter-widgets/base",
            "_view_module_version": "1.2.0",
            "_view_name": "LayoutView",
            "align_content": null,
            "align_items": null,
            "align_self": null,
            "border": null,
            "bottom": null,
            "display": null,
            "flex": null,
            "flex_flow": null,
            "grid_area": null,
            "grid_auto_columns": null,
            "grid_auto_flow": null,
            "grid_auto_rows": null,
            "grid_column": null,
            "grid_gap": null,
            "grid_row": null,
            "grid_template_areas": null,
            "grid_template_columns": null,
            "grid_template_rows": null,
            "height": null,
            "justify_content": null,
            "justify_items": null,
            "left": null,
            "margin": null,
            "max_height": null,
            "max_width": null,
            "min_height": null,
            "min_width": null,
            "object_fit": null,
            "object_position": null,
            "order": null,
            "overflow": null,
            "overflow_x": null,
            "overflow_y": null,
            "padding": null,
            "right": null,
            "top": null,
            "visibility": null,
            "width": null
          }
        },
        "1c27da69755642b6b2d2f954daa35121": {
          "model_module": "@jupyter-widgets/controls",
          "model_name": "DescriptionStyleModel",
          "model_module_version": "1.5.0",
          "state": {
            "_model_module": "@jupyter-widgets/controls",
            "_model_module_version": "1.5.0",
            "_model_name": "DescriptionStyleModel",
            "_view_count": null,
            "_view_module": "@jupyter-widgets/base",
            "_view_module_version": "1.2.0",
            "_view_name": "StyleView",
            "description_width": ""
          }
        }
      }
    }
  },
  "nbformat": 4,
  "nbformat_minor": 0
}