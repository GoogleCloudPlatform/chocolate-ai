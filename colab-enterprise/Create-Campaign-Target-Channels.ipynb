{
 "cells": [
  {
   "cell_type": "markdown",
   "metadata": {
    "id": "5DgdyRcgxV0U"
   },
   "source": [
    "### <font color='#4285f4'>Overview</font>"
   ]
  },
  {
   "cell_type": "markdown",
   "metadata": {
    "id": "8oNuGgYVxV0V"
   },
   "source": [
    "Maximize your advertising ROI with cutting-edge campaign optimization forecasting. By analyzing your ad creative and historical data, we explore the highest-performing channels and predict the ideal budget split for maximum profit using Gemini and TimesFM forecasting.\n",
    "\n",
    "Process Flow:\n",
    "\n",
    "1. Download the marketing videos created by GenAI\n",
    "2. Download the YouTube short videos\n",
    "3. Provide Gemini a list of Marketing Channels we use\n",
    "4. Prompt Gemini to provide us the best marketing channels and how to allocate our budget by watching both ads.\n",
    "5. Perform 3 different TimesFM scenarios\n",
    "    * a. Scenario 1 - We spend $2000 on each campaign individually (run each campaign one by one)\n",
    "    * b. Scenario 2 - We spend $3000 on autonomous_taxi and youtube_shorts individually\n",
    "    * c. Scenario 3 - We spend $2000 on all 3 campaigns at the same time\n",
    "6. Run all the TimesFM simulations\n",
    "7. Output which simulation has the highest profit\n",
    "8. Show the output as charts\n",
    "\n",
    "Notes:\n",
    "\n",
    "* You may run as many different scenarios as you would like.  This notebook does not run every possible scenario and is designed to get you started with TimesFM.\n",
    "\n",
    "Cost:\n",
    "* Low: Gemini, BigQuery, TimesFM (locally)\n",
    "* Medium: Remember to stop your Colab Enterprise Notebook Runtime\n",
    "\n",
    "Author:\n",
    "* Adam Paternostro"
   ]
  },
  {
   "cell_type": "code",
   "execution_count": null,
   "metadata": {
    "id": "rTZ4M3-lxV0W"
   },
   "outputs": [],
   "source": [
    "# Architecture Diagram\n",
    "from IPython.display import Image\n",
    "Image(url='https://storage.googleapis.com/data-analytics-golden-demo/chocolate-ai/v1/Artifacts/Create-Campaign-Target-Channels-Architecture.png', width=1200)"
   ]
  },
  {
   "cell_type": "markdown",
   "metadata": {},
   "source": [
    "### <font color='#4285f4'>Video Walkthrough</font>"
   ]
  },
  {
   "cell_type": "markdown",
   "metadata": {},
   "source": [
    "[![Video](https://storage.googleapis.com/data-analytics-golden-demo/chocolate-ai/v1/Videos/adam-paternostro-video.png)](https://storage.googleapis.com/data-analytics-golden-demo/chocolate-ai/v1/Videos/Create-Campaign-Target-Channels.mp4)\n"
   ]
  },
  {
   "cell_type": "code",
   "execution_count": null,
   "metadata": {},
   "outputs": [],
   "source": [
    "from IPython.display import HTML\n",
    "\n",
    "HTML(\"\"\"\n",
    "<video width=\"800\" height=\"600\" controls>\n",
    "  <source src=\"https://storage.googleapis.com/data-analytics-golden-demo/chocolate-ai/v1/Videos/Create-Campaign-Target-Channels.mp4\" type=\"video/mp4\">\n",
    "  Your browser does not support the video tag.\n",
    "</video>\n",
    "\"\"\")"
   ]
  },
  {
   "cell_type": "markdown",
   "metadata": {
    "id": "HMsUvoF4BP7Y"
   },
   "source": [
    "### <font color='#4285f4'>License</font>"
   ]
  },
  {
   "cell_type": "markdown",
   "metadata": {
    "id": "jQgQkbOvj55d"
   },
   "source": [
    "```\n",
    "# Copyright 2024 Google LLC\n",
    "#\n",
    "# Licensed under the Apache License, Version 2.0 (the \"License\");\n",
    "# you may not use this file except in compliance with the License.\n",
    "# You may obtain a copy of the License at\n",
    "#\n",
    "#     https://www.apache.org/licenses/LICENSE-2.0\n",
    "#\n",
    "# Unless required by applicable law or agreed to in writing, software\n",
    "# distributed under the License is distributed on an \"AS IS\" BASIS,\n",
    "# WITHOUT WARRANTIES OR CONDITIONS OF ANY KIND, either express or implied.\n",
    "# See the License for the specific language governing permissions and\n",
    "# limitations under the License.\n",
    "```"
   ]
  },
  {
   "cell_type": "markdown",
   "metadata": {
    "id": "__DhjLYSxk0y"
   },
   "source": [
    "### <font color='#4285f4'>Deploy TimesFM</font>"
   ]
  },
  {
   "cell_type": "markdown",
   "metadata": {
    "id": "hFd5py6FxoJb"
   },
   "source": [
    "1. Open Vertex Model Garden\n",
    "   -  https://console.cloud.google.com/vertex-ai/publishers/google/model-garden/timesfm\n",
    "2. Click the Deploy button\n",
    "3. Select\n",
    "   - Resource Id:  google/timesfm-v20240828\n",
    "   - Model Name: (leave default - name does not matter)   \n",
    "   - Endpoint name: (leave default - name does not matter)\n",
    "   - Region: us-central1 (if you change you need to change the **Initialize** variables below)\n",
    "   - Machine spec: (leave default - n1-standard-8)\n",
    "4. Click Deploy\n",
    "5. Wait 20 minutes\n",
    "6. Open Vertex Model Registry\n",
    "   - https://console.cloud.google.com/vertex-ai/models\n",
    "7. Click on the model name\n",
    "8. Click on the model name under \"Deploy your model\"\n",
    "9. Click on \"Sample Request\" (at the top)\n",
    "10. Copy the ```ENDPOINT_ID=\"000000000000000000\"```\n",
    "11. Update the variable endpoint_id in the **Initialize** code below."
   ]
  },
  {
   "cell_type": "markdown",
   "metadata": {},
   "source": [
    "##### TimesFM Deployment Video"
   ]
  },
  {
   "cell_type": "markdown",
   "metadata": {},
   "source": [
    "[![TimesFM Deployment Video](../images/adam-paternostro-video.png)](https://storage.googleapis.com/data-analytics-golden-demo/chocolate-ai/v1/Videos/Campaign-Performance-Forecasting-TimesFM-Install.mp4)"
   ]
  },
  {
   "cell_type": "code",
   "execution_count": null,
   "metadata": {},
   "outputs": [],
   "source": [
    "from IPython.display import HTML\n",
    "\n",
    "HTML(\"\"\"\n",
    "<h2>Deploying TimesFM to a Vertex AI Endpoint Instructions</h2>\n",
    "<video width=\"800\" height=\"600\" controls>\n",
    "  <source src=\"https://storage.googleapis.com/data-analytics-golden-demo/chocolate-ai/v1/Videos/Campaign-Performance-Forecasting-TimesFM-Install.mp4\" type=\"video/mp4\">\n",
    "  Your browser does not support the video tag.\n",
    "</video>\n",
    "\"\"\")"
   ]
  },
  {
   "cell_type": "markdown",
   "metadata": {
    "id": "m65vp54BUFRi"
   },
   "source": [
    "### <font color='#4285f4'>Pip installs</font>"
   ]
  },
  {
   "cell_type": "code",
   "execution_count": null,
   "metadata": {
    "id": "5MaWM6H5i6rX"
   },
   "outputs": [],
   "source": [
    "# PIP Installs\n",
    "import sys\n",
    "\n",
    "# https://PLACEHOLDER.com/index.html\n",
    "\n",
    "# For better performance and production, deploy to Vertex AI endpoint with GPU\n",
    "# This takes about 5 minutes to install and you will need to reset your runtime\n",
    "# !{sys.executable} -m pip install timesfm <- THERE ARE TOO MANY DEPENDENCIES TO EASILY TO THIS IN COLAB"
   ]
  },
  {
   "cell_type": "markdown",
   "metadata": {
    "id": "UmyL-Rg4Dr_f"
   },
   "source": [
    "### <font color='#4285f4'>Initialize</font>"
   ]
  },
  {
   "cell_type": "code",
   "execution_count": null,
   "metadata": {
    "id": "xOYsEVSXp6IP"
   },
   "outputs": [],
   "source": [
    "from PIL import Image\n",
    "from IPython.display import HTML\n",
    "from IPython.display import Audio\n",
    "from functools import reduce\n",
    "import IPython.display\n",
    "import google.auth\n",
    "import requests\n",
    "import json\n",
    "import uuid\n",
    "import base64\n",
    "import os\n",
    "import cv2\n",
    "import random\n",
    "import time\n",
    "import datetime\n",
    "import base64\n",
    "import random\n",
    "\n",
    "import logging\n",
    "from tenacity import retry, wait_exponential, stop_after_attempt, before_sleep_log, retry_if_exception"
   ]
  },
  {
   "cell_type": "code",
   "execution_count": null,
   "metadata": {
    "id": "wMlHl3bnkFPZ"
   },
   "outputs": [],
   "source": [
    "# Set these (run this cell to verify the output)\n",
    "\n",
    "endpoint_id=\"000000000000000000\"  # <- YOU MUST SET THIS !!!!\n",
    "\n",
    "bigquery_location = \"${bigquery_location}\"\n",
    "region = \"${region}\"\n",
    "location = \"${location}\"\n",
    "storage_account = \"${chocolate_ai_bucket}\"\n",
    "public_storage_storage_account = \"data-analytics-golden-demo\"\n",
    "\n",
    "# Get the current date and time\n",
    "now = datetime.datetime.now()\n",
    "\n",
    "# Format the date and time as desired\n",
    "formatted_date = now.strftime(\"%Y-%m-%d-%H-%M\")\n",
    "\n",
    "# Get some values using gcloud\n",
    "project_id = !(gcloud config get-value project)\n",
    "user = !(gcloud auth list --filter=status:ACTIVE --format=\"value(account)\")\n",
    "\n",
    "if len(project_id) != 1:\n",
    "  raise RuntimeError(f\"project_id is not set: {project_id}\")\n",
    "project_id = project_id[0]\n",
    "\n",
    "if len(user) != 1:\n",
    "  raise RuntimeError(f\"user is not set: {user}\")\n",
    "user = user[0]\n",
    "\n",
    "print(f\"project_id = {project_id}\")\n",
    "print(f\"user = {user}\")"
   ]
  },
  {
   "cell_type": "markdown",
   "metadata": {
    "id": "sZ6m_wGrK0YG"
   },
   "source": [
    "### <font color='#4285f4'>Helper Methods</font>"
   ]
  },
  {
   "cell_type": "markdown",
   "metadata": {
    "id": "JbOjdSP1kN9T"
   },
   "source": [
    "#### restAPIHelper\n",
    "Calls the Google Cloud REST API using the current users credentials."
   ]
  },
  {
   "cell_type": "code",
   "execution_count": null,
   "metadata": {
    "id": "40wlwnY4kM11"
   },
   "outputs": [],
   "source": [
    "def restAPIHelper(url: str, http_verb: str, request_body: str) -> str:\n",
    "  \"\"\"Calls the Google Cloud REST API passing in the current users credentials\"\"\"\n",
    "\n",
    "  import requests\n",
    "  import google.auth\n",
    "  import json\n",
    "\n",
    "  # Get an access token based upon the current user\n",
    "  creds, project = google.auth.default()\n",
    "  auth_req = google.auth.transport.requests.Request()\n",
    "  creds.refresh(auth_req)\n",
    "  access_token=creds.token\n",
    "\n",
    "  headers = {\n",
    "    \"Content-Type\" : \"application/json\",\n",
    "    \"Authorization\" : \"Bearer \" + access_token\n",
    "  }\n",
    "\n",
    "  if http_verb == \"GET\":\n",
    "    response = requests.get(url, headers=headers)\n",
    "  elif http_verb == \"POST\":\n",
    "    response = requests.post(url, json=request_body, headers=headers)\n",
    "  elif http_verb == \"PUT\":\n",
    "    response = requests.put(url, json=request_body, headers=headers)\n",
    "  elif http_verb == \"PATCH\":\n",
    "    response = requests.patch(url, json=request_body, headers=headers)\n",
    "  elif http_verb == \"DELETE\":\n",
    "    response = requests.delete(url, headers=headers)\n",
    "  else:\n",
    "    raise RuntimeError(f\"Unknown HTTP verb: {http_verb}\")\n",
    "\n",
    "  if response.status_code == 200:\n",
    "    return json.loads(response.content)\n",
    "    #image_data = json.loads(response.content)[\"predictions\"][0][\"bytesBase64Encoded\"]\n",
    "  else:\n",
    "    error = f\"Error restAPIHelper -> ' Status: '{response.status_code}' Text: '{response.text}'\"\n",
    "    raise RuntimeError(error)"
   ]
  },
  {
   "cell_type": "markdown",
   "metadata": {},
   "source": [
    "#### RetryCondition (for retrying LLM calls)"
   ]
  },
  {
   "cell_type": "code",
   "execution_count": null,
   "metadata": {},
   "outputs": [],
   "source": [
    "def RetryCondition(error):\n",
    "  error_string = str(error)\n",
    "  print(error_string)\n",
    "\n",
    "  retry_errors = [\n",
    "      \"RESOURCE_EXHAUSTED\",\n",
    "      \"No content in candidate\",\n",
    "      # Add more error messages here as needed\n",
    "  ]\n",
    "\n",
    "  for retry_error in retry_errors:\n",
    "    if retry_error in error_string:\n",
    "      print(\"Retrying...\")\n",
    "      return True\n",
    "\n",
    "  return False"
   ]
  },
  {
   "cell_type": "markdown",
   "metadata": {
    "id": "k5rxqRTXx4RL"
   },
   "source": [
    "#### timesFMInference\n",
    "Calls TimesFM Vertex Model Endpoint"
   ]
  },
  {
   "cell_type": "code",
   "execution_count": null,
   "metadata": {
    "id": "tTQEwsTSx84Y"
   },
   "outputs": [],
   "source": [
    "def timesFMInference(project_number, endpoint_id, payload):\n",
    "  url = f\"https://{location}-aiplatform.googleapis.com/v1/projects/{project_number}/locations/{location}/endpoints/{endpoint_id}:predict\"\n",
    "  # print(f\"url: {url}\")\n",
    "  response = restAPIHelper(url, http_verb=\"POST\", request_body=payload)\n",
    "  # print(f\"response: {response}\")\n",
    "  return response"
   ]
  },
  {
   "cell_type": "markdown",
   "metadata": {
    "id": "VpzggEwPx-BS"
   },
   "source": [
    "#### getProjectNumber\n",
    "Gets the project number from a project id"
   ]
  },
  {
   "cell_type": "code",
   "execution_count": null,
   "metadata": {
    "id": "2WvbX_1lx-jC"
   },
   "outputs": [],
   "source": [
    "def getProjectNumber(project_id):\n",
    "  \"\"\"Batch activates service apis\"\"\"\n",
    "\n",
    "  url = f\"https://cloudresourcemanager.googleapis.com/v1/projects/{project_id}\"\n",
    "  json_result = restAPIHelper(url, \"GET\", None)\n",
    "  print(f\"getProjectNumber (GET) json_result: {json_result}\")\n",
    "\n",
    "  project_number = json_result[\"projectNumber\"]\n",
    "  return project_number"
   ]
  },
  {
   "cell_type": "markdown",
   "metadata": {
    "id": "A2zlM9W33G-y"
   },
   "source": [
    "#### Gemini LLM (Pro 1.0 , Pro 1.5)"
   ]
  },
  {
   "cell_type": "code",
   "execution_count": null,
   "metadata": {
    "id": "OF_ARdsJ3Mvb"
   },
   "outputs": [],
   "source": [
    "@retry(wait=wait_exponential(multiplier=1, min=1, max=60), stop=stop_after_attempt(10), retry=retry_if_exception(RetryCondition), before_sleep=before_sleep_log(logging.getLogger(), logging.INFO))\n",
    "def GeminiLLM(prompt, model = \"gemini-2.0-flash\", response_schema = None,\n",
    "                 temperature = 1, topP = 1, topK = 32):\n",
    "\n",
    "  # https://cloud.google.com/vertex-ai/generative-ai/docs/model-reference/inference#supported_models\n",
    "  # model = \"gemini-2.0-flash\"\n",
    "\n",
    "  llm_response = None\n",
    "  if temperature < 0:\n",
    "    temperature = 0\n",
    "\n",
    "  creds, project = google.auth.default()\n",
    "  auth_req = google.auth.transport.requests.Request() # required to acess access token\n",
    "  creds.refresh(auth_req)\n",
    "  access_token=creds.token\n",
    "\n",
    "  headers = {\n",
    "      \"Content-Type\" : \"application/json\",\n",
    "      \"Authorization\" : \"Bearer \" + access_token\n",
    "  }\n",
    "\n",
    "  # https://cloud.google.com/vertex-ai/generative-ai/docs/model-reference/inference\n",
    "  url = f\"https://{location}-aiplatform.googleapis.com/v1/projects/{project_id}/locations/{location}/publishers/google/models/{model}:generateContent\"\n",
    "\n",
    "  generation_config = {\n",
    "    \"temperature\": temperature,\n",
    "    \"topP\": topP,\n",
    "    \"maxOutputTokens\": 8192,\n",
    "    \"candidateCount\": 1,\n",
    "    \"responseMimeType\": \"application/json\",\n",
    "  }\n",
    "\n",
    "  # Add inthe response schema for when it is provided\n",
    "  if response_schema is not None:\n",
    "    generation_config[\"responseSchema\"] = response_schema\n",
    "\n",
    "  if model == \"gemini-2.0-flash\":\n",
    "    generation_config[\"topK\"] = topK\n",
    "\n",
    "  payload = {\n",
    "    \"contents\": {\n",
    "      \"role\": \"user\",\n",
    "      \"parts\": {\n",
    "          \"text\": prompt\n",
    "      },\n",
    "    },\n",
    "    \"generation_config\": {\n",
    "      **generation_config\n",
    "    },\n",
    "    \"safety_settings\": {\n",
    "      \"category\": \"HARM_CATEGORY_SEXUALLY_EXPLICIT\",\n",
    "      \"threshold\": \"BLOCK_LOW_AND_ABOVE\"\n",
    "    }\n",
    "  }\n",
    "\n",
    "  response = requests.post(url, json=payload, headers=headers)\n",
    "\n",
    "  if response.status_code == 200:\n",
    "    try:\n",
    "      json_response = json.loads(response.content)\n",
    "    except Exception as error:\n",
    "      raise RuntimeError(f\"An error occurred parsing the JSON: {error}\")\n",
    "\n",
    "    if \"candidates\" in json_response:\n",
    "      candidates = json_response[\"candidates\"]\n",
    "      if len(candidates) > 0:\n",
    "        candidate = candidates[0]\n",
    "        if \"content\" in candidate:\n",
    "          content = candidate[\"content\"]\n",
    "          if \"parts\" in content:\n",
    "            parts = content[\"parts\"]\n",
    "            if len(parts):\n",
    "              part = parts[0]\n",
    "              if \"text\" in part:\n",
    "                text = part[\"text\"]\n",
    "                llm_response = text\n",
    "              else:\n",
    "                raise RuntimeError(\"No text in part: {response.content}\")\n",
    "            else:\n",
    "              raise RuntimeError(\"No parts in content: {response.content}\")\n",
    "          else:\n",
    "            raise RuntimeError(\"No parts in content: {response.content}\")\n",
    "        else:\n",
    "          raise RuntimeError(\"No content in candidate: {response.content}\")\n",
    "      else:\n",
    "        raise RuntimeError(\"No candidates: {response.content}\")\n",
    "    else:\n",
    "      raise RuntimeError(\"No candidates: {response.content}\")\n",
    "\n",
    "    # Remove some typically response characters (if asking for a JSON reply)\n",
    "    llm_response = llm_response.replace(\"```json\",\"\")\n",
    "    llm_response = llm_response.replace(\"```\",\"\")\n",
    "    llm_response = llm_response.replace(\"\\n\",\"\")\n",
    "\n",
    "    return llm_response\n",
    "\n",
    "  else:\n",
    "    raise RuntimeError(f\"Error with prompt:'{prompt}'  Status:'{response.status_code}' Text:'{response.text}'\")"
   ]
  },
  {
   "cell_type": "markdown",
   "metadata": {
    "id": "wGcw1Yly3RBq"
   },
   "source": [
    "#### Gemini LLM - Multimodal"
   ]
  },
  {
   "cell_type": "code",
   "execution_count": null,
   "metadata": {
    "id": "hzYQcRaq3W9C"
   },
   "outputs": [],
   "source": [
    "@retry(wait=wait_exponential(multiplier=1, min=1, max=60), stop=stop_after_attempt(10), retry=retry_if_exception(RetryCondition), before_sleep=before_sleep_log(logging.getLogger(), logging.INFO))\n",
    "def GeminiLLM_Multimodal(multimodal_prompt_list, model = \"gemini-2.0-flash\", response_schema = None,\n",
    "                 temperature = 1, topP = 1, topK = 32):\n",
    "\n",
    "  # https://cloud.google.com/vertex-ai/generative-ai/docs/model-reference/inference#supported_models\n",
    "  # model = \"gemini-2.0-flash\"\n",
    "\n",
    "  llm_response = None\n",
    "  if temperature < 0:\n",
    "    temperature = 0\n",
    "\n",
    "  creds, project = google.auth.default()\n",
    "  auth_req = google.auth.transport.requests.Request() # required to acess access token\n",
    "  creds.refresh(auth_req)\n",
    "  access_token=creds.token\n",
    "\n",
    "  headers = {\n",
    "      \"Content-Type\" : \"application/json\",\n",
    "      \"Authorization\" : \"Bearer \" + access_token\n",
    "  }\n",
    "\n",
    "  # https://cloud.google.com/vertex-ai/generative-ai/docs/model-reference/inference\n",
    "  url = f\"https://{location}-aiplatform.googleapis.com/v1/projects/{project_id}/locations/{location}/publishers/google/models/{model}:generateContent\"\n",
    "\n",
    "  generation_config = {\n",
    "    \"temperature\": temperature,\n",
    "    \"topP\": topP,\n",
    "    \"maxOutputTokens\": 8192,\n",
    "    \"candidateCount\": 1,\n",
    "    \"responseMimeType\": \"application/json\",\n",
    "  }\n",
    "\n",
    "  # Add inthe response schema for when it is provided\n",
    "  if response_schema is not None:\n",
    "    generation_config[\"responseSchema\"] = response_schema\n",
    "\n",
    "  if model == \"gemini-2.0-flash\":\n",
    "    generation_config[\"topK\"] = topK\n",
    "\n",
    "  payload = {\n",
    "    \"contents\": {\n",
    "      \"role\": \"user\",\n",
    "      \"parts\": multimodal_prompt_list\n",
    "    },\n",
    "    \"generation_config\": {\n",
    "      **generation_config\n",
    "    },\n",
    "    \"safety_settings\": {\n",
    "      \"category\": \"HARM_CATEGORY_SEXUALLY_EXPLICIT\",\n",
    "      \"threshold\": \"BLOCK_LOW_AND_ABOVE\"\n",
    "    }\n",
    "  }\n",
    "\n",
    "  response = requests.post(url, json=payload, headers=headers)\n",
    "\n",
    "  if response.status_code == 200:\n",
    "    try:\n",
    "      json_response = json.loads(response.content)\n",
    "    except Exception as error:\n",
    "      raise RuntimeError(f\"An error occurred parsing the JSON: {error}\")\n",
    "\n",
    "    if \"candidates\" in json_response:\n",
    "      candidates = json_response[\"candidates\"]\n",
    "      if len(candidates) > 0:\n",
    "        candidate = candidates[0]\n",
    "        if \"content\" in candidate:\n",
    "          content = candidate[\"content\"]\n",
    "          if \"parts\" in content:\n",
    "            parts = content[\"parts\"]\n",
    "            if len(parts):\n",
    "              part = parts[0]\n",
    "              if \"text\" in part:\n",
    "                text = part[\"text\"]\n",
    "                llm_response = text\n",
    "              else:\n",
    "                raise RuntimeError(\"No text in part: {response.content}\")\n",
    "            else:\n",
    "              raise RuntimeError(\"No parts in content: {response.content}\")\n",
    "          else:\n",
    "            raise RuntimeError(\"No parts in content: {response.content}\")\n",
    "        else:\n",
    "          raise RuntimeError(\"No content in candidate: {response.content}\")\n",
    "      else:\n",
    "        raise RuntimeError(\"No candidates: {response.content}\")\n",
    "    else:\n",
    "      raise RuntimeError(\"No candidates: {response.content}\")\n",
    "\n",
    "    # Remove some typically response characters (if asking for a JSON reply)\n",
    "    llm_response = llm_response.replace(\"```json\",\"\")\n",
    "    llm_response = llm_response.replace(\"```\",\"\")\n",
    "    llm_response = llm_response.replace(\"\\n\",\"\")\n",
    "\n",
    "    return llm_response\n",
    "\n",
    "  else:\n",
    "    raise RuntimeError(f\"Error with prompt:'{prompt}'  Status:'{response.status_code}' Text:'{response.text}'\")"
   ]
  },
  {
   "cell_type": "markdown",
   "metadata": {
    "id": "THUWaEk63d3x"
   },
   "source": [
    "#### Helper Functions"
   ]
  },
  {
   "cell_type": "code",
   "execution_count": null,
   "metadata": {
    "id": "U1C07lff3jop"
   },
   "outputs": [],
   "source": [
    "# prompt: python to delete a file even if it does not exist\n",
    "\n",
    "def delete_file(filename):\n",
    "  try:\n",
    "    os.remove(filename)\n",
    "    print(f\"File '{filename}' deleted successfully.\")\n",
    "  except FileNotFoundError:\n",
    "    print(f\"File '{filename}' not found.\")"
   ]
  },
  {
   "cell_type": "code",
   "execution_count": null,
   "metadata": {
    "id": "IfW4oU3Z3nhd"
   },
   "outputs": [],
   "source": [
    "def PrettyPrintJson(json_string):\n",
    "  json_object = json.loads(json_string)\n",
    "  json_formatted_str = json.dumps(json_object, indent=2)\n",
    "  #print(json_formatted_str)\n",
    "  return json_formatted_str"
   ]
  },
  {
   "cell_type": "code",
   "execution_count": null,
   "metadata": {
    "id": "Y0DvcrQO3uQL"
   },
   "outputs": [],
   "source": [
    "# prompt: python code to download a pdf from the internet\n",
    "\n",
    "import requests\n",
    "\n",
    "def download_http_file(url, filename):\n",
    "  \"\"\"Downloads a PDF file from a given URL.\n",
    "\n",
    "  Args:\n",
    "      url: The URL of the PDF file to download.\n",
    "      filename: The name to save the downloaded PDF file as.\n",
    "  \"\"\"\n",
    "  try:\n",
    "    response = requests.get(url)\n",
    "    response.raise_for_status()  # Raise an exception for bad status codes\n",
    "\n",
    "    with open(filename, 'wb') as f:\n",
    "      f.write(response.content)\n",
    "\n",
    "    print(f\"PDF downloaded successfully to {filename}\")\n",
    "\n",
    "  except requests.exceptions.RequestException as e:\n",
    "    print(f\"An error occurred while downloading the PDF: {e}\")\n",
    "\n",
    "# Example usage:\n"
   ]
  },
  {
   "cell_type": "code",
   "execution_count": null,
   "metadata": {
    "id": "Nl9b6zNxCsIJ"
   },
   "outputs": [],
   "source": [
    "def download_from_gcs(filename, gcs_storage_bucket, gcs_storage_path):\n",
    "  # prompt: Write python code to download a blob from a gcs bucket.  do not use the requests method\n",
    "\n",
    "  from google.cloud import storage\n",
    "\n",
    "  # The ID of your GCS object\n",
    "  object_name = gcs_storage_path + filename\n",
    "\n",
    "  # The path to which the file should be downloaded\n",
    "  destination_file_name = filename\n",
    "\n",
    "  storage_client = storage.Client()\n",
    "\n",
    "  bucket = storage_client.bucket(gcs_storage_bucket)\n",
    "\n",
    "  # Construct a client side representation of a blob.\n",
    "  # Note `Bucket.blob` differs from `Bucket.get_blob` as it doesn't retrieve\n",
    "  # any content from Google Cloud Storage. As we don't need additional data,\n",
    "  # using `Bucket.blob` is preferred here.\n",
    "  blob = bucket.blob(object_name)\n",
    "  blob.download_to_filename(destination_file_name)\n",
    "\n",
    "  print(\n",
    "      \"Downloaded storage object {} from bucket {} to local file {}.\".format(\n",
    "          object_name, gcs_storage_bucket, destination_file_name\n",
    "      )\n",
    "  )"
   ]
  },
  {
   "cell_type": "code",
   "execution_count": null,
   "metadata": {
    "id": "VhRwXefvCvQQ"
   },
   "outputs": [],
   "source": [
    "# This was generated by GenAI\n",
    "\n",
    "def copy_file_to_gcs(local_file_path, bucket_name, destination_blob_name):\n",
    "  \"\"\"Copies a file from a local drive to a GCS bucket.\n",
    "\n",
    "  Args:\n",
    "      local_file_path: The full path to the local file.\n",
    "      bucket_name: The name of the GCS bucket to upload to.\n",
    "      destination_blob_name: The desired name of the uploaded file in the bucket.\n",
    "\n",
    "  Returns:\n",
    "      None\n",
    "  \"\"\"\n",
    "\n",
    "  import os\n",
    "  from google.cloud import storage\n",
    "\n",
    "  # Ensure the file exists locally\n",
    "  if not os.path.exists(local_file_path):\n",
    "      raise FileNotFoundError(f\"Local file '{local_file_path}' not found.\")\n",
    "\n",
    "  # Create a storage client\n",
    "  storage_client = storage.Client()\n",
    "\n",
    "  # Get a reference to the bucket\n",
    "  bucket = storage_client.bucket(bucket_name)\n",
    "\n",
    "  # Create a blob object with the desired destination path\n",
    "  blob = bucket.blob(destination_blob_name)\n",
    "\n",
    "  # Upload the file from the local filesystem\n",
    "  content_type = \"\"\n",
    "  if local_file_path.endswith(\".html\"):\n",
    "    content_type = \"text/html; charset=utf-8\"\n",
    "\n",
    "  if local_file_path.endswith(\".json\"):\n",
    "    content_type = \"application/json; charset=utf-8\"\n",
    "\n",
    "  if content_type == \"\":\n",
    "    blob.upload_from_filename(local_file_path)\n",
    "  else:\n",
    "    blob.upload_from_filename(local_file_path, content_type = content_type)\n",
    "\n",
    "  print(f\"File '{local_file_path}' uploaded to GCS bucket '{bucket_name}' as '{destination_blob_name}.  Content-Type: {content_type}'.\")"
   ]
  },
  {
   "cell_type": "markdown",
   "metadata": {
    "id": "EYRHDPdVKBzd"
   },
   "source": [
    "### <font color='#4285f4'>Target Channels</font>"
   ]
  },
  {
   "cell_type": "code",
   "execution_count": null,
   "metadata": {
    "id": "lHmiJmIrCgVI"
   },
   "outputs": [],
   "source": [
    "# Download our sample Chocolate A.I. Ad and upload to our project storage account\n",
    "\n",
    "print(f\"To browse the public storage account: https://console.cloud.google.com/storage/browser/{public_storage_storage_account}/chocolate-ai/v1\")\n",
    "print(\"\")\n",
    "\n",
    "# Full videos\n",
    "download_from_gcs(\"full-video-with-audio-en-GB.mp4\", \"data-analytics-golden-demo\", \"chocolate-ai/v1/Campaign-Assets-Text-to-Video-01/story-01/\")\n",
    "copy_file_to_gcs(\"full-video-with-audio-en-GB.mp4\", storage_account, f\"chocolate-ai/Create-Campaign-Target-Channels/text-to-videos-{formatted_date}/story-01-full-video-with-audio-en-GB.mp4\")\n",
    "\n",
    "download_from_gcs(\"full-video-with-audio-en-GB.mp4\", \"data-analytics-golden-demo\", \"chocolate-ai/v1/Campaign-Assets-Text-to-Video-01/story-02/\")\n",
    "copy_file_to_gcs(\"full-video-with-audio-en-GB.mp4\", storage_account, f\"chocolate-ai/Create-Campaign-Target-Channels/text-to-videos-{formatted_date}/story-02-full-video-with-audio-en-GB.mp4\")\n",
    "\n",
    "download_from_gcs(\"full-video-with-audio-en-GB.mp4\", \"data-analytics-golden-demo\", \"chocolate-ai/v1/Campaign-Assets-Text-to-Video-01/story-03/\")\n",
    "copy_file_to_gcs(\"full-video-with-audio-en-GB.mp4\", storage_account, f\"chocolate-ai/Create-Campaign-Target-Channels/text-to-videos-{formatted_date}/story-03-full-video-with-audio-en-GB.mp4\")\n",
    "\n",
    "# YouTube Shorts\n",
    "download_from_gcs(\"youtube-short-extract-clip-story-01-final.mp4\", \"data-analytics-golden-demo\", \"chocolate-ai/v1/Campaign-Assets-Video-Create-Shorts/\")\n",
    "copy_file_to_gcs(\"youtube-short-extract-clip-story-01-final.mp4\", storage_account, f\"chocolate-ai/Create-Campaign-Target-Channels/text-to-videos-{formatted_date}/youtube-short-extract-clip-story-01-final.mp4\")\n",
    "\n",
    "download_from_gcs(\"youtube-short-extract-clip-story-02-final.mp4\", \"data-analytics-golden-demo\", \"chocolate-ai/v1/Campaign-Assets-Video-Create-Shorts/\")\n",
    "copy_file_to_gcs(\"youtube-short-extract-clip-story-02-final.mp4\", storage_account, f\"chocolate-ai/Create-Campaign-Target-Channels/text-to-videos-{formatted_date}/youtube-short-extract-clip-story-02-final.mp4\")\n",
    "\n",
    "download_from_gcs(\"youtube-short-extract-clip-story-03-final.mp4\", \"data-analytics-golden-demo\", \"chocolate-ai/v1/Campaign-Assets-Video-Create-Shorts/\")\n",
    "copy_file_to_gcs(\"youtube-short-extract-clip-story-03-final.mp4\", storage_account, f\"chocolate-ai/Create-Campaign-Target-Channels/text-to-videos-{formatted_date}/youtube-short-extract-clip-story-03-final.mp4\")\n",
    "\n",
    "print(\"\")\n",
    "print(f\"To view in your project storage account: https://console.cloud.google.com/storage/browser/{storage_account}/chocolate-ai/Create-Campaign-Target-Channels/text-to-videos-{formatted_date}\")\n"
   ]
  },
  {
   "cell_type": "code",
   "execution_count": null,
   "metadata": {
    "id": "qcdI4PAhBnVe"
   },
   "outputs": [],
   "source": [
    "# Prompt: You work at a marketing company and need a list of advertising channels. Create a list channels along with a description for each.\n",
    "# Output as a Python Dictionary\n",
    "# Include the following fields: ...\n",
    "\n",
    "advertising_channels = {\n",
    "    \"Digital Advertising\": {\n",
    "        \"Search Engine Marketing (SEM)\": {\n",
    "            \"description\": \"Paid advertising on search engine results pages (SERPs) like Google, Bing, etc.\",\n",
    "            \"vendors\": [\"Google Ads\", \"Bing Ads\"],\n",
    "            \"pros\": [\"Highly targeted\", \"Measurable\", \"Quick results\"],\n",
    "            \"cons\": [\"Can be expensive\", \"Requires ongoing management\"]\n",
    "        },\n",
    "        \"Search Engine Optimization (SEO)\": {\n",
    "            \"description\": \"Optimizing your website to rank higher organically in search engine results.\",\n",
    "            \"vendors\": [\"SEMrush\", \"Ahrefs\", \"Moz\" ,\"Google Search Console\"], # Tools rather than vendors\n",
    "            \"pros\": [\"Long-term ROI\", \"Increased credibility and brand authority\"],\n",
    "            \"cons\": [\"Requires time and effort\", \"Results are not immediate\"]\n",
    "        },\n",
    "        \"Social Media Advertising\": {\n",
    "            \"description\": \"Paid ad campaigns on platforms like Facebook, Instagram, Twitter, LinkedIn, etc.\",\n",
    "            \"vendors\": [\"YouTube Shorts\", \"Facebook Ads\", \"Instagram Ads\", \"Twitter Ads\", \"LinkedIn Ads\", \"TikTok Ads\", \"Pinterest Ads\"],\n",
    "            \"pros\": [\"Precise audience targeting\", \"Diverse ad formats\", \"Relatively affordable\"],\n",
    "            \"cons\": [\"Can be perceived as intrusive\", \"Requires platform expertise\"]\n",
    "        },\n",
    "        \"Autonomous Taxi Advertising\": {\n",
    "            \"description\": \"Show videos to customers that are near a specific geospatial coordinate.\",\n",
    "            \"vendors\": [\"Autonomous Taxi\"],\n",
    "            \"pros\": [\n",
    "                \"Hyperlocal Targeting\", # Reaching customers precisely where they are\n",
    "                \"Captive Audience\",  # Passengers have limited distractions during rides\n",
    "                \"Measurable Results\", # Track ad views, engagement, and even potential store visits\n",
    "                \"Novelty Factor\", #  New and potentially engaging ad format\n",
    "                \"Integration with Ride Experience\", # Ads can be tailored to destinations or journey times\n",
    "            ],\n",
    "            \"cons\": [\n",
    "                \"Privacy Concerns\", # Targeting based on location data requires transparency and user consent\n",
    "                \"Limited Reach\",  #  Reaches only those using Autonomous Taxi services\n",
    "                \"Potential for Intrusiveness\", #  Striking a balance between advertising and passenger experience is crucial\n",
    "                \"Technical Challenges\", #  Requires robust geofencing and ad delivery technology\n",
    "                \"Cost Considerations\", #  Pricing models and potential ROI need to be established\n",
    "            ]\n",
    "        },\n",
    "        \"Display Advertising\": {\n",
    "            \"description\": \"Visual ads on websites, apps, and social media platforms, often using banner ads or rich media.\",\n",
    "            \"vendors\": [\"Google Display Network\", \"DoubleClick\", \"Adform\", \"The Trade Desk\"],\n",
    "            \"pros\": [\"Broad reach\", \"Visual impact\", \"Various targeting options\"],\n",
    "            \"cons\": [\"Can be ignored\", \"Ad blindness is a factor\", \"Can be expensive\"]\n",
    "        },\n",
    "        \"Video Advertising\": {\n",
    "            \"description\": \"Ads displayed on platforms like YouTube, Vimeo, streaming services, and social media.\",\n",
    "            \"vendors\": [\"YouTube Ads\", \"Vimeo Ads\", \"Amazon Advertising\", \"Hulu Ads\"],\n",
    "            \"pros\": [\"Engaging format\", \"High completion rates\", \"Strong storytelling potential\"],\n",
    "            \"cons\": [\"Higher production costs\", \"Ad skipping can be an issue\"]\n",
    "        },\n",
    "        \"Mobile Advertising\": {\n",
    "            \"description\": \"Ads specifically targeted to mobile devices, through apps, mobile websites, and SMS.\",\n",
    "            \"vendors\": [\"Google Mobile Ads\", \"Apple Search Ads\", \"InMobi\", \"AdColony\"],\n",
    "            \"pros\": [\"Reaches a vast and engaged audience\", \"Highly personalizable\"],\n",
    "            \"cons\": [\"Can be intrusive\", \"Ad fatigue is common\", \"Requires mobile optimization\"]\n",
    "        },\n",
    "        \"Email Marketing\": {\n",
    "            \"description\": \"Sending targeted marketing messages directly to an audience's inbox.\",\n",
    "            \"vendors\": [\"Mailchimp\", \"Campaign Monitor\", \"Constant Contact\", \"GetResponse\"],\n",
    "            \"pros\": [\"Direct communication\", \"High ROI\", \"Trackable results\"],\n",
    "            \"cons\": [\"Requires list building\", \"Can be flagged as spam\", \"Needs compelling content\"]\n",
    "        },\n",
    "        \"Affiliate Marketing\": {\n",
    "            \"description\": \"Partnering with other businesses or individuals to promote your products or services for a commission.\",\n",
    "            \"vendors\": [\"Amazon Associates\", \"ShareASale\", \"CJ Affiliate\", \"ClickBank\"],\n",
    "            \"pros\": [\"Performance-based\", \"Access to new audiences\", \"Cost-effective\"],\n",
    "            \"cons\": [\"Requires relationship building\", \"Can be complex to manage\"]\n",
    "        },\n",
    "        \"Influencer Marketing\": {\n",
    "            \"description\": \"Collaborating with influential people on social media or other platforms to promote your brand.\",\n",
    "            \"vendors\": [\"Influencer marketing platforms\", \"Talent agencies\", \"Direct outreach to influencers\"], # Less specific vendors, more about approach\n",
    "            \"pros\": [\"Reaches a targeted audience\", \"Builds credibility and trust\"],\n",
    "            \"cons\": [\"Can be expensive\", \"Requires careful vetting of influencers\"]\n",
    "        },\n",
    "        \"Native Advertising\": {\n",
    "            \"description\": \"Ads that blend in with the surrounding content on a platform, aiming to be less intrusive.\",\n",
    "            \"vendors\": [\"Outbrain\", \"Taboola\", \"Yahoo Gemini\", \"TripleLift\"],\n",
    "            \"pros\": [\"High engagement rates\", \"Less ad fatigue\", \"Perceived as valuable content\"],\n",
    "            \"cons\": [\"Can be deceptive if not executed ethically\", \"Requires careful planning\"]\n",
    "        }\n",
    "    },\n",
    "    \"Traditional Advertising\": {\n",
    "        \"Television Advertising\": {\n",
    "            \"description\": \"Commercials aired during television programs.\",\n",
    "            \"vendors\": [\"ITV\", \"Channel 4\", \"Sky\", \"London TV\"],\n",
    "            \"pros\": [\"Broad reach\", \"High impact\", \"Strong emotional connection\"],\n",
    "            \"cons\": [\"Expensive\", \"Declining viewership\", \"Difficult to target specific audiences\"]\n",
    "        },\n",
    "        \"Radio Advertising\": {\n",
    "            \"description\": \"Ads broadcasted on radio stations.\",\n",
    "            \"vendors\": [\"Global\", \"Bauer Media\", \"Wireless Group\", \"Communicorp\"], # Major radio groups in London\n",
    "            \"pros\": [\"Local targeting\", \"Affordable\", \"Can reach people on the go\"],\n",
    "            \"cons\": [\"Audio-only format\", \"Can be easily tuned out\", \"Difficult to track ROI\"]\n",
    "        },\n",
    "        \"Print Advertising\": {\n",
    "            \"description\": \"Ads placed in newspapers, magazines, brochures, etc.\",\n",
    "            \"vendors\": [\"Evening Standard\", \"Metro\", \"Time Out London\", \"The Londonist\"], # Popular London publications\n",
    "            \"pros\": [\"Tangible format\", \"Targeted reach for specific audiences\", \"Longer shelf life\"],\n",
    "            \"cons\": [\"Declining readership\", \"Long lead times\", \"Difficult to track effectiveness\"]\n",
    "        },\n",
    "        \"Out-of-Home Advertising (OOH)\": {\n",
    "            \"description\": \"Ads placed in public spaces, such as billboards, transit ads, street furniture, etc.\",\n",
    "            \"vendors\": [\"JCDecaux\", \"Global\", \"Clear Channel\", \"ES Digital\"], # Major OOH companies in London\n",
    "            \"pros\": [\"High visibility\", \"Constant exposure\", \"Geographically targeted\"],\n",
    "            \"cons\": [\"Difficult to measure effectiveness\", \"Limited messaging space\", \"Can be costly\"]\n",
    "        },\n",
    "        \"Direct Mail Marketing\": {\n",
    "            \"description\": \"Sending physical marketing materials, like postcards, flyers, catalogs, directly to potential customers.\",\n",
    "            \"vendors\": [\"Royal Mail MarketReach\", \"Printing companies\", \"Mailing houses\"], # More about service providers\n",
    "            \"pros\": [\"Tangible and personalized\", \"Can be highly targeted\"],\n",
    "            \"cons\": [\"High production and postage costs\", \"Often perceived as junk mail\"]\n",
    "        }\n",
    "    },\n",
    "    \"Emerging Advertising Channels\": {\n",
    "        \"Augmented Reality (AR) & Virtual Reality (VR) Advertising\": {\n",
    "            \"description\": \"Interactive and immersive ad experiences.\",\n",
    "            \"vendors\": [\"Snapchat\", \"Facebook (Spark AR)\", \"Zappar\", \"Blippar\"] # Platforms and AR development companies\n",
    "        },\n",
    "        \"Connected TV (CTV) Advertising\": {\n",
    "            \"description\": \"Targeted ads on streaming services accessed through internet-connected TVs.\",\n",
    "            \"vendors\": [\"Hulu\", \"Amazon Advertising\", \"Roku\", \"Samsung Ads\"]\n",
    "        },\n",
    "        \"Digital Audio Advertising\": {\n",
    "            \"description\": \"Ads on music streaming platforms, podcasts, and digital radio.\",\n",
    "            \"vendors\": [\"Spotify\", \"Apple Music\", \"Pandora\", \"Acast\"],\n",
    "        },\n",
    "        \"Programmatic Advertising\": {\n",
    "            \"description\": \"Using technology to automate the buying and selling of ad space in real-time.\",\n",
    "            \"vendors\": [\"Google Display & Video 360\", \"The Trade Desk\", \"Adobe Advertising Cloud\", \"Amazon DSP\"]\n",
    "        }\n",
    "    }\n",
    "}"
   ]
  },
  {
   "cell_type": "code",
   "execution_count": null,
   "metadata": {
    "id": "B7SjkhE9-ZhY"
   },
   "outputs": [],
   "source": [
    "# Write me the json in  OpenAPI 3.0 schema object for the below object.\n",
    "# Make all fields required.\n",
    "#  [{\n",
    "#    \"channel\" : \"text\",\n",
    "#    \"channel-video\": \"text\",\n",
    "#    \"channel-budget\": 1.5,\n",
    "#    \"channel-vendors\" : [\"text\"],\n",
    "#    \"channel-ranking\" : 1,\n",
    "#    \"channel-pros\" : [\"text\"],\n",
    "#    \"channel-cons\" : [\"text\"],\n",
    "#    \"explanation\" : \"text\"\n",
    "#  }]\n",
    "response_schema = {\n",
    "  \"type\": \"array\",\n",
    "  \"items\": {\n",
    "    \"type\": \"object\",\n",
    "    \"required\": [\n",
    "      \"channel\",\n",
    "      \"channel-video\",\n",
    "      \"channel-budget\",\n",
    "      \"channel-vendors\",\n",
    "      \"channel-ranking\",\n",
    "      \"channel-pros\",\n",
    "      \"channel-cons\",\n",
    "      \"explanation\"\n",
    "    ],\n",
    "    \"properties\": {\n",
    "      \"channel\": {\n",
    "        \"type\": \"string\"\n",
    "      },\n",
    "      \"channel-video\": {\n",
    "        \"type\": \"string\"\n",
    "      },\n",
    "      \"channel-budget\": {\n",
    "        \"type\": \"number\"\n",
    "      },\n",
    "      \"channel-vendors\": {\n",
    "        \"type\": \"array\",\n",
    "        \"items\": {\n",
    "          \"type\": \"string\"\n",
    "        }\n",
    "      },\n",
    "      \"channel-ranking\": {\n",
    "        \"type\": \"integer\"\n",
    "      },\n",
    "      \"channel-pros\": {\n",
    "        \"type\": \"array\",\n",
    "        \"items\": {\n",
    "          \"type\": \"string\"\n",
    "        }\n",
    "      },\n",
    "      \"channel-cons\": {\n",
    "        \"type\": \"array\",\n",
    "        \"items\": {\n",
    "          \"type\": \"string\"\n",
    "        }\n",
    "      },\n",
    "      \"explanation\": {\n",
    "        \"type\": \"string\"\n",
    "      }\n",
    "    }\n",
    "  }\n",
    "}\n",
    "\n",
    "prompt = f\"\"\"You are an expert at creating marketing campaigns.\n",
    "You work at Chocolate A.I. a company that sells chocolates, desserts and coffee based in Paris, France.\n",
    "I am providing you two videos, the full marketing campaign and a short video.\n",
    "I need you to recommend the top 3 channels to use for the new ad.\n",
    "I have a $4,000 budget, allocate the budget to the top 3 channels.\n",
    "You can use the full ad or the short.\n",
    "Make sure you explain why in the explaination field.\n",
    "\n",
    "Output the following JSON in OpenAPI 3.0 schema object:\n",
    "channel: the name of the channel\n",
    "channel-video: the name of video that the channel is targeted for\n",
    "channel-vendors: the names of the vendors that the channel is targeted for\n",
    "channel-ranking: the ranking of the channel.  Rank the channels starting at 1.  1 is the best channel.\n",
    "channel-pros: the pros of the channel\n",
    "channel-cons: the cons of the channel\n",
    "explanation: a brief explanation of the channel\n",
    "\n",
    "<AdvertisingChannels>\n",
    "{advertising_channels}\n",
    "</AdvertisingChannels>\n",
    "\"\"\"\n",
    "\n",
    "story_number = \"01\" # You can also do 02 or 03 for the other two videos\n",
    "\n",
    "multimodal_prompt_list = [\n",
    "    { \"text\": prompt },\n",
    "    { \"fileData\": {  \"mimeType\": \"video/mp4\", \"fileUri\": f\"gs://{storage_account}/chocolate-ai/Create-Campaign-Target-Channels/text-to-videos-{formatted_date}/story-{story_number}-full-video-with-audio-en-GB.mp4\" } },\n",
    "    { \"fileData\": {  \"mimeType\": \"video/mp4\", \"fileUri\": f\"gs://{storage_account}/chocolate-ai/Create-Campaign-Target-Channels/text-to-videos-{formatted_date}/youtube-short-extract-clip-story-{story_number}-final.mp4\" } },\n",
    "  ]\n",
    "\n",
    "channel_response = GeminiLLM_Multimodal(multimodal_prompt_list, response_schema=response_schema)"
   ]
  },
  {
   "cell_type": "code",
   "execution_count": null,
   "metadata": {
    "id": "S6lOsqEAEut6"
   },
   "outputs": [],
   "source": [
    "result = PrettyPrintJson(channel_response)\n",
    "print(result)"
   ]
  },
  {
   "cell_type": "markdown",
   "metadata": {
    "id": "ChSJ_L79idha"
   },
   "source": [
    "### <font color='#4285f4'>TimesFM</font>"
   ]
  },
  {
   "cell_type": "code",
   "execution_count": null,
   "metadata": {
    "id": "MjumAPYb-72q"
   },
   "outputs": [],
   "source": [
    "# import timesfm"
   ]
  },
  {
   "cell_type": "code",
   "execution_count": null,
   "metadata": {
    "id": "nPuzvAD8_A2V"
   },
   "outputs": [],
   "source": [
    "context_len = 512\n",
    "horizon_len = 128 # Predict next 128 days, this could be 128 without requiring compute (129 would be a step up).  This is more of the max horizon len.\n",
    "input_patch_len = 32\n",
    "output_patch_len = 128\n",
    "num_layers = 20\n",
    "model_dims = 1280\n",
    "timesfm_backend = \"cpu\" # cpu, gpu or cuda\n",
    "xreg_mode = \"xreg + timesfm\"\n",
    "\n",
    "# from jax._src import config\n",
    "# config.update(\"jax_platforms\", timesfm_backend)\n",
    "\n",
    "# model = timesfm.TimesFm(\n",
    "#     context_len=512,\n",
    "#     horizon_len=128, # Predict next {x} days, this could be 128 without requiring compute (129 would be a step up).  This is more of the max horizon len.\n",
    "#     input_patch_len=32,\n",
    "#     output_patch_len=128,\n",
    "#     num_layers=20,\n",
    "#     model_dims=1280,\n",
    "#     backend=timesfm_backend,\n",
    "# )\n",
    "\n",
    "# Load the model\n",
    "# This can produce \"ERROR:absl:For checkpoint version > 1.0, we require users to provide\", you can ignore that\n",
    "# model.load_from_checkpoint(repo_id=\"google/timesfm-1.0-200m\")"
   ]
  },
  {
   "cell_type": "markdown",
   "metadata": {
    "id": "9zkrm3uh-Ak8"
   },
   "source": [
    "### <font color='#4285f4'>Predict Campaign Sales</font>\n"
   ]
  },
  {
   "cell_type": "markdown",
   "metadata": {
    "id": "pQBQiWoktmQG"
   },
   "source": [
    "#### Our source data for TimesFM"
   ]
  },
  {
   "cell_type": "code",
   "execution_count": null,
   "metadata": {
    "id": "FuoPM5Tiorlz"
   },
   "outputs": [],
   "source": [
    "# These are from a spreadsheet that has for each campaign type the increase in sales\n",
    "# We will use TimesFM to find the patterns\n",
    "# We have ads that run indvidually, together and also adding more money does not necessary increase our returns (they plateau or the profit margin decreases)\n",
    "\n",
    "autonomous_taxi_cumulative_spend = [100,200,300,400,500,600,700,800,900,1000,1100,1200,1300,1400,1500,1600,1700,1800,1900,2000,0,0,0,0,0,0,0,0,0,0,0,0,0,0,0,0,0,0,0,0,0,0,0,0,0,0,0,0,0,0,0,0,0,0,0,0,0,0,0,0,0,0,0,0,0,0,100,200,300,400,500,600,700,800,900,1000,1100,1200,1300,1400,1500,1600,1700,1800,1900,2000,0,0,100,200,300,400,500,600,700,800,900,1000,1100,1200,1300,1400,1500,1600,1700,1800,1900,2000,0,0,0,0,0,0,0,0,0,0,0,0,0,0,0,0,0,0,0,0,0,0,0,0,200,400,600,800,1000,1200,1400,1600,1800,2000,0,0,0,0,0,0,0,0,0,0,0,0,0,0,0,0,0,0,0,0,0,0,0,0,0,0,200,400,600,800,1000,1200,1400,1600,1800,2000,0,0,500,1000,1500,2000,0,0,0,0,0,0,0,0,0,0,0,500,1000,1500,2000,0,0,0,0,0,0,0,500,1000,1500,2000,0,0,0,50,100,150,200,250,300,350,400,450,500,550,600,650,700,750,800,850,900,950,1000,1050,1100,1150,1200,1250,1300,1350,1400,1450,1500,1550,1600,1650,1700,1750,1800,1850,1900,1950,2000,0,0,0,0,0,0,0,0,0,0,0,0,0,0,0,0,0,0,0,0,0,0,0,0,0,0,0,0,0,0,0,0,0,0,0,0,0,0,0,0,0,0,0,0,0,0,0,0,0,0,0,0,0,0,0,0,0,0,0,0,0,0,0,0,0,0,0,0,0,0,0,0,0,0,0,0,0,0,0,0,0,0,0,50,100,150,200,250,300,350,400,450,500,550,600,650,700,750,800,850,900,950,1000,1050,1100,1150,1200,1250,1300,1350,1400,1450,1500,1550,1600,1650,1700,1750,1800,1850,1900,1950,2000,0,50,100,150,200,250,300,350,400,450,500,550,600,650,700,750,800,850,900,950,1000,1050,1100,1150,1200,1250,1300,1350,1400,1450,1500,1550,1600,1650,1700,1750,1800,1850,1900,1950,2000,0,0,0,0,0,0,0,0,0,0,0,0,0,0,0,0,0,0,0,0,0,0,0,0,0,0,0,0,0,0,0,0,0,0,0,0,0,0,0,0,0,0,50,100,150,200,250,300,350,400,450,500,550,600,650,700,750,800,850,900,950,1000,1050,1100,1150,1200,0,0,0,0,0]\n",
    "autonomous_taxi_campaign_day = [\"1\",\"2\",\"3\",\"4\",\"5\",\"6\",\"7\",\"8\",\"9\",\"10\",\"11\",\"12\",\"13\",\"14\",\"15\",\"16\",\"17\",\"18\",\"19\",\"20\",\"\",\"\",\"\",\"\",\"\",\"\",\"\",\"\",\"\",\"\",\"\",\"\",\"\",\"\",\"\",\"\",\"\",\"\",\"\",\"\",\"\",\"\",\"\",\"\",\"\",\"\",\"\",\"\",\"\",\"\",\"\",\"\",\"\",\"\",\"\",\"\",\"\",\"\",\"\",\"\",\"\",\"\",\"\",\"\",\"\",\"\",\"1\",\"2\",\"3\",\"4\",\"5\",\"6\",\"7\",\"8\",\"9\",\"10\",\"11\",\"12\",\"13\",\"14\",\"15\",\"16\",\"17\",\"18\",\"19\",\"20\",\"\",\"\",\"1\",\"2\",\"3\",\"4\",\"5\",\"6\",\"7\",\"8\",\"9\",\"10\",\"11\",\"12\",\"13\",\"14\",\"15\",\"16\",\"17\",\"18\",\"19\",\"20\",\"\",\"\",\"\",\"\",\"\",\"\",\"\",\"\",\"\",\"\",\"\",\"\",\"\",\"\",\"\",\"\",\"\",\"\",\"\",\"\",\"\",\"\",\"\",\"\",\"1\",\"2\",\"3\",\"4\",\"5\",\"6\",\"7\",\"8\",\"9\",\"10\",\"\",\"\",\"\",\"\",\"\",\"\",\"\",\"\",\"\",\"\",\"\",\"\",\"\",\"\",\"\",\"\",\"\",\"\",\"\",\"\",\"\",\"\",\"\",\"\",\"\",\"\",\"1\",\"2\",\"3\",\"4\",\"5\",\"6\",\"7\",\"8\",\"9\",\"10\",\"\",\"\",\"1\",\"2\",\"3\",\"4\",\"\",\"\",\"\",\"\",\"\",\"\",\"\",\"\",\"\",\"\",\"\",\"1\",\"2\",\"3\",\"4\",\"\",\"\",\"\",\"\",\"\",\"\",\"\",\"1\",\"2\",\"3\",\"4\",\"\",\"\",\"\",\"1\",\"2\",\"3\",\"4\",\"5\",\"6\",\"7\",\"8\",\"9\",\"10\",\"11\",\"12\",\"13\",\"14\",\"15\",\"16\",\"17\",\"18\",\"19\",\"20\",\"21\",\"22\",\"23\",\"24\",\"25\",\"26\",\"27\",\"28\",\"29\",\"30\",\"31\",\"32\",\"33\",\"34\",\"35\",\"36\",\"37\",\"38\",\"39\",\"40\",\"\",\"\",\"\",\"\",\"\",\"\",\"\",\"\",\"\",\"\",\"\",\"\",\"\",\"\",\"\",\"\",\"\",\"\",\"\",\"\",\"\",\"\",\"\",\"\",\"\",\"\",\"\",\"\",\"\",\"\",\"\",\"\",\"\",\"\",\"\",\"\",\"\",\"\",\"\",\"\",\"\",\"\",\"\",\"\",\"\",\"\",\"\",\"\",\"\",\"\",\"\",\"\",\"\",\"\",\"\",\"\",\"\",\"\",\"\",\"\",\"\",\"\",\"\",\"\",\"\",\"\",\"\",\"\",\"\",\"\",\"\",\"\",\"\",\"\",\"\",\"\",\"\",\"\",\"\",\"\",\"\",\"\",\"\",\"1\",\"2\",\"3\",\"4\",\"5\",\"6\",\"7\",\"8\",\"9\",\"10\",\"11\",\"12\",\"13\",\"14\",\"15\",\"16\",\"17\",\"18\",\"19\",\"20\",\"21\",\"22\",\"23\",\"24\",\"25\",\"26\",\"27\",\"28\",\"29\",\"30\",\"31\",\"32\",\"33\",\"34\",\"35\",\"36\",\"37\",\"38\",\"39\",\"40\",\"\",\"1\",\"2\",\"3\",\"4\",\"5\",\"6\",\"7\",\"8\",\"9\",\"10\",\"11\",\"12\",\"13\",\"14\",\"15\",\"16\",\"17\",\"18\",\"19\",\"20\",\"21\",\"22\",\"23\",\"24\",\"25\",\"26\",\"27\",\"28\",\"29\",\"30\",\"31\",\"32\",\"33\",\"34\",\"35\",\"36\",\"37\",\"38\",\"39\",\"40\",\"\",\"\",\"\",\"\",\"\",\"\",\"\",\"\",\"\",\"\",\"\",\"\",\"\",\"\",\"\",\"\",\"\",\"\",\"\",\"\",\"\",\"\",\"\",\"\",\"\",\"\",\"\",\"\",\"\",\"\",\"\",\"\",\"\",\"\",\"\",\"\",\"\",\"\",\"\",\"\",\"\",\"\",\"1\",\"2\",\"3\",\"4\",\"5\",\"6\",\"7\",\"8\",\"9\",\"10\",\"11\",\"12\",\"13\",\"14\",\"15\",\"16\",\"17\",\"18\",\"19\",\"20\",\"21\",\"22\",\"23\",\"24\",\"\",\"\",\"\",\"\",\"\"]\n",
    "youtube_short_cumulative_spend = [0,0,0,0,0,0,0,0,0,0,0,0,0,0,0,0,0,0,0,0,0,0,100,200,300,400,500,600,700,800,900,1000,1100,1200,1300,1400,1500,1600,1700,1800,1900,2000,0,0,0,0,0,0,0,0,0,0,0,0,0,0,0,0,0,0,0,0,0,0,0,0,100,200,300,400,500,600,700,800,900,1000,1100,1200,1300,1400,1500,1600,1700,1800,1900,2000,0,0,0,0,0,0,0,0,0,0,0,0,0,0,0,0,0,0,0,0,0,0,0,0,100,200,300,400,500,600,700,800,900,1000,1100,1200,1300,1400,1500,1600,1700,1800,1900,2000,0,0,0,0,0,0,0,0,0,0,0,0,0,0,200,400,600,800,1000,1200,1400,1600,1800,2000,0,0,0,0,0,0,0,0,0,0,0,0,0,0,200,400,600,800,1000,1200,1400,1600,1800,2000,0,0,0,0,0,0,0,500,1000,1500,2000,0,0,0,0,0,0,500,1000,1500,2000,0,0,500,1000,1500,2000,0,0,0,0,0,0,0,0,0,0,0,0,0,0,0,0,0,0,0,0,0,0,0,0,0,0,0,0,0,0,0,0,0,0,0,0,0,0,0,0,0,0,0,0,0,0,0,0,0,50,100,150,200,250,300,350,400,450,500,550,600,650,700,750,800,850,900,950,1000,1050,1100,1150,1200,1250,1300,1350,1400,1450,1500,1550,1600,1650,1700,1750,1800,1850,1900,1950,2000,0,0,0,0,0,0,0,0,0,0,0,0,0,0,0,0,0,0,0,0,0,0,0,0,0,0,0,0,0,0,0,0,0,0,0,0,0,0,0,0,0,0,50,100,150,200,250,300,350,400,450,500,550,600,650,700,750,800,850,900,950,1000,1050,1100,1150,1200,1250,1300,1350,1400,1450,1500,1550,1600,1650,1700,1750,1800,1850,1900,1950,2000,0,0,0,0,0,0,0,0,0,0,0,0,0,0,0,0,0,0,0,0,0,0,0,0,0,0,0,0,0,0,0,0,0,0,0,0,0,0,0,0,0,0,50,100,150,200,250,300,350,400,450,500,550,600,650,700,750,800,850,900,950,1000,1050,1100,1150,1200,1250,1300,1350,1400,1450,1500,1550,1600,1650,1700,1750,1800,1850,1900,1950,2000,0,50,100,150,200,250,300,350,400,450,500,550,600,650,700,750,800,850,900,950,1000,1050,1100,1150,1200,0,0,0,0,0]\n",
    "youtube_short_campaign_day = [\"\",\"\",\"\",\"\",\"\",\"\",\"\",\"\",\"\",\"\",\"\",\"\",\"\",\"\",\"\",\"\",\"\",\"\",\"\",\"\",\"\",\"\",\"1\",\"2\",\"3\",\"4\",\"5\",\"6\",\"7\",\"8\",\"9\",\"10\",\"11\",\"12\",\"13\",\"14\",\"15\",\"16\",\"17\",\"18\",\"19\",\"20\",\"\",\"\",\"\",\"\",\"\",\"\",\"\",\"\",\"\",\"\",\"\",\"\",\"\",\"\",\"\",\"\",\"\",\"\",\"\",\"\",\"\",\"\",\"\",\"\",\"1\",\"2\",\"3\",\"4\",\"5\",\"6\",\"7\",\"8\",\"9\",\"10\",\"11\",\"12\",\"13\",\"14\",\"15\",\"16\",\"17\",\"18\",\"19\",\"20\",\"\",\"\",\"\",\"\",\"\",\"\",\"\",\"\",\"\",\"\",\"\",\"\",\"\",\"\",\"\",\"\",\"\",\"\",\"\",\"\",\"\",\"\",\"\",\"\",\"1\",\"2\",\"3\",\"4\",\"5\",\"6\",\"7\",\"8\",\"9\",\"10\",\"11\",\"12\",\"13\",\"14\",\"15\",\"16\",\"17\",\"18\",\"19\",\"20\",\"\",\"\",\"\",\"\",\"\",\"\",\"\",\"\",\"\",\"\",\"\",\"\",\"\",\"\",\"1\",\"2\",\"3\",\"4\",\"5\",\"6\",\"7\",\"8\",\"9\",\"10\",\"\",\"\",\"\",\"\",\"\",\"\",\"\",\"\",\"\",\"\",\"\",\"\",\"\",\"\",\"1\",\"2\",\"3\",\"4\",\"5\",\"6\",\"7\",\"8\",\"9\",\"10\",\"\",\"\",\"\",\"\",\"\",\"\",\"\",\"1\",\"2\",\"3\",\"4\",\"\",\"\",\"\",\"\",\"\",\"\",\"1\",\"2\",\"3\",\"4\",\"\",\"\",\"1\",\"2\",\"3\",\"4\",\"\",\"\",\"\",\"\",\"\",\"\",\"\",\"\",\"\",\"\",\"\",\"\",\"\",\"\",\"\",\"\",\"\",\"\",\"\",\"\",\"\",\"\",\"\",\"\",\"\",\"\",\"\",\"\",\"\",\"\",\"\",\"\",\"\",\"\",\"\",\"\",\"\",\"\",\"\",\"\",\"\",\"\",\"\",\"\",\"\",\"\",\"\",\"\",\"\",\"1\",\"2\",\"3\",\"4\",\"5\",\"6\",\"7\",\"8\",\"9\",\"10\",\"11\",\"12\",\"13\",\"14\",\"15\",\"16\",\"17\",\"18\",\"19\",\"20\",\"21\",\"22\",\"23\",\"24\",\"25\",\"26\",\"27\",\"28\",\"29\",\"30\",\"31\",\"32\",\"33\",\"34\",\"35\",\"36\",\"37\",\"38\",\"39\",\"40\",\"\",\"\",\"\",\"\",\"\",\"\",\"\",\"\",\"\",\"\",\"\",\"\",\"\",\"\",\"\",\"\",\"\",\"\",\"\",\"\",\"\",\"\",\"\",\"\",\"\",\"\",\"\",\"\",\"\",\"\",\"\",\"\",\"\",\"\",\"\",\"\",\"\",\"\",\"\",\"\",\"\",\"\",\"1\",\"2\",\"3\",\"4\",\"5\",\"6\",\"7\",\"8\",\"9\",\"10\",\"11\",\"12\",\"13\",\"14\",\"15\",\"16\",\"17\",\"18\",\"19\",\"20\",\"21\",\"22\",\"23\",\"24\",\"25\",\"26\",\"27\",\"28\",\"29\",\"30\",\"31\",\"32\",\"33\",\"34\",\"35\",\"36\",\"37\",\"38\",\"39\",\"40\",\"\",\"\",\"\",\"\",\"\",\"\",\"\",\"\",\"\",\"\",\"\",\"\",\"\",\"\",\"\",\"\",\"\",\"\",\"\",\"\",\"\",\"\",\"\",\"\",\"\",\"\",\"\",\"\",\"\",\"\",\"\",\"\",\"\",\"\",\"\",\"\",\"\",\"\",\"\",\"\",\"\",\"\",\"1\",\"2\",\"3\",\"4\",\"5\",\"6\",\"7\",\"8\",\"9\",\"10\",\"11\",\"12\",\"13\",\"14\",\"15\",\"16\",\"17\",\"18\",\"19\",\"20\",\"21\",\"22\",\"23\",\"24\",\"25\",\"26\",\"27\",\"28\",\"29\",\"30\",\"31\",\"32\",\"33\",\"34\",\"35\",\"36\",\"37\",\"38\",\"39\",\"40\",\"\",\"1\",\"2\",\"3\",\"4\",\"5\",\"6\",\"7\",\"8\",\"9\",\"10\",\"11\",\"12\",\"13\",\"14\",\"15\",\"16\",\"17\",\"18\",\"19\",\"20\",\"21\",\"22\",\"23\",\"24\",\"\",\"\",\"\",\"\",\"\"]\n",
    "google_mobile_ads_cumulative_spend = [0,0,0,0,0,0,0,0,0,0,0,0,0,0,0,0,0,0,0,0,0,0,0,0,0,0,0,0,0,0,0,0,0,0,0,0,0,0,0,0,0,0,0,0,100,200,300,400,500,600,700,800,900,1000,1100,1200,1300,1400,1500,1600,1700,1800,1900,2000,0,0,0,0,0,0,0,0,0,0,0,0,0,0,0,0,0,0,0,0,0,0,0,0,100,200,300,400,500,600,700,800,900,1000,1100,1200,1300,1400,1500,1600,1700,1800,1900,2000,0,0,100,200,300,400,500,600,700,800,900,1000,1100,1200,1300,1400,1500,1600,1700,1800,1900,2000,0,0,0,0,0,0,0,0,0,0,0,0,0,0,0,0,0,0,0,0,0,0,0,0,0,0,200,400,600,800,1000,1200,1400,1600,1800,2000,0,0,200,400,600,800,1000,1200,1400,1600,1800,2000,0,0,0,0,0,0,0,0,0,0,0,0,500,1000,1500,2000,0,0,0,0,0,0,0,500,1000,1500,2000,0,500,1000,1500,2000,0,0,0,0,0,0,0,0,0,0,0,0,0,0,0,0,0,0,0,0,0,0,0,0,0,0,0,0,0,0,0,0,0,0,0,0,0,0,0,0,0,0,0,0,0,0,0,0,0,0,0,0,0,0,0,0,0,0,0,0,0,0,0,0,0,0,0,0,0,0,0,0,0,0,0,0,0,0,0,0,0,0,0,0,0,50,100,150,200,250,300,350,400,450,500,550,600,650,700,750,800,850,900,950,1000,1050,1100,1150,1200,1250,1300,1350,1400,1450,1500,1550,1600,1650,1700,1750,1800,1850,1900,1950,2000,0,50,100,150,200,250,300,350,400,450,500,550,600,650,700,750,800,850,900,950,1000,1050,1100,1150,1200,1250,1300,1350,1400,1450,1500,1550,1600,1650,1700,1750,1800,1850,1900,1950,2000,0,50,100,150,200,250,300,350,400,450,500,550,600,650,700,750,800,850,900,950,1000,1050,1100,1150,1200,1250,1300,1350,1400,1450,1500,1550,1600,1650,1700,1750,1800,1850,1900,1950,2000,0,50,100,150,200,250,300,350,400,450,500,550,600,650,700,750,800,850,900,950,1000,1050,1100,1150,1200,1250,1300,1350,1400,1450,1500,1550,1600,1650,1700,1750,1800,1850,1900,1950,2000,0,0,0,0,0,0,0,0,0,0,0,0,0,0,0,0,0,0,0,0,0,0,0,0,0,0,0,0,0,0]\n",
    "google_mobile_ads_campaign_day = [\"\",\"\",\"\",\"\",\"\",\"\",\"\",\"\",\"\",\"\",\"\",\"\",\"\",\"\",\"\",\"\",\"\",\"\",\"\",\"\",\"\",\"\",\"\",\"\",\"\",\"\",\"\",\"\",\"\",\"\",\"\",\"\",\"\",\"\",\"\",\"\",\"\",\"\",\"\",\"\",\"\",\"\",\"\",\"\",\"1\",\"2\",\"3\",\"4\",\"5\",\"6\",\"7\",\"8\",\"9\",\"10\",\"11\",\"12\",\"13\",\"14\",\"15\",\"16\",\"17\",\"18\",\"19\",\"20\",\"\",\"\",\"\",\"\",\"\",\"\",\"\",\"\",\"\",\"\",\"\",\"\",\"\",\"\",\"\",\"\",\"\",\"\",\"\",\"\",\"\",\"\",\"\",\"\",\"1\",\"2\",\"3\",\"4\",\"5\",\"6\",\"7\",\"8\",\"9\",\"10\",\"11\",\"12\",\"13\",\"14\",\"15\",\"16\",\"17\",\"18\",\"19\",\"20\",\"\",\"\",\"1\",\"2\",\"3\",\"4\",\"5\",\"6\",\"7\",\"8\",\"9\",\"10\",\"11\",\"12\",\"13\",\"14\",\"15\",\"16\",\"17\",\"18\",\"19\",\"20\",\"\",\"\",\"\",\"\",\"\",\"\",\"\",\"\",\"\",\"\",\"\",\"\",\"\",\"\",\"\",\"\",\"\",\"\",\"\",\"\",\"\",\"\",\"\",\"\",\"\",\"\",\"1\",\"2\",\"3\",\"4\",\"5\",\"6\",\"7\",\"8\",\"9\",\"10\",\"\",\"\",\"1\",\"2\",\"3\",\"4\",\"5\",\"6\",\"7\",\"8\",\"9\",\"10\",\"\",\"\",\"\",\"\",\"\",\"\",\"\",\"\",\"\",\"\",\"\",\"\",\"1\",\"2\",\"3\",\"4\",\"\",\"\",\"\",\"\",\"\",\"\",\"\",\"1\",\"2\",\"3\",\"4\",\"\",\"1\",\"2\",\"3\",\"4\",\"\",\"\",\"\",\"\",\"\",\"\",\"\",\"\",\"\",\"\",\"\",\"\",\"\",\"\",\"\",\"\",\"\",\"\",\"\",\"\",\"\",\"\",\"\",\"\",\"\",\"\",\"\",\"\",\"\",\"\",\"\",\"\",\"\",\"\",\"\",\"\",\"\",\"\",\"\",\"\",\"\",\"\",\"\",\"\",\"\",\"\",\"\",\"\",\"\",\"\",\"\",\"\",\"\",\"\",\"\",\"\",\"\",\"\",\"\",\"\",\"\",\"\",\"\",\"\",\"\",\"\",\"\",\"\",\"\",\"\",\"\",\"\",\"\",\"\",\"\",\"\",\"\",\"\",\"\",\"\",\"\",\"\",\"\",\"\",\"\",\"1\",\"2\",\"3\",\"4\",\"5\",\"6\",\"7\",\"8\",\"9\",\"10\",\"11\",\"12\",\"13\",\"14\",\"15\",\"16\",\"17\",\"18\",\"19\",\"20\",\"21\",\"22\",\"23\",\"24\",\"25\",\"26\",\"27\",\"28\",\"29\",\"30\",\"31\",\"32\",\"33\",\"34\",\"35\",\"36\",\"37\",\"38\",\"39\",\"40\",\"\",\"1\",\"2\",\"3\",\"4\",\"5\",\"6\",\"7\",\"8\",\"9\",\"10\",\"11\",\"12\",\"13\",\"14\",\"15\",\"16\",\"17\",\"18\",\"19\",\"20\",\"21\",\"22\",\"23\",\"24\",\"25\",\"26\",\"27\",\"28\",\"29\",\"30\",\"31\",\"32\",\"33\",\"34\",\"35\",\"36\",\"37\",\"38\",\"39\",\"40\",\"\",\"1\",\"2\",\"3\",\"4\",\"5\",\"6\",\"7\",\"8\",\"9\",\"10\",\"11\",\"12\",\"13\",\"14\",\"15\",\"16\",\"17\",\"18\",\"19\",\"20\",\"21\",\"22\",\"23\",\"24\",\"25\",\"26\",\"27\",\"28\",\"29\",\"30\",\"31\",\"32\",\"33\",\"34\",\"35\",\"36\",\"37\",\"38\",\"39\",\"40\",\"\",\"1\",\"2\",\"3\",\"4\",\"5\",\"6\",\"7\",\"8\",\"9\",\"10\",\"11\",\"12\",\"13\",\"14\",\"15\",\"16\",\"17\",\"18\",\"19\",\"20\",\"21\",\"22\",\"23\",\"24\",\"25\",\"26\",\"27\",\"28\",\"29\",\"30\",\"31\",\"32\",\"33\",\"34\",\"35\",\"36\",\"37\",\"38\",\"39\",\"40\",\"\",\"\",\"\",\"\",\"\",\"\",\"\",\"\",\"\",\"\",\"\",\"\",\"\",\"\",\"\",\"\",\"\",\"\",\"\",\"\",\"\",\"\",\"\",\"\",\"\",\"\",\"\",\"\",\"\",\"\"]\n",
    "\n",
    "sales_increase = [69.00,103.60,138.41,173.02,208.66,244.41,279.88,314.87,632.89,705.32,777.40,709.56,569.92,429.57,287.81,144.48,130.16,116.28,102.25,102.25,0.00,0.00,29.48,73.70,118.27,163.27,208.01,252.58,297.75,343.44,388.23,433.46,480.70,526.81,572.54,453.81,424.83,365.60,304.97,229.18,153.55,76.78,0.00,0.00,154.48,154.63,232.64,233.34,233.34,311.43,344.28,329.95,314.24,251.64,221.07,189.68,158.06,126.96,95.22,63.48,31.80,15.93,15.98,16.00,0.00,0.00,113.10,202.37,292.58,383.89,475.16,567.53,658.67,749.24,1171.47,1307.38,1442.66,1415.13,1303.78,1005.92,807.15,572.30,488.14,388.31,288.44,203.61,0.00,0.00,257.32,300.51,429.29,473.17,516.70,648.46,727.00,756.73,1135.27,1153.89,1209.95,1087.20,876.78,667.68,458.66,247.96,195.22,160.20,142.97,143.54,0.00,0.00,215.96,270.49,416.00,472.61,529.25,676.60,768.03,808.62,847.92,831.97,853.86,875.91,896.34,709.60,638.08,526.00,413.70,301.78,207.47,113.51,0.00,0.00,142.45,237.42,333.38,429.06,958.24,958.24,576.09,192.61,154.70,136.04,0.00,0.00,98.34,216.57,335.37,455.10,573.82,694.62,597.17,479.65,300.08,100.23,0.00,0.00,201.26,302.49,404.53,425.60,324.92,244.42,163.43,81.96,20.51,20.51,0.00,0.00,465.66,799.19,1132.45,1384.57,1985.86,2037.81,1432.85,803.11,508.75,276.12,0.00,0.00,320.84,1069.47,427.79,150.02,0.00,302.45,628.39,606.72,108.34,0.00,326.98,350.18,131.71,22.00,0.00,641.71,1751.59,1067.45,267.40,0.00,0.00,649.44,1012.80,765.99,135.72,0.00,682.65,1507.84,596.37,184.05,0.00,0.00,0.00,116.42,116.77,175.32,176.20,235.41,236.58,296.91,297.80,358.79,360.58,421.10,422.37,485.12,487.54,551.23,552.88,1110.19,1111.30,1239.72,1245.91,1371.88,1375.99,1252.15,1257.16,1009.75,1009.75,761.10,761.86,508.42,509.43,255.99,256.25,231.08,231.78,206.85,206.85,181.53,181.90,181.90,181.90,0.00,52.18,52.39,130.97,131.36,210.18,210.18,289.57,290.15,371.13,372.24,452.46,452.92,534.97,537.11,620.15,622.01,706.66,710.19,796.10,797.69,881.97,881.97,969.48,972.39,1056.79,1061.02,838.48,838.48,784.15,787.29,677.52,680.90,568.55,568.55,426.84,426.84,285.13,286.27,143.71,144.28,0.00,289.72,290.01,291.17,291.75,437.63,439.82,442.02,442.90,445.12,446.90,597.05,598.84,660.05,661.37,634.46,637.00,609.09,610.31,489.22,491.18,430.64,430.64,369.49,370.60,310.07,311.31,250.29,251.29,189.04,189.79,126.78,126.78,63.58,63.64,31.98,32.05,32.11,32.24,32.33,32.50,0.00,553.54,554.09,737.02,740.71,1091.81,1095.08,1283.98,1287.83,1474.75,1476.23,1834.00,1834.00,2094.73,2094.73,2253.50,2253.50,3086.83,3099.17,3241.87,3258.08,3477.71,3477.71,3356.68,3373.46,3069.64,3069.64,2383.86,2383.86,1898.74,1900.64,1338.83,1341.50,1097.67,1103.16,854.91,858.33,646.32,647.61,468.66,470.06,0.00,545.10,545.10,637.85,641.04,916.69,920.36,1017.45,1022.54,1115.50,1118.85,1404.15,1411.17,1582.09,1588.42,1648.44,1651.74,2468.12,2480.46,2521.14,2521.14,2635.73,2646.28,2384.95,2392.10,1938.76,1944.58,1485.27,1488.24,1021.32,1025.41,553.25,554.35,437.74,439.05,359.59,360.66,320.91,321.23,321.23,322.84,0.00,486.68,488.14,610.79,612.62,943.11,944.05,1072.52,1076.81,1204.66,1205.87,1538.52,1543.14,1758.67,1763.95,1853.49,1857.20,1941.62,1945.50,1910.82,1912.73,1959.15,1959.15,2005.74,2013.76,2060.72,2071.03,1646.12,1646.12,1477.26,1477.26,1216.57,1216.57,960.66,964.50,701.45,702.86,483.21,484.66,264.63,265.42,0.00,312.76,312.76,560.74,561.30,812.31,815.56,1070.08,1075.43,1331.11,1336.43,1593.07,1599.44,1859.99,1869.29,2136.95,2143.36,3344.59,3344.59,3728.88,3743.80,4127.04,4143.55,4056.39,4064.51,0.00,0.00,0.00,0.00,0.00]\n",
    "\n",
    "# NOTE: You cannot spend more than $2000 per a channel since that is all the modeling data has modeled.  If you do, you will see negative returns."
   ]
  },
  {
   "cell_type": "markdown",
   "metadata": {
    "id": "W3AaK2Qursxl"
   },
   "source": [
    "#### Scenario 1 - We spend $2000 on each campaign individually (run each campaign individually)"
   ]
  },
  {
   "cell_type": "code",
   "execution_count": null,
   "metadata": {
    "id": "hwIzCpiJpzR7"
   },
   "outputs": [],
   "source": [
    "# Scenario 1 - We spend $2000 on each campaign individually (run each campaign individually)\n",
    "\n",
    "# Scenarios\n",
    "# --> 1. We spend $2000 on each campaign individually (run each campaign individually)\n",
    "# 2. We spend $3000 on autonomous_taxi and youtube_shorts individually\n",
    "# 3. We spend $2000 on all 3 campaigns at the same time\n",
    "\n",
    "# We will run #1, but will run each campaign individually. We will have 3 array (a, b, c) = (autonomous_taxi, youtube_short, google_mobile_ads)\n",
    "scenario_1_a_autonomous_taxi_cumulative_spend = autonomous_taxi_cumulative_spend.copy()\n",
    "scenario_1_a_autonomous_taxi_campaign_day = autonomous_taxi_campaign_day.copy()\n",
    "scenario_1_a_youtube_short_cumulative_spend = youtube_short_cumulative_spend.copy()\n",
    "scenario_1_a_youtube_short_campaign_day = youtube_short_campaign_day.copy()\n",
    "scenario_1_a_google_mobile_ads_cumulative_spend = google_mobile_ads_cumulative_spend.copy()\n",
    "scenario_1_a_google_mobile_ads_campaign_day = google_mobile_ads_campaign_day.copy()\n",
    "scenario_1_a_sales_increase = sales_increase.copy()\n",
    "\n",
    "scenario_1_b_autonomous_taxi_cumulative_spend = autonomous_taxi_cumulative_spend.copy()\n",
    "scenario_1_b_autonomous_taxi_campaign_day = autonomous_taxi_campaign_day.copy()\n",
    "scenario_1_b_youtube_short_cumulative_spend = youtube_short_cumulative_spend.copy()\n",
    "scenario_1_b_youtube_short_campaign_day = youtube_short_campaign_day.copy()\n",
    "scenario_1_b_google_mobile_ads_cumulative_spend = google_mobile_ads_cumulative_spend.copy()\n",
    "scenario_1_b_google_mobile_ads_campaign_day = google_mobile_ads_campaign_day.copy()\n",
    "scenario_1_b_sales_increase = sales_increase.copy()\n",
    "\n",
    "scenario_1_c_autonomous_taxi_cumulative_spend = autonomous_taxi_cumulative_spend.copy()\n",
    "scenario_1_c_autonomous_taxi_campaign_day = autonomous_taxi_campaign_day.copy()\n",
    "scenario_1_c_youtube_short_cumulative_spend = youtube_short_cumulative_spend.copy()\n",
    "scenario_1_c_youtube_short_campaign_day = youtube_short_campaign_day.copy()\n",
    "scenario_1_c_google_mobile_ads_cumulative_spend = google_mobile_ads_cumulative_spend.copy()\n",
    "scenario_1_c_google_mobile_ads_campaign_day = google_mobile_ads_campaign_day.copy()\n",
    "scenario_1_c_sales_increase = sales_increase.copy()\n",
    "\n",
    "# We will spend $2000 on each so we will use $125 a day which is 2000/125 = 16 (so we need to add 16 array elements to our arrays)\n",
    "cumulative_amount = 0\n",
    "day = 0\n",
    "for i in range(16):\n",
    "  cumulative_amount += 125\n",
    "  day = day + 1\n",
    "  scenario_1_a_autonomous_taxi_cumulative_spend.append(cumulative_amount)\n",
    "  scenario_1_a_autonomous_taxi_campaign_day.append(str(day))\n",
    "  scenario_1_a_youtube_short_cumulative_spend.append(0)\n",
    "  scenario_1_a_youtube_short_campaign_day.append(\"\")\n",
    "  scenario_1_a_google_mobile_ads_cumulative_spend.append(0)\n",
    "  scenario_1_a_google_mobile_ads_campaign_day.append(\"\")\n",
    "\n",
    "  scenario_1_b_autonomous_taxi_cumulative_spend.append(0)\n",
    "  scenario_1_b_autonomous_taxi_campaign_day.append(\"\")\n",
    "  scenario_1_b_youtube_short_cumulative_spend.append(cumulative_amount)\n",
    "  scenario_1_b_youtube_short_campaign_day.append(str(day))\n",
    "  scenario_1_b_google_mobile_ads_cumulative_spend.append(0)\n",
    "  scenario_1_b_google_mobile_ads_campaign_day.append(\"\")\n",
    "\n",
    "  scenario_1_c_autonomous_taxi_cumulative_spend.append(0)\n",
    "  scenario_1_c_autonomous_taxi_campaign_day.append(\"\")\n",
    "  scenario_1_c_youtube_short_cumulative_spend.append(0)\n",
    "  scenario_1_c_youtube_short_campaign_day.append(\"\")\n",
    "  scenario_1_c_google_mobile_ads_cumulative_spend.append(cumulative_amount)\n",
    "  scenario_1_c_google_mobile_ads_campaign_day.append(str(day))\n"
   ]
  },
  {
   "cell_type": "code",
   "execution_count": null,
   "metadata": {
    "id": "S5i6CDZnsZrO"
   },
   "outputs": [],
   "source": [
    "# This is our sales increase data that we want to predict\n",
    "inputs = [scenario_1_a_sales_increase, scenario_1_b_sales_increase, scenario_1_c_sales_increase]\n",
    "\n",
    "# These are our categorical covariates (additional factors that we think might influence the thing we're trying to predict).\n",
    "# Here we consider the day of the campaign, how long has it been running, we do not want the model to treat this as an integer so we use a categorical covariate\n",
    "dynamic_categorical_covariates = {\n",
    "    \"autonomous_taxi_campaign_day\" : [scenario_1_a_autonomous_taxi_campaign_day, scenario_1_b_autonomous_taxi_campaign_day, scenario_1_c_autonomous_taxi_campaign_day],\n",
    "    \"youtube_short_campaign_day\" : [scenario_1_a_youtube_short_campaign_day, scenario_1_b_youtube_short_campaign_day ,scenario_1_c_youtube_short_campaign_day],\n",
    "    \"google_mobile_ads_campaign_day\" : [scenario_1_a_google_mobile_ads_campaign_day, scenario_1_b_google_mobile_ads_campaign_day ,scenario_1_c_google_mobile_ads_campaign_day],\n",
    "}\n",
    "\n",
    "# These are our numerical covariates (additional numeric factors, just like the categories, but numbers)\n",
    "# Here we consider the budget (cummlative spend) of our campaigns\n",
    "dynamic_numerical_covariates = {\n",
    "    \"autonomous_taxi_cumulative_spend\" : [scenario_1_a_autonomous_taxi_cumulative_spend, scenario_1_b_autonomous_taxi_cumulative_spend, scenario_1_c_autonomous_taxi_cumulative_spend],\n",
    "    \"youtube_short_cumulative_spend\" : [scenario_1_a_youtube_short_cumulative_spend, scenario_1_b_youtube_short_cumulative_spend ,scenario_1_c_youtube_short_cumulative_spend],\n",
    "    \"google_mobile_ads_cumulative_spend\" : [scenario_1_a_google_mobile_ads_cumulative_spend, scenario_1_b_google_mobile_ads_cumulative_spend ,scenario_1_c_google_mobile_ads_cumulative_spend],\n",
    "}\n",
    "\n",
    "# These are our static covariates (additional factors that we think are fixed)\n",
    "static_numerical_covariates = {\n",
    "}\n",
    "\n",
    "# These are our static categorical covariates (additional factors that we think are fixed)\n",
    "static_categorical_covariates = {\n",
    "}\n",
    "\n",
    "# frequency of each context time series. 0 for high frequency (default), 1 for medium, and 2 for low.\n",
    "frequency = [0, 0, 0]\n",
    "\n",
    "# scenario_1_model_forecast, scenario_1_xreg_forecast = model.forecast_with_covariates(\n",
    "#     inputs=inputs,\n",
    "#     dynamic_categorical_covariates=dynamic_categorical_covariates,\n",
    "#     dynamic_numerical_covariates=dynamic_numerical_covariates,\n",
    "#     static_numerical_covariates=static_numerical_covariates,\n",
    "#     static_categorical_covariates=static_categorical_covariates,\n",
    "#     freq=frequency,\n",
    "#     xreg_mode=\"xreg + timesfm\",              # default\n",
    "#     ridge=0.0,\n",
    "#     force_on_cpu=False,\n",
    "#     normalize_xreg_target_per_input=True,    # default\n",
    "# )"
   ]
  },
  {
   "cell_type": "code",
   "execution_count": null,
   "metadata": {
    "id": "hvc1MceHyPuH"
   },
   "outputs": [],
   "source": [
    "# Create the JSON payload to the Vertex Model Endpoint\n",
    "# You can have multiple array elements under \"instances\" and TimesFM will create a prediction for each\n",
    "# The array elements from above are placed in the payload\n",
    "payload = {\n",
    "  \"instances\": [\n",
    "    {\n",
    "        \"input\": inputs[0],\n",
    "        \"freq\": frequency[0],\n",
    "        \"horizon\": horizon_len,\n",
    "        \"dynamic_numerical_covariates\": {\n",
    "            \"autonomous_taxi_cumulative_spend\": dynamic_numerical_covariates[\"autonomous_taxi_cumulative_spend\"][0],\n",
    "            \"youtube_short_cumulative_spend\": dynamic_numerical_covariates[\"youtube_short_cumulative_spend\"][0],\n",
    "            \"google_mobile_ads_cumulative_spend\": dynamic_numerical_covariates[\"google_mobile_ads_cumulative_spend\"][0],\n",
    "        },\n",
    "        \"dynamic_categorical_covariates\": {\n",
    "            \"autonomous_taxi_campaign_day\": dynamic_categorical_covariates[\"autonomous_taxi_campaign_day\"][0],\n",
    "            \"youtube_short_campaign_day\": dynamic_categorical_covariates[\"youtube_short_campaign_day\"][0],\n",
    "            \"google_mobile_ads_campaign_day\": dynamic_categorical_covariates[\"google_mobile_ads_campaign_day\"][0],\n",
    "        },\n",
    "        \"static_numerical_covariates\": {\n",
    "        },\n",
    "        \"static_categorical_covariates\": {\n",
    "        },\n",
    "        \"xreg_kwargs\": {\n",
    "            \"xreg_mode\" : xreg_mode\n",
    "        }\n",
    "    },\n",
    "    {\n",
    "        \"input\": inputs[1],\n",
    "        \"freq\": frequency[1],\n",
    "        \"horizon\": horizon_len,\n",
    "        \"dynamic_numerical_covariates\": {\n",
    "            \"autonomous_taxi_cumulative_spend\": dynamic_numerical_covariates[\"autonomous_taxi_cumulative_spend\"][1],\n",
    "            \"youtube_short_cumulative_spend\": dynamic_numerical_covariates[\"youtube_short_cumulative_spend\"][1],\n",
    "            \"google_mobile_ads_cumulative_spend\": dynamic_numerical_covariates[\"google_mobile_ads_cumulative_spend\"][1],\n",
    "        },\n",
    "        \"dynamic_categorical_covariates\": {\n",
    "            \"autonomous_taxi_campaign_day\": dynamic_categorical_covariates[\"autonomous_taxi_campaign_day\"][1],\n",
    "            \"youtube_short_campaign_day\": dynamic_categorical_covariates[\"youtube_short_campaign_day\"][1],\n",
    "            \"google_mobile_ads_campaign_day\": dynamic_categorical_covariates[\"google_mobile_ads_campaign_day\"][1],\n",
    "        },\n",
    "        \"static_numerical_covariates\": {\n",
    "        },\n",
    "        \"static_categorical_covariates\": {\n",
    "        },\n",
    "        \"xreg_kwargs\": {\n",
    "            \"xreg_mode\" : xreg_mode\n",
    "        }\n",
    "    },\n",
    "    {\n",
    "        \"input\": inputs[2],\n",
    "        \"freq\": frequency[2],\n",
    "        \"horizon\": horizon_len,\n",
    "        \"dynamic_numerical_covariates\": {\n",
    "            \"autonomous_taxi_cumulative_spend\": dynamic_numerical_covariates[\"autonomous_taxi_cumulative_spend\"][2],\n",
    "            \"youtube_short_cumulative_spend\": dynamic_numerical_covariates[\"youtube_short_cumulative_spend\"][2],\n",
    "            \"google_mobile_ads_cumulative_spend\": dynamic_numerical_covariates[\"google_mobile_ads_cumulative_spend\"][2],\n",
    "        },\n",
    "        \"dynamic_categorical_covariates\": {\n",
    "            \"autonomous_taxi_campaign_day\": dynamic_categorical_covariates[\"autonomous_taxi_campaign_day\"][2],\n",
    "            \"youtube_short_campaign_day\": dynamic_categorical_covariates[\"youtube_short_campaign_day\"][2],\n",
    "            \"google_mobile_ads_campaign_day\": dynamic_categorical_covariates[\"google_mobile_ads_campaign_day\"][2],\n",
    "        },\n",
    "        \"static_numerical_covariates\": {\n",
    "        },\n",
    "        \"static_categorical_covariates\": {\n",
    "        },\n",
    "        \"xreg_kwargs\": {\n",
    "            \"xreg_mode\" : xreg_mode\n",
    "        }\n",
    "    },\n",
    "\n",
    "  ]\n",
    "}"
   ]
  },
  {
   "cell_type": "code",
   "execution_count": null,
   "metadata": {
    "id": "ZJo88DXIySV7"
   },
   "outputs": [],
   "source": [
    "# Get the project number in order to call teh endpoint\n",
    "project_number = getProjectNumber(project_id)"
   ]
  },
  {
   "cell_type": "code",
   "execution_count": null,
   "metadata": {
    "id": "21Zk3JkOyTyC"
   },
   "outputs": [],
   "source": [
    "# Calls TimeFM to make a prediction\n",
    "times_fm_inference = timesFMInference(project_number, endpoint_id, payload)"
   ]
  },
  {
   "cell_type": "code",
   "execution_count": null,
   "metadata": {
    "id": "H6-bFFydyVU8"
   },
   "outputs": [],
   "source": [
    "# Create an array of forecasted elements\n",
    "scenario_1_model_forecast = [times_fm_inference[\"predictions\"][0][\"point_forecast\"],\n",
    "                            times_fm_inference[\"predictions\"][1][\"point_forecast\"],\n",
    "                            times_fm_inference[\"predictions\"][2][\"point_forecast\"]]"
   ]
  },
  {
   "cell_type": "code",
   "execution_count": null,
   "metadata": {
    "id": "88mJP93GtPMR"
   },
   "outputs": [],
   "source": [
    "# Show the predicted values for our campaign, notice how the amounts increase then sort of level off or decrease\n",
    "\n",
    "print(\"$2000 on autonomous_taxi:\", scenario_1_model_forecast[0])\n",
    "print()\n",
    "print(\"$2000 on youtube_short:\", scenario_1_model_forecast[1])\n",
    "print()\n",
    "print(\"$2000 on google_mobile_ads:\", scenario_1_model_forecast[2])\n",
    "print()"
   ]
  },
  {
   "cell_type": "code",
   "execution_count": null,
   "metadata": {
    "id": "qoPfbBi6LR33"
   },
   "outputs": [],
   "source": [
    "scenario_1_sum_forecast_autonomous_taxi = sum(scenario_1_model_forecast[0])\n",
    "scenario_1_sum_forecast_youtube_short = sum(scenario_1_model_forecast[1])\n",
    "scenario_1_sum_forecast_google_mobile_ads = sum(scenario_1_model_forecast[2])\n",
    "\n",
    "print(\"Sum of forecast_autonomous_taxi:\", int(scenario_1_sum_forecast_autonomous_taxi))\n",
    "print(\"Sum of forecast_youtube_short:\", int(scenario_1_sum_forecast_youtube_short))\n",
    "print(\"Sum of forecast_google_mobile_ads:\", int(scenario_1_sum_forecast_google_mobile_ads))\n",
    "\n",
    "print()\n",
    "print(\"Profit of forecast_autonomous_taxi:\", int(scenario_1_sum_forecast_autonomous_taxi - 2000))\n",
    "print(\"Profit of forecast_youtube_short:\", int(scenario_1_sum_forecast_youtube_short - 2000))\n",
    "print(\"Profit of forecast_google_mobile_ads:\", int(scenario_1_sum_forecast_google_mobile_ads - 2000))\n",
    "\n",
    "print()\n",
    "print(\"Total Profit: \", int(scenario_1_sum_forecast_autonomous_taxi + scenario_1_sum_forecast_youtube_short + scenario_1_sum_forecast_google_mobile_ads - 6000))"
   ]
  },
  {
   "cell_type": "code",
   "execution_count": null,
   "metadata": {
    "id": "VKG7a_lju2QX"
   },
   "outputs": [],
   "source": [
    "import matplotlib.pyplot as plt\n",
    "\n",
    "# Subtract out the cost of the campaign $125 per day\n",
    "scenario_1_forecast_autonomous_taxi = []\n",
    "for item in scenario_1_model_forecast[0]:\n",
    "  scenario_1_forecast_autonomous_taxi.append(item - 125)\n",
    "\n",
    "scenario_1_forecast_youtube_short = []\n",
    "for item in scenario_1_model_forecast[1]:\n",
    "  scenario_1_forecast_youtube_short.append(item - 125)\n",
    "\n",
    "scenario_1_forecast_google_mobile_ads = []\n",
    "for item in scenario_1_model_forecast[2]:\n",
    "  scenario_1_forecast_google_mobile_ads.append(item - 125)\n",
    "\n",
    "scenario_1_timeline = list(range(1, 17))\n",
    "\n",
    "plt.figure(figsize=(14, 6))\n",
    "\n",
    "# forecast_autonomous_taxi\n",
    "plt.plot(scenario_1_timeline, scenario_1_forecast_autonomous_taxi, label='Autonomous Taxi', marker='s', linestyle='-.', color='#{:02x}{:02x}{:02x}'.format(92, 200, 243))\n",
    "\n",
    "# forecast_youtube_short\n",
    "plt.plot(scenario_1_timeline, scenario_1_forecast_youtube_short, label='Youtube Short', marker='^', linestyle='--', color='#{:02x}{:02x}{:02x}'.format(53, 106, 228))\n",
    "\n",
    "# forecast_google_mobile_ads\n",
    "plt.plot(scenario_1_timeline, scenario_1_forecast_google_mobile_ads, label='Google Mobile Ads', marker='x', linestyle='--', color='#{:02x}{:02x}{:02x}'.format(144, 173, 59))\n",
    "\n",
    "# Set labels and title\n",
    "plt.xlabel('Campaign Day')\n",
    "plt.ylabel('Predicted Sales Increase')\n",
    "plt.title('Predicted Sales Increases (Profit) - $2000 on each Channel')\n",
    "\n",
    "# Legend\n",
    "plt.legend()\n",
    "\n",
    "# Show all values\n",
    "plt.xticks(scenario_1_timeline)\n",
    "\n",
    "# Show the plot\n",
    "plt.tight_layout()\n",
    "plt.show()"
   ]
  },
  {
   "cell_type": "markdown",
   "metadata": {
    "id": "INwm-LkFrz9i"
   },
   "source": [
    "#### Scenerio 2 - We spend $3000 on autonomous_taxi and youtube_shorts individually"
   ]
  },
  {
   "cell_type": "code",
   "execution_count": null,
   "metadata": {
    "id": "bupCIs0PrzrU"
   },
   "outputs": [],
   "source": [
    "# Scenario 2 - We spend $3000 on autonomous_taxi and youtube_shorts individually\n",
    "\n",
    "# Scenarios\n",
    "# 1. We spend $2000 on each campaign individually (run each campaign individually)\n",
    "# --> 2. We spend $3000 on autonomous_taxi and youtube_shorts individually\n",
    "# 3. We spend $2000 on all 3 campaigns at the same time\n",
    "\n",
    "# We will run #2, but will run each campaign individually. We will have 2 array (a, b) = (autonomous_taxi, youtube_short)\n",
    "scenario_2_a_autonomous_taxi_cumulative_spend = autonomous_taxi_cumulative_spend.copy()\n",
    "scenario_2_a_autonomous_taxi_campaign_day = autonomous_taxi_campaign_day.copy()\n",
    "scenario_2_a_youtube_short_cumulative_spend = youtube_short_cumulative_spend.copy()\n",
    "scenario_2_a_youtube_short_campaign_day = youtube_short_campaign_day.copy()\n",
    "scenario_2_a_sales_increase = sales_increase.copy()\n",
    "\n",
    "scenario_2_b_autonomous_taxi_cumulative_spend = autonomous_taxi_cumulative_spend.copy()\n",
    "scenario_2_b_autonomous_taxi_campaign_day = autonomous_taxi_campaign_day.copy()\n",
    "scenario_2_b_youtube_short_cumulative_spend = youtube_short_cumulative_spend.copy()\n",
    "scenario_2_b_youtube_short_campaign_day = youtube_short_campaign_day.copy()\n",
    "scenario_2_b_sales_increase = sales_increase.copy()\n",
    "\n",
    "# We will spend $3000 on each so we will use $200 a day which is $3000/200 = 15 (so we need to add 10 array elements to our arrays)\n",
    "cumulative_amount = 0\n",
    "day = 0\n",
    "for i in range(15):\n",
    "  cumulative_amount += 200\n",
    "  day = day + 1\n",
    "  scenario_2_a_autonomous_taxi_cumulative_spend.append(cumulative_amount)\n",
    "  scenario_2_a_autonomous_taxi_campaign_day.append(str(day))\n",
    "  scenario_2_a_youtube_short_cumulative_spend.append(0)\n",
    "  scenario_2_a_youtube_short_campaign_day.append(\"\")\n",
    "\n",
    "  scenario_2_b_autonomous_taxi_cumulative_spend.append(0)\n",
    "  scenario_2_b_autonomous_taxi_campaign_day.append(\"\")\n",
    "  scenario_2_b_youtube_short_cumulative_spend.append(cumulative_amount)\n",
    "  scenario_2_b_youtube_short_campaign_day.append(str(day))"
   ]
  },
  {
   "cell_type": "code",
   "execution_count": null,
   "metadata": {
    "id": "I20vBjmNtyc0"
   },
   "outputs": [],
   "source": [
    "# This is our sales increase data that we want to predict\n",
    "inputs = [scenario_2_a_sales_increase, scenario_2_b_sales_increase]\n",
    "\n",
    "# These are our categorical covariates (additional factors that we think might influence the thing we're trying to predict).\n",
    "# Here we consider the day of the campaign, how long has it been running, we do not want the model to treat this as an integer so we use a categorical covariate\n",
    "dynamic_categorical_covariates = {\n",
    "    \"autonomous_taxi_campaign_day\" : [scenario_2_a_autonomous_taxi_campaign_day, scenario_2_b_autonomous_taxi_campaign_day],\n",
    "    \"youtube_short_campaign_day\" : [scenario_2_a_youtube_short_campaign_day, scenario_2_b_youtube_short_campaign_day],\n",
    "}\n",
    "\n",
    "# These are our numerical covariates (additional numeric factors, just like the categories, but numbers)\n",
    "# Here we consider the budget (cummlative spend) of our campaigns\n",
    "dynamic_numerical_covariates = {\n",
    "    \"autonomous_taxi_cumulative_spend\" : [scenario_2_a_autonomous_taxi_cumulative_spend, scenario_2_b_autonomous_taxi_cumulative_spend],\n",
    "    \"youtube_short_cumulative_spend\" : [scenario_2_a_youtube_short_cumulative_spend, scenario_2_b_youtube_short_cumulative_spend],\n",
    "}\n",
    "\n",
    "# These are our static covariates (additional factors that we think are fixed)\n",
    "static_numerical_covariates = {\n",
    "}\n",
    "\n",
    "# These are our static categorical covariates (additional factors that we think are fixed)\n",
    "static_categorical_covariates = {\n",
    "}\n",
    "\n",
    "# frequency of each context time series. 0 for high frequency (default), 1 for medium, and 2 for low.\n",
    "frequency = [0, 0]\n",
    "\n",
    "# scenario_2_model_forecast, scenario_2_xreg_forecast = model.forecast_with_covariates(\n",
    "#     inputs=inputs,\n",
    "#     dynamic_categorical_covariates=dynamic_categorical_covariates,\n",
    "#     dynamic_numerical_covariates=dynamic_numerical_covariates,\n",
    "#     static_numerical_covariates=static_numerical_covariates,\n",
    "#     static_categorical_covariates=static_categorical_covariates,\n",
    "#     freq=frequency,\n",
    "#     xreg_mode=\"xreg + timesfm\",              # default\n",
    "#     ridge=0.0,\n",
    "#     force_on_cpu=False,\n",
    "#     normalize_xreg_target_per_input=True,    # default\n",
    "# )"
   ]
  },
  {
   "cell_type": "code",
   "execution_count": null,
   "metadata": {
    "id": "5hcfyEW6D0Mz"
   },
   "outputs": [],
   "source": [
    "# Create the JSON payload to the Vertex Model Endpoint\n",
    "# You can have multiple array elements under \"instances\" and TimesFM will create a prediction for each\n",
    "# The array elements from above are placed in the payload\n",
    "payload = {\n",
    "  \"instances\": [\n",
    "    {\n",
    "        \"input\": inputs[0],\n",
    "        \"freq\": frequency[0],\n",
    "        \"horizon\": horizon_len,\n",
    "        \"dynamic_numerical_covariates\": {\n",
    "            \"autonomous_taxi_cumulative_spend\": dynamic_numerical_covariates[\"autonomous_taxi_cumulative_spend\"][0],\n",
    "            \"youtube_short_cumulative_spend\": dynamic_numerical_covariates[\"youtube_short_cumulative_spend\"][0]\n",
    "        },\n",
    "        \"dynamic_categorical_covariates\": {\n",
    "            \"autonomous_taxi_campaign_day\": dynamic_categorical_covariates[\"autonomous_taxi_campaign_day\"][0],\n",
    "            \"youtube_short_campaign_day\": dynamic_categorical_covariates[\"youtube_short_campaign_day\"][0]\n",
    "        },\n",
    "        \"static_numerical_covariates\": {\n",
    "        },\n",
    "        \"static_categorical_covariates\": {\n",
    "        },\n",
    "        \"xreg_kwargs\": {\n",
    "            \"xreg_mode\" : xreg_mode\n",
    "        }\n",
    "    },\n",
    "    {\n",
    "        \"input\": inputs[1],\n",
    "        \"freq\": frequency[1],\n",
    "        \"horizon\": horizon_len,\n",
    "        \"dynamic_numerical_covariates\": {\n",
    "            \"autonomous_taxi_cumulative_spend\": dynamic_numerical_covariates[\"autonomous_taxi_cumulative_spend\"][1],\n",
    "            \"youtube_short_cumulative_spend\": dynamic_numerical_covariates[\"youtube_short_cumulative_spend\"][1]\n",
    "        },\n",
    "        \"dynamic_categorical_covariates\": {\n",
    "            \"autonomous_taxi_campaign_day\": dynamic_categorical_covariates[\"autonomous_taxi_campaign_day\"][1],\n",
    "            \"youtube_short_campaign_day\": dynamic_categorical_covariates[\"youtube_short_campaign_day\"][1]\n",
    "        },\n",
    "        \"static_numerical_covariates\": {\n",
    "        },\n",
    "        \"static_categorical_covariates\": {\n",
    "        },\n",
    "        \"xreg_kwargs\": {\n",
    "            \"xreg_mode\" : xreg_mode\n",
    "        }\n",
    "    }\n",
    "  ]\n",
    "}"
   ]
  },
  {
   "cell_type": "code",
   "execution_count": null,
   "metadata": {
    "id": "D3PLVfzUETDs"
   },
   "outputs": [],
   "source": [
    "# Calls TimeFM to make a prediction\n",
    "times_fm_inference = timesFMInference(project_number, endpoint_id, payload)"
   ]
  },
  {
   "cell_type": "code",
   "execution_count": null,
   "metadata": {
    "id": "JBJwbIPEES-8"
   },
   "outputs": [],
   "source": [
    "# Create an array of forecasted elements\n",
    "scenario_2_model_forecast = [times_fm_inference[\"predictions\"][0][\"point_forecast\"],\n",
    "                            times_fm_inference[\"predictions\"][1][\"point_forecast\"]]"
   ]
  },
  {
   "cell_type": "code",
   "execution_count": null,
   "metadata": {
    "id": "x3ClhEjDtyZs"
   },
   "outputs": [],
   "source": [
    "# Show the predicted values for our campaign, notice how the amounts increase then sort of level off or decrease\n",
    "\n",
    "print(\"$3000 on autonomous_taxi:\", scenario_2_model_forecast[0])\n",
    "print()\n",
    "print(\"$3000 on youtube_short:\", scenario_2_model_forecast[1])\n",
    "print()"
   ]
  },
  {
   "cell_type": "code",
   "execution_count": null,
   "metadata": {
    "id": "INJhA35GtyWO"
   },
   "outputs": [],
   "source": [
    "scenario_2_sum_forecast_autonomous_taxi = sum(scenario_2_model_forecast[0])\n",
    "scenario_2_sum_forecast_youtube_short = sum(scenario_2_model_forecast[1])\n",
    "\n",
    "print(\"Sum of forecast_autonomous_taxi:\", int(scenario_2_sum_forecast_autonomous_taxi))\n",
    "print(\"Sum of forecast_youtube_short:\", int(scenario_2_sum_forecast_youtube_short))\n",
    "\n",
    "print()\n",
    "print(\"Profit of forecast_autonomous_taxi:\", int(scenario_2_sum_forecast_autonomous_taxi - 3000))\n",
    "print(\"Profit of forecast_youtube_short:\", int(scenario_2_sum_forecast_youtube_short - 3000))\n",
    "\n",
    "print()\n",
    "print(\"Total Profit: \", int(scenario_2_sum_forecast_autonomous_taxi + scenario_2_sum_forecast_youtube_short - 6000))"
   ]
  },
  {
   "cell_type": "code",
   "execution_count": null,
   "metadata": {
    "id": "nRUX9A39tyTQ"
   },
   "outputs": [],
   "source": [
    "import matplotlib.pyplot as plt\n",
    "\n",
    "# Subtract out the cost of the campaign $200 per day\n",
    "scenario_2_forecast_autonomous_taxi = []\n",
    "for item in scenario_2_model_forecast[0]:\n",
    "  scenario_2_forecast_autonomous_taxi.append(item - 200)\n",
    "\n",
    "scenario_2_forecast_youtube_short = []\n",
    "for item in scenario_2_model_forecast[1]:\n",
    "  scenario_2_forecast_youtube_short.append(item - 200)\n",
    "\n",
    "scenario_2_timeline = list(range(1, 16))\n",
    "\n",
    "plt.figure(figsize=(14, 6))\n",
    "\n",
    "# forecast_autonomous_taxin\n",
    "plt.plot(scenario_2_timeline, scenario_2_forecast_autonomous_taxi, label='Autonomous Taxi', marker='s', linestyle='-.', color='#{:02x}{:02x}{:02x}'.format(92, 200, 243))\n",
    "\n",
    "# forecast_youtube_short\n",
    "plt.plot(scenario_2_timeline, scenario_2_forecast_youtube_short, label='Youtube Short', marker='^', linestyle='--', color='#{:02x}{:02x}{:02x}'.format(53, 106, 228))\n",
    "\n",
    "# Set labels and title\n",
    "plt.xlabel('Campaign Day')\n",
    "plt.ylabel('Predicted Sales Increase')\n",
    "plt.title('Predicted Sales Increases (Profit) - $3000 on each Channel')\n",
    "\n",
    "# Legend\n",
    "plt.legend()\n",
    "\n",
    "# Show all values\n",
    "plt.xticks(scenario_2_timeline)\n",
    "\n",
    "# Show the plot\n",
    "plt.tight_layout()\n",
    "plt.show()"
   ]
  },
  {
   "cell_type": "markdown",
   "metadata": {
    "id": "EIXOcpI-wy4j"
   },
   "source": [
    "#### Scenerio 3 - We spend $2000 on all 3 campaigns at the same time"
   ]
  },
  {
   "cell_type": "code",
   "execution_count": null,
   "metadata": {
    "id": "p7hf5OHAwy4k"
   },
   "outputs": [],
   "source": [
    "# Scenario 3 - We spend $2000 on all 3 campaigns at the same time\n",
    "\n",
    "# Scenarios\n",
    "# 1. We spend $2000 on each campaign individually (run each campaign individually)\n",
    "# 2. We spend $3000 on autonomous_taxi and youtube_shorts individually\n",
    "# --> 3. We spend $2000 on all 3 campaigns at the same time\n",
    "\n",
    "# We will run #3, but will run all the campaigns at once. We will have 3 array (a) = (autonomous_taxi, youtube_short, google_mobile_ads)\n",
    "scenario_3_a_autonomous_taxi_cumulative_spend = autonomous_taxi_cumulative_spend.copy()\n",
    "scenario_3_a_autonomous_taxi_campaign_day = autonomous_taxi_campaign_day.copy()\n",
    "scenario_3_a_youtube_short_cumulative_spend = youtube_short_cumulative_spend.copy()\n",
    "scenario_3_a_youtube_short_campaign_day = youtube_short_campaign_day.copy()\n",
    "scenario_3_a_google_mobile_ads_cumulative_spend = google_mobile_ads_cumulative_spend.copy()\n",
    "scenario_3_a_google_mobile_ads_campaign_day = google_mobile_ads_campaign_day.copy()\n",
    "scenario_3_a_sales_increase = sales_increase.copy()\n",
    "\n",
    "# We will spend $2000 on each so we will use $125 a day which is 2000/125 = 16 (so we need to add 16 array elements to our arrays)\n",
    "cumulative_amount = 0\n",
    "day = 0\n",
    "for i in range(16):\n",
    "  cumulative_amount += 125\n",
    "  day = day + 1\n",
    "  scenario_3_a_autonomous_taxi_cumulative_spend.append(cumulative_amount)\n",
    "  scenario_3_a_autonomous_taxi_campaign_day.append(str(day))\n",
    "  scenario_3_a_youtube_short_cumulative_spend.append(cumulative_amount)\n",
    "  scenario_3_a_youtube_short_campaign_day.append(str(day))\n",
    "  scenario_3_a_google_mobile_ads_cumulative_spend.append(cumulative_amount)\n",
    "  scenario_3_a_google_mobile_ads_campaign_day.append(str(day))"
   ]
  },
  {
   "cell_type": "code",
   "execution_count": null,
   "metadata": {
    "id": "pI2b6lvDwy4k"
   },
   "outputs": [],
   "source": [
    "# This is our sales increase data that we want to predict\n",
    "inputs = [scenario_3_a_sales_increase]\n",
    "\n",
    "# These are our categorical covariates (additional factors that we think might influence the thing we're trying to predict).\n",
    "# Here we consider the day of the campaign, how long has it been running, we do not want the model to treat this as an integer so we use a categorical covariate\n",
    "dynamic_categorical_covariates = {\n",
    "    \"autonomous_taxi_campaign_day\" : [scenario_3_a_autonomous_taxi_campaign_day],\n",
    "    \"youtube_short_campaign_day\" : [scenario_3_a_youtube_short_campaign_day],\n",
    "    \"google_mobile_ads_campaign_day\" : [scenario_3_a_google_mobile_ads_campaign_day],\n",
    "}\n",
    "\n",
    "# These are our numerical covariates (additional numeric factors, just like the categories, but numbers)\n",
    "# Here we consider the budget (cummlative spend) of our campaigns\n",
    "dynamic_numerical_covariates = {\n",
    "    \"autonomous_taxi_cumulative_spend\" : [scenario_3_a_autonomous_taxi_cumulative_spend],\n",
    "    \"youtube_short_cumulative_spend\" : [scenario_3_a_youtube_short_cumulative_spend],\n",
    "    \"google_mobile_ads_cumulative_spend\" : [scenario_3_a_google_mobile_ads_cumulative_spend],\n",
    "}\n",
    "\n",
    "# These are our static covariates (additional factors that we think are fixed)\n",
    "static_numerical_covariates = {\n",
    "}\n",
    "\n",
    "# These are our static categorical covariates (additional factors that we think are fixed)\n",
    "static_categorical_covariates = {\n",
    "}\n",
    "\n",
    "# frequency of each context time series. 0 for high frequency (default), 1 for medium, and 2 for low.\n",
    "frequency = [0]\n",
    "\n",
    "# scenario_3_model_forecast, scenario_3_xreg_forecast = model.forecast_with_covariates(\n",
    "#     inputs=inputs,\n",
    "#     dynamic_categorical_covariates=dynamic_categorical_covariates,\n",
    "#     dynamic_numerical_covariates=dynamic_numerical_covariates,\n",
    "#     static_numerical_covariates=static_numerical_covariates,\n",
    "#     static_categorical_covariates=static_categorical_covariates,\n",
    "#     freq=frequency,\n",
    "#     xreg_mode=\"xreg + timesfm\",              # default\n",
    "#     ridge=0.0,\n",
    "#     force_on_cpu=False,\n",
    "#     normalize_xreg_target_per_input=True,    # default\n",
    "# )"
   ]
  },
  {
   "cell_type": "code",
   "execution_count": null,
   "metadata": {
    "id": "7fkz_3P8Elmc"
   },
   "outputs": [],
   "source": [
    "# Create the JSON payload to the Vertex Model Endpoint\n",
    "# You can have multiple array elements under \"instances\" and TimesFM will create a prediction for each\n",
    "# The array elements from above are placed in the payload\n",
    "payload = {\n",
    "  \"instances\": [\n",
    "    {\n",
    "        \"input\": inputs[0],\n",
    "        \"freq\": frequency[0],\n",
    "        \"horizon\": horizon_len,\n",
    "        \"dynamic_numerical_covariates\": {\n",
    "            \"autonomous_taxi_cumulative_spend\": dynamic_numerical_covariates[\"autonomous_taxi_cumulative_spend\"][0],\n",
    "            \"youtube_short_cumulative_spend\": dynamic_numerical_covariates[\"youtube_short_cumulative_spend\"][0],\n",
    "            \"google_mobile_ads_cumulative_spend\": dynamic_numerical_covariates[\"google_mobile_ads_cumulative_spend\"][0],\n",
    "        },\n",
    "        \"dynamic_categorical_covariates\": {\n",
    "            \"autonomous_taxi_campaign_day\": dynamic_categorical_covariates[\"autonomous_taxi_campaign_day\"][0],\n",
    "            \"youtube_short_campaign_day\": dynamic_categorical_covariates[\"youtube_short_campaign_day\"][0],\n",
    "            \"google_mobile_ads_campaign_day\": dynamic_categorical_covariates[\"google_mobile_ads_campaign_day\"][0],\n",
    "        },\n",
    "        \"static_numerical_covariates\": {\n",
    "        },\n",
    "        \"static_categorical_covariates\": {\n",
    "        },\n",
    "        \"xreg_kwargs\": {\n",
    "            \"xreg_mode\" : xreg_mode\n",
    "        }\n",
    "    }\n",
    "  ]\n",
    "}"
   ]
  },
  {
   "cell_type": "code",
   "execution_count": null,
   "metadata": {
    "id": "hJX5_6jbElfq"
   },
   "outputs": [],
   "source": [
    "# Calls TimeFM to make a prediction\n",
    "times_fm_inference = timesFMInference(project_number, endpoint_id, payload)"
   ]
  },
  {
   "cell_type": "code",
   "execution_count": null,
   "metadata": {
    "id": "J2jKMnD5ElcX"
   },
   "outputs": [],
   "source": [
    "# Create an array of forecasted elements\n",
    "scenario_3_model_forecast = [times_fm_inference[\"predictions\"][0][\"point_forecast\"]]"
   ]
  },
  {
   "cell_type": "code",
   "execution_count": null,
   "metadata": {
    "id": "RlUvzRXnwy4l"
   },
   "outputs": [],
   "source": [
    "# Show the predicted values for our campaign, notice how the amounts increase then sort of level off or decrease\n",
    "\n",
    "print(\"$2000 on autonomous_taxi and youtube_short and google_mobile_ads:\", scenario_3_model_forecast[0])"
   ]
  },
  {
   "cell_type": "code",
   "execution_count": null,
   "metadata": {
    "id": "tf6kXngdwy4l"
   },
   "outputs": [],
   "source": [
    "scenario_3_sum_forecast_all = sum(scenario_3_model_forecast[0])\n",
    "\n",
    "print(\"Sum of scenario_3_sum_forecast_all:\", int(scenario_3_sum_forecast_all))\n",
    "\n",
    "print()\n",
    "print(\"Profit of forecast_autonomous_taxi:\", int(scenario_3_sum_forecast_all - 6000))\n",
    "\n",
    "print()\n",
    "print(\"Total Profit: \", int(scenario_3_sum_forecast_all - 6000))"
   ]
  },
  {
   "cell_type": "code",
   "execution_count": null,
   "metadata": {
    "id": "bv_nkMfEwy4l"
   },
   "outputs": [],
   "source": [
    "import matplotlib.pyplot as plt\n",
    "\n",
    "# Subtract out the cost of the campaign $125 per day\n",
    "scenario_3_forecast_all = []\n",
    "for item in scenario_3_model_forecast[0]:\n",
    "  scenario_3_forecast_all.append(item - 125)\n",
    "\n",
    "scenario_3_timeline = list(range(1, 17))\n",
    "\n",
    "plt.figure(figsize=(14, 6))\n",
    "\n",
    "# scenario_3_forecast_all\n",
    "plt.plot(scenario_3_timeline, scenario_3_forecast_all, label='Autonomous Taxi', marker='s', linestyle='-.', color='#{:02x}{:02x}{:02x}'.format(92, 200, 243))\n",
    "\n",
    "# Set labels and title\n",
    "plt.xlabel('Campaign Day')\n",
    "plt.ylabel('Predicted Sales Increase')\n",
    "plt.title('Predicted Sales Increases (Profit) - $2000 on each Channel at the same time')\n",
    "\n",
    "# Legend\n",
    "plt.legend()\n",
    "\n",
    "# Show all values\n",
    "plt.xticks(scenario_3_timeline)\n",
    "\n",
    "# Show the plot\n",
    "plt.tight_layout()\n",
    "plt.show()"
   ]
  },
  {
   "cell_type": "markdown",
   "metadata": {
    "id": "uFpOerwZ1DLb"
   },
   "source": [
    "### <font color='#4285f4'>Which Scenerio is the most Profitable?</font>"
   ]
  },
  {
   "cell_type": "code",
   "execution_count": null,
   "metadata": {
    "id": "RLYDYMZ81Fch"
   },
   "outputs": [],
   "source": [
    "import matplotlib.pyplot as plt\n",
    "\n",
    "# Subtract out the cost of the campaign $6000\n",
    "profits = [ int(scenario_1_sum_forecast_autonomous_taxi + scenario_1_sum_forecast_youtube_short + scenario_1_sum_forecast_google_mobile_ads - 6000) ,\n",
    "            int(scenario_2_sum_forecast_autonomous_taxi + scenario_2_sum_forecast_youtube_short - 6000),\n",
    "            int(scenario_3_sum_forecast_all - 6000)]\n",
    "\n",
    "print(f\"Profits: {profits}\")\n",
    "\n",
    "labels = ['Scenario 1', 'Scenario 2', 'Scenario 3']\n",
    "\n",
    "plt.figure(figsize=(14, 6))\n",
    "plt.bar(labels, profits, color=['skyblue', 'lightgreen', 'coral'], label=labels)\n",
    "\n",
    "# Set labels and title\n",
    "plt.xlabel('Scenario')\n",
    "plt.ylabel('Predicted Sales Increase')\n",
    "plt.title('Predicted Sales Increases (Profit) per Scenario')\n",
    "\n",
    "# Legend\n",
    "plt.legend()\n",
    "\n",
    "# Show all values\n",
    "plt.xticks()\n",
    "\n",
    "# Show the plot\n",
    "plt.tight_layout()\n",
    "plt.show()"
   ]
  },
  {
   "cell_type": "markdown",
   "metadata": {
    "id": "42IxhtRRrvR-"
   },
   "source": [
    "### <font color='#4285f4'>Clean Up</font>"
   ]
  },
  {
   "cell_type": "markdown",
   "metadata": {
    "id": "0vwe2gwcFDMU"
   },
   "source": [
    "**To save on costs:**\n",
    "\n",
    "1. Open Vertex Model Registry\n",
    "   - https://console.cloud.google.com/vertex-ai/models\n",
    "2. Click on the model name\n",
    "3. Under \"Deploy your model\" click the 3 dots and select \"Undeploy Model\"\n",
    "4. Under \"Deploy your model\" click the 3 dots and select \"Delete Endpoint\"\n",
    "5. Go back one screen and click the 3 dots and select \"Delete Model\"\n"
   ]
  },
  {
   "cell_type": "markdown",
   "metadata": {
    "id": "ASQ2BPisXDA0"
   },
   "source": [
    "### <font color='#4285f4'>Reference Links</font>\n"
   ]
  },
  {
   "cell_type": "markdown",
   "metadata": {
    "id": "pnZSga5T-ZhZ"
   },
   "source": [
    "- [GitHub](https://github.com/google-research/timesfm)\n",
    "- [Vertex AI Model Garden](https://console.cloud.google.com/vertex-ai/publishers/google/model-garden/timesfm)"
   ]
  }
 ],
 "metadata": {
  "colab": {
   "collapsed_sections": [
    "5DgdyRcgxV0U",
    "HMsUvoF4BP7Y",
    "__DhjLYSxk0y",
    "m65vp54BUFRi",
    "sZ6m_wGrK0YG",
    "JbOjdSP1kN9T",
    "k5rxqRTXx4RL",
    "VpzggEwPx-BS",
    "A2zlM9W33G-y",
    "wGcw1Yly3RBq",
    "THUWaEk63d3x",
    "EYRHDPdVKBzd",
    "pQBQiWoktmQG",
    "INwm-LkFrz9i",
    "EIXOcpI-wy4j",
    "42IxhtRRrvR-",
    "ASQ2BPisXDA0"
   ],
   "name": "Create-Campaign-Target-Channels",
   "private_outputs": true,
   "provenance": []
  },
  "kernelspec": {
   "display_name": "Python 3",
   "name": "python3"
  },
  "language_info": {
   "name": "python"
  }
 },
 "nbformat": 4,
 "nbformat_minor": 0
}
